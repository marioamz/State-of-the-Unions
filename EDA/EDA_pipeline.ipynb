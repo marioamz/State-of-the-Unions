{
 "cells": [
  {
   "cell_type": "markdown",
   "metadata": {},
   "source": [
    "Libraries"
   ]
  },
  {
   "cell_type": "code",
   "execution_count": 1,
   "metadata": {},
   "outputs": [],
   "source": [
    "import read_data as rd\n",
    "import importlib\n",
    "importlib.reload(rd)\n",
    "import nltk\n",
    "import collections\n",
    "from nltk.tokenize import sent_tokenize, word_tokenize\n",
    "from nltk.corpus import stopwords\n",
    "from nltk.tokenize import RegexpTokenizer\n",
    "import matplotlib.pyplot as plt\n",
    "import seaborn as sns\n",
    "import pandas as pd\n",
    "from collections import Counter"
   ]
  },
  {
   "cell_type": "markdown",
   "metadata": {},
   "source": [
    "If you want by president and year, put \"by pres year\". If you want by president only, put \"by pres\". If you want by overall, put \"overall\"."
   ]
  },
  {
   "cell_type": "code",
   "execution_count": null,
   "metadata": {},
   "outputs": [],
   "source": [
    "s_keys = speeches.keys()\n",
    "count = collections.defaultdict(dict)\n",
    "presidents = rd.make_dict(speeches, s_keys, count, \"by pres\") "
   ]
  },
  {
   "cell_type": "markdown",
   "metadata": {},
   "source": [
    "### Top Non-Stop Words Across All Presidents"
   ]
  },
  {
   "cell_type": "code",
   "execution_count": null,
   "metadata": {},
   "outputs": [],
   "source": [
    "\"\"\"count = collections.defaultdict(dict)\n",
    "overall_counts = rd.make_dict(speeches, s_keys, count, \"overall\") \n",
    "\n",
    "top_list = sorted(overall_counts, key=overall_counts.get, reverse=True)[:30]\n",
    "top_five = {word:val for word,val in overall_counts.items() if word in top_list}\n",
    "dataframe= pd.DataFrame(top_five.items(), columns=['Words', 'Count'])\n",
    "plot = sns.barplot(x=\"Words\", y=\"Count\", data=dataframe, order = top_list).set_title(\"Top 30 Words Across All Presidents\")\n",
    "plt.xticks(rotation=90)\n",
    "plt.show()\"\"\""
   ]
  }
 ],
 "metadata": {
  "kernelspec": {
   "display_name": "Python 3",
   "language": "python",
   "name": "python3"
  },
  "language_info": {
   "codemirror_mode": {
    "name": "ipython",
    "version": 3
   },
   "file_extension": ".py",
   "mimetype": "text/x-python",
   "name": "python",
   "nbconvert_exporter": "python",
   "pygments_lexer": "ipython3",
   "version": "3.7.3"
  }
 },
 "nbformat": 4,
 "nbformat_minor": 2
}
