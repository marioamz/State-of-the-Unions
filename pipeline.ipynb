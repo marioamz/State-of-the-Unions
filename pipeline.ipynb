{
 "cells": [
  {
   "cell_type": "markdown",
   "metadata": {},
   "source": [
    "## Global To Dos:\n",
    "* read paper\n",
    "* [steps document](https://docs.google.com/document/d/1du2fcmVzTqnW0FWGmUxvpR2t6QEfwxDIrHSZs9k3HZM/edit?usp=sharing)"
   ]
  },
  {
   "cell_type": "markdown",
   "metadata": {},
   "source": [
    "Section 1: Load and Preprocess Data"
   ]
  },
  {
   "cell_type": "code",
   "execution_count": 12,
   "metadata": {},
   "outputs": [],
   "source": [
    "import read_data as rd\n",
    "import importlib\n",
    "importlib.reload(rd)\n",
    "import nltk\n",
    "import collections\n",
    "from nltk.tokenize import sent_tokenize, word_tokenize\n",
    "from nltk.corpus import stopwords\n",
    "from nltk.tokenize import RegexpTokenizer\n",
    "import matplotlib.pyplot as plt\n",
    "import seaborn as sns\n",
    "import pandas as pd\n",
    "from collections import Counter"
   ]
  },
  {
   "cell_type": "code",
   "execution_count": 13,
   "metadata": {},
   "outputs": [],
   "source": [
    "#PATH = 'C:/Users/Alix/Documents/UChicago/MLPP2019/State-of-the-Unions/Data/' # Alix Path\n",
    "PATH = 'SOTU/'\n",
    "#PATH = '/Users/aleistermontfort/Desktop/speeches' # Aleister Path\n",
    "filetype = '*txt'"
   ]
  },
  {
   "cell_type": "code",
   "execution_count": 14,
   "metadata": {},
   "outputs": [],
   "source": [
    "# Speeches to dictionary\n",
    "speeches = rd.reading_data(PATH,'*.txt')"
   ]
  },
  {
   "cell_type": "code",
   "execution_count": 15,
   "metadata": {},
   "outputs": [],
   "source": [
    "# POS tagging and chunking using spacy\n",
    "new_speeches = rd.chunks(speeches)"
   ]
  },
  {
   "cell_type": "code",
   "execution_count": 17,
   "metadata": {},
   "outputs": [
    {
     "name": "stdout",
     "output_type": "stream",
     "text": [
      "[Mr. Speaker, Mr. President, distinguished Members, the Congress, honored guests, fellow citizens, Today, my first State, the Union address, you, a constitutional duty, our Republic, itself, President Washington, this tradition, the Nation, the destiny, self-government, the \"preservation, the sacred fire, liberty, the experiment, the hands, the American people, our friends, the press, who, a high premium, accuracy, me, I, George Washington, it, a matter, historic record, this podium, Winston Churchill, the free world, the onslaught, aggression, Franklin Delano Roosevelt, a day, a nation, arms, Douglas MacArthur, an unforgettable farewell, a country, he, Dwight Eisenhower, us, peace, the price, strength, John F. Kennedy, the burden, glory, freedom, I, this Chamber, a newcomer, Washington, past policies, I, I, a new spirit, partnership, this Congress, this administration, Washington, our State and local governments, this new partnership, America, we, the oldest hopes, our Republic, prosperity, our nation, peace, the world, the blessings, individual liberty, our children, humanity, It, my duty, you, the progress, we, our relations, other nations, the foundation, we, our economic recovery, a bold and spirited initiative, I, the face, American government, it, the servant, the people, the stakes, America, What, we, all the difference, autoworkers, Detroit, lumberjacks, the Northwest, steelworkers, Steubenville, who, the unemployment lines, black teenagers, Newark, Chicago, hard-pressed farmers, small businessmen, millions, everyday Americans, who, the simple wish, a safe and financially secure future, their children, the state, the Union, we, we, we, we, The situation, this time, The last decade, a series, recessions, a recession, the spring, unemployment, inflation, We, the word \"stagflation, Government's response, these recessions, the money supply, spending, the last 6 months, an example, the money supply, the fastest rate, postwar history--13 percent, Inflation, double digits, government spending, an annual rate, 17 percent, Interest rates, a staggering 21.5 percent, we, the present recession, continued high interest rates, the auto industry, construction, a drop, productivity, the already high unemployment, things, We, an economic program, place, the artificial quick fixes, the past, It, a reduction, the rate, increase, government spending, that rate, half, the first and smallest phase, a 3-year tax rate reduction, the economy, jobs, interest rates, 15 3/4 percent, they, Inflation, 12.4 percent, the month, December, it, an annualized rate, 5.2 percent, we, we, things, all Americans, they, Inflation, taxes, interest rates, Americans' faith, their governmental process, Six out of 10 Americans, they, their future, A new kind, defeatism, our domestic problems, we, this seemingly endless cycle, high inflation, high unemployment, pessimistic predictions, the relationship, our administration, this Congress, It, we, those predictions, The record, I, history, an era, American renewal, this administration, an administration, change, this Congress, a Congress, destiny, we, the increase, we, the largest tax reductions, the most sweeping changes, our tax structure, the beginning, this century, we, future taxes, the rate, inflation, we, government's built-in profit, inflation, its hidden incentive, the expense, American workers, 50 years, power, the hands, the people, their States, local communities, we, power, resources, them, we, the growth, new Federal regulations, half, 23,000 fewer pages, the Federal Register, new regulations, oil, we, energy independence, the cost, gasoline and heating fuel, we, an effective Federal strike force, waste, fraud, government, just 6 months, it, the taxpayers, it, we, the private sector, wasteful and discredited government programs, thousands, Americans, a volunteer effort, America's social problems, we, that margin, military safety, peace, Our country's uniform, pride, we, a New Beginning, we, No one, the way, my Inaugural Address, I, the \"ills, we, us, several decades, They, days, weeks, months, they, we, Americans, the capacity, we, it, the past, this last and greatest bastion, freedom, The economy, difficult moments, the months, the program, economic recovery, place, the economy, its slump, us, the road, prosperity, stable growth, the latter half, this year, I, you, the near future, the state, the Union, the economy, we, the strength, the course, we, And so, the question, the fundamentals, place, Well, two things, we, what, the moment, the economy, Our current problems, the product, the recovery program, you, they, the inheritance, decades, tax, tax, our economic problems, quick political fixes, we, our carefully integrated plan, recovery, That plan, four commonsense fundamentals, continued reduction, the growth, Federal spending, the individual and business tax reductions, saving, investment, unnecessary Federal regulations, productivity, a healthy dollar, a stable monetary policy, the latter a responsibility, the Federal Reserve System, The only alternative, this economic program, a return, the policies, us, a trillion-dollar debt, runaway inflation, runaway interest rates, unemployment, The doubters, us, the clock, tax increases, the personal tax rate reductions, this Congress, taxes, future deficits, they, us, I, we, that argument, too many imponderables, anyone, deficits, any degree, accuracy, The budget, place, I, office, It, the biggest deficits, history, Another example, the imponderables, deficit projections, a change, only one percentage point, unemployment, a deficit, it, our forecast, we, law, major deficits, less than a hundred billion dollars, we, progress, the three keys, deficits, economic growth, lower interest rates, spending control, The policies, we, place, the deficit, time, Higher taxes, lower deficits, they, we, tax revenues, that same 6-year period, we, the largest series, deficits, our history, 1980 tax revenues, we, our all-time biggest deficits, taxes, the budget, it, more government spending, less private investment, taxes, economic growth, production, future jobs, it, jobs, them, who, jobs, them, I, you, the budget, the backs, the American taxpayers, I, no tax increases, I, no intention, our basic program, tax relief, I, the American people, their tax rates, them, them, incentives, our economy, America's future, I, my word, I, the American people, these new opportunities, we, this economy, freedom, hope, prosperity, the budget deficit, our earlier expectations, The recession, It, revenues, increased costs, some extent, we, victims, our own success, We, inflation, we, we, we, government, those hidden revenues, inflation, people, higher income tax brackets, the continued high interest rates, the government, We, more nonessential government spending, more waste, we, our efforts, the number, employees, the Federal work force, The budget plan, I, you, February 8th, major savings, the Departments, Energy, Education, ineffective subsidies, business, We, our resources, our two highest budget priorities, a strong national defense, America, peace, a reliable safety net, social programs, who, who, need, the wild charges, you, this administration, its back, the new budget, social insurance programs, more than double the amount, it, any programs, The entitlement programs, our safety net, worthy goals, many deserving recipients, We, them, only one way, it, these programs, whom, they, their spiraling costs, control, we, the absurd situation, a Federal budget, three-quarters, its expenditures, a large part, entitlement programs, Committee, committee, this Congress, witness, witness, these programs, waste, fraud, every American, who, a local supermarket, the daily abuses, place, the food stamp program, 16,000 percent, the last 15 years, Another example, Medicare, Medicaid, programs, worthy goals, whose costs, just 10 years, Waste, fraud, serious problems, Federal investigators, your committees, corruption, every area, the Medicare and Medicaid health care industry, One official, the people, who, the system, nothing, them, something, the taxpayers, the people, real dependency, these programs, what, they, available resources, the needy, The time, August, we, a start, I, a bill, the growth, these programs, the next 3 years, the same time, essential services, you, me, a message, further reforms, we, others, your own congressional committees, I, you, these savings, the American taxpayer, The savings, we, entitlement programs, 4 Years, social t security, Federal spending, control, who, spending cuts, the needy, the helpless, Federal Government, 95 million meals, all the meals, America, Head Start, senior nutrition programs, child welfare programs, the levels, we, More than one-half billion dollars, minority business assistance, research, the National Institute, Health, all these needs, we, unwarranted tax loopholes, the law, all large corporations, a minimum tax, I, the economic program, we, operation, the needy, it, a recovery, all Americans, It, the economy, increased savings, capital, expansion, mortgages, homebuilding, jobs, the essentials, that program, place, our next major undertaking, a program, government, the people, our system, federalism, Our citizens, they, control, even the most basic decisions, the essential services, government, schools, welfare, roads, even garbage collection, they, A maze, jurisdictions, levels, government confronts, average citizens, problems, They, answers, who, who, who, who, The main reason, the overpowering growth, aid, the past few decades, the Federal Government, 132 categorical grant programs, I, office, nearly a hundred billion dollars--13 programs, energy, pollution control, social services, education, the Congress, it, at least 166 committees, track, them, You, I, neither the President, the Congress, this jungle, grants, aid, the growth, these grants, the distortion, the vital functions, government, one Democratic Governor, it, The National Government, \"arms control, potholes, The growth, these Federal programs, the words, one intergovernmental commission, the Federal Government, 's, this problem, a single, bold stroke, the return, Federal programs, State and local government, the means, them, a transition period, nearly 10 years, unnecessary disruption, I, this Congress, a message, this program, I, its full details, close consultation, congressional, State, and local officials, the Federal Government, full responsibility, the cost, the rapidly growing Medicaid program, its existing responsibility, Medicare, part, a financially equal swap, the States, full responsibility, Aid, Families, Dependent Children, food stamps, welfare, genuine need, it, the grass roots, the people, it, the Federal Government, the full proceeds, certain excise taxes, a grass roots trust fund, fair shares, the 50 States, The total amount, this fund, the next 4 years, the States, this money, two ways, they, Federal grants, such areas, transportation, education, social services, they, their trust fund money, the grants, the extent, they, the Federal grant programs, they, their trust fund money, other purposes, a mandatory pass-through, part, these funds, local governments, the States, complete control, over 40 Federal grant programs, The trust fund, the excise taxes, the States, They, taxes, fund, these programs, they, a single stroke, we, a realignment, cumbersome administration, spiraling costs, the Federal level, we, these programs, both the people, they, the people, who, them, hand, this program, the discretion, flexibility, State and local governments, we, legislation, an experimental effort, our depressed urban areas, '90's, This legislation, States, localities, the Federal Government, designation, urban enterprise zones, A broad range, special economic incentives, the zones, new business, new jobs, new opportunity, America's inner cities, rural towns, our mission, free enterprise, I, we, enterprise, we, America, our States, local communities, the challenge, a new and creative partnership, reforms, reapportionment, the Voting Rights Act, the 10-year extension, I, It, This administration, faith, State and local governments, the constitutional balance, the Founding Fathers, We, the integrity, decency, , good sense, grass roots Americans, Our faith, the American people, another major endeavor, Our private sector initiatives task force, successful community models, school, church, business, union, foundation, civic programs, Such groups, government, social programs, We, them, government programs, dollar, service, We, them, the good works, they, others, their example, Three hundred and eighty-five thousand corporations, private organizations, social programs, drug rehabilitation, job training, thousands, us, they, The volunteer spirit, America, Our nation's long journey, civil rights, all our citizens, once a source, discord, now a source, pride, no backsliding, We, those basic laws, equal rights, Our concern, equal rights, women, We, a new Task Force, Legal Equity, Women, a Fifty States Project, State laws, discriminatory language, the first time, our history, a woman, the highest court, the land, So, too, the problem, crime, America, It, we, transformation, our legal system, the rights, criminals, it, society, the innocent victims, crime, justice, We, the enactment, a responsible clean air act, jobs, the quality, our air, We, the bipartisan initiative, the House, further progress, the Senate, its deliberations, I, domestic matters, the state, the Union, perspective, we, the rest, the world, time, a lengthy treatment, social--or foreign policy, I, a subject, I, detail, the near future, A few words, order, the progress, we, the past year, respect, our nation, the globe, the challenges, goals, we, the year, Ottawa, Cancun, I, leaders, the major industrial powers, developing nations, I, I, America's wealth, I, the strength, the free marketplace system, that system, them, their aspirations, economic development, political freedom, I, lasting friendships, the foundation, future cooperation, the vital region, the Caribbean Basin, we, a program, aid, trade, investment incentives, self-sustaining growth, a better, more secure life, our neighbors, the south, who, terrorism, subversion, the Caribbean, especially Cuba, Libya, we, firmness, Our foreign policy, a policy, strength, fairness, balance, America's military credibility, peace, the negotiating table, both sides, good faith, the respect, America's allies, adversaries, we, our country's position, a force, peace, progress, the world, action, we, it, Our sanctions, the military dictatorship, human rights, Poland, the Soviet regime, that military dictatorship, the world, America, \"business, the forces, oppression, the events, Poland, further measures, me, private American groups, the lead, January 30th, solidarity, the people, Poland, the European Parliament, March 21st, an international day, support, Afghanistan, I, all peace-loving peoples, those days, their voices, freedom, we, reduction, arms, military activities, I, my address, the Nation, We, the Soviet Union, a far-reaching agenda, mutual reduction, military forces, negotiations, them, Geneva, intermediate-range nuclear forces, those talks, it, we, a position, strength, a real incentive, the Soviets, these talks, we, our defenses, the last decade, we, the moderation, Soviet power, a process, restraint, accommodation, the Soviets, an unrelenting buildup, their military forces, The protection, our national security, we, a substantial program, our military forces, We, our traditional alliances, Europe, Asia, key relationships, our partners, the Middle East, other countries, a more peaceful world, a sound strategy, the national resolve, it, radical forces, our friends, economic misfortune, conditions, instability, strategically vital parts, the world, the shadow, Soviet power, our response, the difference, peaceful change, disorder, violence, we, such stress, our own defense, our vital foreign assistance program, Your recent passage, the Foreign Assistance Act, a signal, the world, America, the investments, both peace, security, Our foreign policy, realism, A recognition, what, the Soviet empire, the starting point, Winston Churchill, the Soviets, they, only strength, their dealings, other nations, we, our national defenses, We, the peace, We, our freedom, We, pledges, a new frankness, our public statements, worldwide broadcasts, the face, a climate, falsehood, misinformation, we, the world, a season, truth, the truth, our great civilized ideas, individual liberty, representative government, the rule, law, God, We, walls, minefields, barbed wire, our people, we, martial law, our people, the kind, government, they, we, our problems, we, a time, recession, it, no quick fix, I, the tragic pain, unemployment, we, it, The process, we, its effect, the year, We, pride, admiration, that little band, Americans, who, insuperable odds, this nation, course, our glory, them, Americans, their deeds, We, our history books, heroes, They, us, who, you, that heroism, the end, the longest imprisonment, men, our Armed Forces, Who, we, television, us, the scene, that first plane landing, Clark Field, the Philippines, our POW's home, The plane door, Jeremiah Denton, the ramp, He, sight, our flag, it, \"God, America, us, him, the midst, a terrible tragedy, the Potomac, we, the spirit, American heroism, the heroism, dedicated rescue workers, crash victims, icy waters, we, the heroism, our young government employees, Lenny Skutnik, he, a woman, her grip, the helicopter line, the water, her, safety, countless, quiet, everyday heroes, American, who, their children, a better life, they, church and civic volunteers, who, millions, who, our nation, our nation's destiny, so very special--unsung heroes, who, their own dreams, who, those dreams, their children, anyone, you, America's best days, her, the American spirit, We, it, our lives, it, all our Presidents, his second State, the Union message, this Chamber, We, history, Abraham Lincoln, We, this Congress, this administration, spite, ourselves, The \"trial, we, us, honor, dishonor, the latest (last) generation, Congress, the American people, they, the storm, the Union, it, us, we, we, America, difficult times, us, ourselves, two centuries, another Congress, another President, this Chamber, we, us, pride, we, the test, them, their day, the sacred flame, liberty, this last, best hope, man, Earth, God, you, you, NOTE, The President, 9 p.m., the House Chamber, the Capitol, He, Thomas P. O'Neill, Jr., Speaker, the House, Representatives, The address, nationwide radio, television]\n"
     ]
    }
   ],
   "source": [
    "for k, v in new_speeches.items():\n",
    "    print(v)\n",
    "    break"
   ]
  },
  {
   "cell_type": "code",
   "execution_count": null,
   "metadata": {},
   "outputs": [],
   "source": [
    "# lemmatize words"
   ]
  },
  {
   "cell_type": "code",
   "execution_count": null,
   "metadata": {},
   "outputs": [],
   "source": [
    "# lemmatize multi-terms example: “health care costs,” “cost of health care,” “costs of health care,” “health care costs”"
   ]
  },
  {
   "cell_type": "code",
   "execution_count": null,
   "metadata": {},
   "outputs": [],
   "source": [
    "# handling of special cases - are they included in our data?"
   ]
  },
  {
   "cell_type": "markdown",
   "metadata": {},
   "source": []
  },
  {
   "cell_type": "code",
   "execution_count": null,
   "metadata": {},
   "outputs": [],
   "source": [
    "# feature engineering"
   ]
  },
  {
   "cell_type": "code",
   "execution_count": null,
   "metadata": {},
   "outputs": [],
   "source": [
    "# models"
   ]
  },
  {
   "cell_type": "code",
   "execution_count": null,
   "metadata": {},
   "outputs": [],
   "source": [
    "# hyper parameter tuning"
   ]
  }
 ],
 "metadata": {
  "kernelspec": {
   "display_name": "Python 3",
   "language": "python",
   "name": "python3"
  },
  "language_info": {
   "codemirror_mode": {
    "name": "ipython",
    "version": 3
   },
   "file_extension": ".py",
   "mimetype": "text/x-python",
   "name": "python",
   "nbconvert_exporter": "python",
   "pygments_lexer": "ipython3",
   "version": "3.7.1"
  }
 },
 "nbformat": 4,
 "nbformat_minor": 2
}
