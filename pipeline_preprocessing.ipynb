{
 "cells": [
  {
   "cell_type": "markdown",
   "metadata": {},
   "source": [
    "## Global To Dos:\n",
    "* read paper\n",
    "* [steps document](https://docs.google.com/document/d/1du2fcmVzTqnW0FWGmUxvpR2t6QEfwxDIrHSZs9k3HZM/edit?usp=sharing)"
   ]
  },
  {
   "cell_type": "markdown",
   "metadata": {},
   "source": [
    "Section 1: Load and Preprocess Data"
   ]
  },
  {
   "cell_type": "code",
   "execution_count": 21,
   "metadata": {},
   "outputs": [],
   "source": [
    "import utils_preprocessing as up\n",
    "import importlib\n",
    "importlib.reload(up)\n",
    "from itertools import groupby\n",
    "import yaml\n",
    "import os\n",
    "import textdistance\n",
    "import pandas as pd\n",
    "pd.options.mode.chained_assignment = None"
   ]
  },
  {
   "cell_type": "markdown",
   "metadata": {},
   "source": [
    "Read in YAML and make PATH"
   ]
  },
  {
   "cell_type": "code",
   "execution_count": 2,
   "metadata": {},
   "outputs": [
    {
     "name": "stderr",
     "output_type": "stream",
     "text": [
      "C:\\Users\\Alix\\AppData\\Local\\Continuum\\anaconda3\\lib\\site-packages\\ipykernel_launcher.py:2: YAMLLoadWarning: calling yaml.load() without Loader=... is deprecated, as the default Loader is unsafe. Please read https://msg.pyyaml.org/load for full details.\n",
      "  \n"
     ]
    }
   ],
   "source": [
    "with open(\"config.yml\", 'r') as ymlfile:\n",
    "    cfg = yaml.load(ymlfile)\n",
    "\n",
    "PATH = os.path.join(cfg['data']['Directory'] + \":\" + os.sep, cfg['data']['Folder1'], cfg['data']['Folder2'], cfg['data']['Folder3']) # Alix Path\n",
    "\n",
    "#PATH = 'SOTU/'\n",
    "#PATH = '/Users/aleistermontfort/Desktop/speeches' # Aleister Path\n",
    "filetype = '*txt'"
   ]
  },
  {
   "cell_type": "markdown",
   "metadata": {},
   "source": [
    "Read in Data"
   ]
  },
  {
   "cell_type": "code",
   "execution_count": 3,
   "metadata": {},
   "outputs": [],
   "source": [
    "speeches = up.reading_data(PATH,'*.txt')"
   ]
  },
  {
   "cell_type": "markdown",
   "metadata": {},
   "source": [
    "Create Noun Phrases"
   ]
  },
  {
   "cell_type": "code",
   "execution_count": 4,
   "metadata": {
    "scrolled": true
   },
   "outputs": [],
   "source": [
    "new_speeches = up.chunks(speeches)"
   ]
  },
  {
   "cell_type": "markdown",
   "metadata": {},
   "source": [
    "Clean Words"
   ]
  },
  {
   "cell_type": "code",
   "execution_count": 5,
   "metadata": {},
   "outputs": [],
   "source": [
    "clean_speeches = up.clean_words(new_speeches)"
   ]
  },
  {
   "cell_type": "markdown",
   "metadata": {},
   "source": [
    "Lemmatize Words"
   ]
  },
  {
   "cell_type": "code",
   "execution_count": 6,
   "metadata": {
    "scrolled": false
   },
   "outputs": [],
   "source": [
    "words_changed = up.word_changes(clean_speeches, 0.5, 100)"
   ]
  },
  {
   "cell_type": "code",
   "execution_count": 7,
   "metadata": {},
   "outputs": [],
   "source": [
    "phrases_lemmed = up.lemmed_phrases(words_changed, clean_speeches)"
   ]
  },
  {
   "cell_type": "markdown",
   "metadata": {},
   "source": [
    "Counting Occurrence of Terms"
   ]
  },
  {
   "cell_type": "code",
   "execution_count": 8,
   "metadata": {},
   "outputs": [],
   "source": [
    "counted_words = up.count_words(phrases_lemmed)"
   ]
  },
  {
   "cell_type": "markdown",
   "metadata": {},
   "source": [
    "Limit List to Top 1000"
   ]
  },
  {
   "cell_type": "code",
   "execution_count": 9,
   "metadata": {},
   "outputs": [],
   "source": [
    "top_words = up.top_x(counted_words, 1000)"
   ]
  },
  {
   "cell_type": "markdown",
   "metadata": {},
   "source": [
    "limit paragraph phrases only to those in top 1000"
   ]
  },
  {
   "cell_type": "code",
   "execution_count": 11,
   "metadata": {},
   "outputs": [],
   "source": [
    "limited_paragraphs = up.limit(clean_speeches, top_words)"
   ]
  },
  {
   "cell_type": "code",
   "execution_count": 22,
   "metadata": {
    "scrolled": true
   },
   "outputs": [],
   "source": [
    "tfidfs = up.corpus_tfidf(limited_paragraphs, counted_words, top_words)"
   ]
  },
  {
   "cell_type": "code",
   "execution_count": 23,
   "metadata": {},
   "outputs": [],
   "source": [
    "periods = up.periodization(tfidfs)"
   ]
  },
  {
   "cell_type": "code",
   "execution_count": 24,
   "metadata": {},
   "outputs": [
    {
     "data": {
      "image/png": "[encoded data removed]",
      "text/plain": [
       "<Figure size 432x288 with 1 Axes>"
      ]
     },
     "metadata": {
      "needs_background": "light"
     },
     "output_type": "display_data"
    }
   ],
   "source": [
    "import matplotlib.pylab as plt\n",
    "import matplotlib.ticker as ticker\n",
    "\n",
    "lists = sorted(periods.items()) # sorted by key, return a list of tuples\n",
    "x, y = zip(*lists) # unpack a list of pairs into two tuples\n",
    "\n",
    "ax = plt.axes()\n",
    "ax.xaxis.set_major_locator(ticker.MultipleLocator(20))\n",
    "\n",
    "plt.plot(x, y)\n",
    "plt.show()"
   ]
  },
  {
   "cell_type": "code",
   "execution_count": 25,
   "metadata": {},
   "outputs": [
    {
     "data": {
      "text/plain": [
       "[('1793', -0.333734730547787),\n",
       " ('2017', -0.3332256698592469),\n",
       " ('1794', -0.3330908672523931),\n",
       " ('1795', -0.33245574912156556),\n",
       " ('1796', -0.3324293134724483),\n",
       " ('1806', -0.3322116442499402),\n",
       " ('1808', -0.33212237759450536),\n",
       " ('1807', -0.3320784152237905),\n",
       " ('1809', -0.3320561853295985),\n",
       " ('2012', -0.33191131989059514),\n",
       " ('2016', -0.3318258134091256),\n",
       " ('1797', -0.33181860453573747),\n",
       " ('2013', -0.33169989092715535),\n",
       " ('1810', -0.33163207175981846),\n",
       " ('1805', -0.33160612512736976),\n",
       " ('1811', -0.33129494830542916),\n",
       " ('1813', -0.33109668701095774),\n",
       " ('2011', -0.3310873360958457),\n",
       " ('1798', -0.3310393008539828),\n",
       " ('1804', -0.33098659805542996),\n",
       " ('1814', -0.3308566018246567),\n",
       " ('1812', -0.3308199328420453),\n",
       " ('2009', -0.33069245437559247),\n",
       " ('1815', -0.33063775774899773),\n",
       " ('1816', -0.33061728547213226),\n",
       " ('2010', -0.3305765716992727),\n",
       " ('1817', -0.3304890207936141),\n",
       " ('1799', -0.3303054072363184),\n",
       " ('2015', -0.33028274314243106),\n",
       " ('1818', -0.3302297784126855),\n",
       " ('1803', -0.330217295118865),\n",
       " ('2008', -0.33020801908811764),\n",
       " ('1802', -0.3301993192004326),\n",
       " ('1819', -0.3299062065686357),\n",
       " ('1800', -0.32961098899818614),\n",
       " ('2007', -0.32953588460814204),\n",
       " ('1801', -0.32942131279247383),\n",
       " ('1820', -0.3294045296874734),\n",
       " ('2014', -0.32928301179129),\n",
       " ('1821', -0.32920480241068356),\n",
       " ('2006', -0.32880466813737913),\n",
       " ('1822', -0.32871176870128993),\n",
       " ('2005', -0.32836932219592246),\n",
       " ('1823', -0.32836549758291295),\n",
       " ('1824', -0.3280063041643758),\n",
       " ('1825', -0.32787458268398445),\n",
       " ('2004', -0.32772150238951847),\n",
       " ('1826', -0.32757729165082444),\n",
       " ('1827', -0.3270560436876372),\n",
       " ('2003', -0.32704255710271823),\n",
       " ('2000', -0.3269879785817458),\n",
       " ('2001', -0.32679685348484566),\n",
       " ('1828', -0.32652897447427937),\n",
       " ('1999', -0.3265234738521265),\n",
       " ('1833', -0.32647870596382855),\n",
       " ('1832', -0.3262728912717975),\n",
       " ('1829', -0.32616713722900537),\n",
       " ('2002', -0.32616153855369645),\n",
       " ('1830', -0.3261612413276476),\n",
       " ('1998', -0.3260797405637783),\n",
       " ('1831', -0.3260523548133964),\n",
       " ('1834', -0.3259217416959492),\n",
       " ('1835', -0.32550866128931344),\n",
       " ('1997', -0.3251747212538107),\n",
       " ('1836', -0.3250472764553393),\n",
       " ('1837', -0.3250037501472603),\n",
       " ('1840', -0.32489013681550016),\n",
       " ('1841', -0.324849929219549),\n",
       " ('1996', -0.3247441701456979),\n",
       " ('1838', -0.3246430326939539),\n",
       " ('1842', -0.32450660205883614),\n",
       " ('1843', -0.3242043054503491),\n",
       " ('1995', -0.3241778657242063),\n",
       " ('1839', -0.32409260996351463),\n",
       " ('1844', -0.32381974632275795),\n",
       " ('1994', -0.32350390073774293),\n",
       " ('1845', -0.3234351902098377),\n",
       " ('1993', -0.32331576611850943),\n",
       " ('1992', -0.3229808905283429),\n",
       " ('1846', -0.32285566399046384),\n",
       " ('1847', -0.32238443611672346),\n",
       " ('1991', -0.32222522163257594),\n",
       " ('1848', -0.3219215399713125),\n",
       " ('1849', -0.3216344468691142),\n",
       " ('1990', -0.32134728891465125),\n",
       " ('1850', -0.32108840086970736),\n",
       " ('1851', -0.32066257881268284),\n",
       " ('1989', -0.32028272879325476),\n",
       " ('1852', -0.32000298843166536),\n",
       " ('1853', -0.3195955634577451),\n",
       " ('1988', -0.3193708206903749),\n",
       " ('1854', -0.31910770581109993),\n",
       " ('1987', -0.3189886814902292),\n",
       " ('1855', -0.31848582021211397),\n",
       " ('1986', -0.3178935181335828),\n",
       " ('1856', -0.3178094713480358),\n",
       " ('1857', -0.3170579789502863),\n",
       " ('1985', -0.3167757069768073),\n",
       " ('1858', -0.3165406171640098),\n",
       " ('1859', -0.31583049203379593),\n",
       " ('1984', -0.3156695602916372),\n",
       " ('1860', -0.3152422265870868),\n",
       " ('1982', -0.31514466299979527),\n",
       " ('1861', -0.3146524975329766),\n",
       " ('1983', -0.31452229911878543),\n",
       " ('1862', -0.3143445552390085),\n",
       " ('1863', -0.3138915119770014),\n",
       " ('1981', -0.3137220275500459),\n",
       " ('1980', -0.31352533400561217),\n",
       " ('1864', -0.3131172978430401),\n",
       " ('1979', -0.31307350737741796),\n",
       " ('1977', -0.3126089157619234),\n",
       " ('1978', -0.31259303868444965),\n",
       " ('1865', -0.3125310364718778),\n",
       " ('1866', -0.3121667183818282),\n",
       " ('1976', -0.31195148918981763),\n",
       " ('1975', -0.3116341456818672),\n",
       " ('1867', -0.31135152985780845),\n",
       " ('1974', -0.3110305249562314),\n",
       " ('1868', -0.31098227404416645),\n",
       " ('1869', -0.3104048754122194),\n",
       " ('1973', -0.31026493324763166),\n",
       " ('1870', -0.3095831907551822),\n",
       " ('1972', -0.30921723937132356),\n",
       " ('1871', -0.30877209482924095),\n",
       " ('1971', -0.30818053282476826),\n",
       " ('1872', -0.3077794030081155),\n",
       " ('1970', -0.3070632234777771),\n",
       " ('1873', -0.30689381678487004),\n",
       " ('1969', -0.3066473891666961),\n",
       " ('1874', -0.3059649303015327),\n",
       " ('1968', -0.30573534143839565),\n",
       " ('1875', -0.30507063276720925),\n",
       " ('1966', -0.30493423296334116),\n",
       " ('1967', -0.30470676743420777),\n",
       " ('1964', -0.3043955581672375),\n",
       " ('1963', -0.30436005538113453),\n",
       " ('1962', -0.3041693929636846),\n",
       " ('1876', -0.30410913636382686),\n",
       " ('1965', -0.3040493529577476),\n",
       " ('1961', -0.30313783773443664),\n",
       " ('1877', -0.3030528609512667),\n",
       " ('1960', -0.30300656710833523),\n",
       " ('1959', -0.30236361328905736),\n",
       " ('1878', -0.30215709139230523),\n",
       " ('1882', -0.3017241121154227),\n",
       " ('1958', -0.30133459932947787),\n",
       " ('1879', -0.3012869539341999),\n",
       " ('1957', -0.3009704808006887),\n",
       " ('1883', -0.30069110852487124),\n",
       " ('1880', -0.3002855161047287),\n",
       " ('1956', -0.30024704702700306),\n",
       " ('1954', -0.2999638209477377),\n",
       " ('1884', -0.29976402372417854),\n",
       " ('1955', -0.29973116687011647),\n",
       " ('1881', -0.2992453053312996),\n",
       " ('1953', -0.29913429916690526),\n",
       " ('1885', -0.29895160379996466),\n",
       " ('1888', -0.2984353672209334),\n",
       " ('1952', -0.29842837745328993),\n",
       " ('1889', -0.2981977938964883),\n",
       " ('1886', -0.2981801747824829),\n",
       " ('1887', -0.29791833208126256),\n",
       " ('1951', -0.29755393133847874),\n",
       " ('1948', -0.2973467222840198),\n",
       " ('1947', -0.29726186897511203),\n",
       " ('1949', -0.29726017608049415),\n",
       " ('1890', -0.29717287293285455),\n",
       " ('1950', -0.2970368176389678),\n",
       " ('1891', -0.29621103715401087),\n",
       " ('1946', -0.2957766890226207),\n",
       " ('1892', -0.29518239271461433),\n",
       " ('1945', -0.2950400616446902),\n",
       " ('1944', -0.29423193662666375),\n",
       " ('1893', -0.2941962745912789),\n",
       " ('1943', -0.2938944436034768),\n",
       " ('1894', -0.29353854766749127),\n",
       " ('1942', -0.29304266515846983),\n",
       " ('1895', -0.2928088791112802),\n",
       " ('1941', -0.2925239341105269),\n",
       " ('1940', -0.29249458630264263),\n",
       " ('1896', -0.29215314970777834),\n",
       " ('1938', -0.29165875663721685),\n",
       " ('1897', -0.29158142994856595),\n",
       " ('1936', -0.29146182725396313),\n",
       " ('1939', -0.29139138415583093),\n",
       " ('1937', -0.2912867367319636),\n",
       " ('1935', -0.29117954868961515),\n",
       " ('1898', -0.2906676216106768),\n",
       " ('1899', -0.2896847887014287),\n",
       " ('1903', -0.28964955419778593),\n",
       " ('1906', -0.2892227370042906),\n",
       " ('1934', -0.2891692171399076),\n",
       " ('1932', -0.28915937311407786),\n",
       " ('1904', -0.28911156406434757),\n",
       " ('1905', -0.28903585022167344),\n",
       " ('1907', -0.28898176985760543),\n",
       " ('1900', -0.28868726549941537),\n",
       " ('1908', -0.2886167137263713),\n",
       " ('1909', -0.28861555682097717),\n",
       " ('1902', -0.2885962989387192),\n",
       " ('1931', -0.2884175208616729),\n",
       " ('1925', -0.2882645259880088),\n",
       " ('1923', -0.2882409895902937),\n",
       " ('1926', -0.28820685495058895),\n",
       " ('1901', -0.28819230234979215),\n",
       " ('1924', -0.2881392947762679),\n",
       " ('1922', -0.2880456352793833),\n",
       " ('1920', -0.2879665990141699),\n",
       " ('1921', -0.2878832725757397),\n",
       " ('1927', -0.28787108331939204),\n",
       " ('1928', -0.28778772950280856),\n",
       " ('1929', -0.28745402218654803),\n",
       " ('1919', -0.28739512731852224),\n",
       " ('1910', -0.2872912573264944),\n",
       " ('1918', -0.2864722059547381),\n",
       " ('1930', -0.28646227449290645),\n",
       " ('1911', -0.2860529020646975),\n",
       " ('1917', -0.2853440118384948),\n",
       " ('1912', -0.284655425650131),\n",
       " ('1916', -0.2845929663161927),\n",
       " ('1915', -0.2840423134735446),\n",
       " ('1913', -0.2832631274246027),\n",
       " ('1914', -0.28323711311165684)]"
      ]
     },
     "execution_count": 25,
     "metadata": {},
     "output_type": "execute_result"
    }
   ],
   "source": [
    "sorted(lists, key=lambda x: x[1])"
   ]
  }
 ],
 "metadata": {
  "kernelspec": {
   "display_name": "Python 3",
   "language": "python",
   "name": "python3"
  },
  "language_info": {
   "codemirror_mode": {
    "name": "ipython",
    "version": 3
   },
   "file_extension": ".py",
   "mimetype": "text/x-python",
   "name": "python",
   "nbconvert_exporter": "python",
   "pygments_lexer": "ipython3",
   "version": "3.7.3"
  }
 },
 "nbformat": 4,
 "nbformat_minor": 2
}
