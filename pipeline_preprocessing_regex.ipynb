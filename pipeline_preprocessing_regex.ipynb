{
 "cells": [
  {
   "cell_type": "markdown",
   "metadata": {},
   "source": [
    "## Global To Dos:\n",
    "* read paper\n",
    "* [steps document](https://docs.google.com/document/d/1du2fcmVzTqnW0FWGmUxvpR2t6QEfwxDIrHSZs9k3HZM/edit?usp=sharing)"
   ]
  },
  {
   "cell_type": "markdown",
   "metadata": {},
   "source": [
    "Section 1: Load and Preprocess Data"
   ]
  },
  {
   "cell_type": "code",
   "execution_count": 8,
   "metadata": {},
   "outputs": [],
   "source": [
    "import utils_preprocessing as up\n",
    "import utils as ut\n",
    "import importlib\n",
    "importlib.reload(ut)\n",
    "importlib.reload(up)\n",
    "from itertools import groupby\n",
    "import yaml\n",
    "import os\n",
    "import textdistance\n",
    "import pandas as pd\n",
    "import numpy as np\n",
    "pd.options.mode.chained_assignment = None"
   ]
  },
  {
   "cell_type": "markdown",
   "metadata": {},
   "source": [
    "## Pre-processing "
   ]
  },
  {
   "cell_type": "markdown",
   "metadata": {},
   "source": [
    "Read in YAML and make PATH"
   ]
  },
  {
   "cell_type": "code",
   "execution_count": 9,
   "metadata": {},
   "outputs": [],
   "source": [
    "#with open(\"config.yml\", 'r') as ymlfile:\n",
    "#    cfg = yaml.load(ymlfile)\n",
    "\n",
    "#PATH = os.path.join(cfg['data']['Directory'] + \":\" + os.sep, cfg['data']['Folder1'], cfg['data']['Folder2'], cfg['data']['Folder3']) # Alix Path\n",
    "\n",
    "PATH = 'SOTU/'\n",
    "#PATH = '/Users/aleistermontfort/Desktop/speeches' # Aleister Path\n",
    "filetype = '*txt'"
   ]
  },
  {
   "cell_type": "markdown",
   "metadata": {},
   "source": [
    "Read in Data"
   ]
  },
  {
   "cell_type": "code",
   "execution_count": 10,
   "metadata": {},
   "outputs": [],
   "source": [
    "speeches, numpar = up.reading_data(PATH,'*.txt')"
   ]
  },
  {
   "cell_type": "markdown",
   "metadata": {},
   "source": [
    "Create Noun Phrases"
   ]
  },
  {
   "cell_type": "code",
   "execution_count": 11,
   "metadata": {
    "scrolled": true
   },
   "outputs": [],
   "source": [
    "new_speeches = up.chunks(speeches, \"regex\")"
   ]
  },
  {
   "cell_type": "markdown",
   "metadata": {},
   "source": [
    "Clean Words & Lemmatize Noun Phrases: Spacy - Skip if used Regex Above"
   ]
  },
  {
   "cell_type": "code",
   "execution_count": 12,
   "metadata": {},
   "outputs": [],
   "source": [
    "clean_speeches = up.clean_words(new_speeches)"
   ]
  },
  {
   "cell_type": "code",
   "execution_count": 13,
   "metadata": {
    "scrolled": false
   },
   "outputs": [],
   "source": [
    "words_changed = up.word_changes(new_speeches, 0.5, 100)"
   ]
  },
  {
   "cell_type": "code",
   "execution_count": 14,
   "metadata": {},
   "outputs": [],
   "source": [
    "phrases_lemmed = up.lemmed_phrases(words_changed, clean_speeches)"
   ]
  },
  {
   "cell_type": "markdown",
   "metadata": {},
   "source": [
    "Lemmatize Noun Phrases: Regex - Skip if Used Regex Above"
   ]
  },
  {
   "cell_type": "code",
   "execution_count": 6,
   "metadata": {},
   "outputs": [],
   "source": [
    "#phrases_lemmed = up.lemmed_phrases(words_changed, new_speeches)"
   ]
  },
  {
   "cell_type": "markdown",
   "metadata": {},
   "source": [
    "Counting Occurrence of Terms"
   ]
  },
  {
   "cell_type": "code",
   "execution_count": 15,
   "metadata": {},
   "outputs": [],
   "source": [
    "counted_words = up.count_words(phrases_lemmed)"
   ]
  },
  {
   "cell_type": "markdown",
   "metadata": {},
   "source": [
    "Limit List to Top 1000"
   ]
  },
  {
   "cell_type": "code",
   "execution_count": 16,
   "metadata": {},
   "outputs": [
    {
     "data": {
      "text/plain": [
       "['state',\n",
       " 'government',\n",
       " 'make',\n",
       " 'congress',\n",
       " 'united',\n",
       " 'upon',\n",
       " 'would',\n",
       " 'country',\n",
       " 'year',\n",
       " 'may',\n",
       " 'must',\n",
       " 'people',\n",
       " 'nation',\n",
       " 'one',\n",
       " 'law',\n",
       " 'u',\n",
       " 'war',\n",
       " 'give',\n",
       " 'time',\n",
       " 'work',\n",
       " 'take',\n",
       " 'act',\n",
       " 'world',\n",
       " 'increase',\n",
       " 'every',\n",
       " 'shall',\n",
       " 'also',\n",
       " 'without',\n",
       " 'america',\n",
       " 'provide',\n",
       " 'power',\n",
       " 'need',\n",
       " 'peace',\n",
       " 'right',\n",
       " 'well',\n",
       " 'subject',\n",
       " 'two',\n",
       " 'continue',\n",
       " 'department',\n",
       " 'interest',\n",
       " 'duty',\n",
       " 'great',\n",
       " 'part',\n",
       " 'treaty',\n",
       " 'citizen',\n",
       " 'require',\n",
       " 'last',\n",
       " 'necessary',\n",
       " 'within',\n",
       " 'report',\n",
       " 'recommend',\n",
       " 'pay',\n",
       " 'could',\n",
       " 'result',\n",
       " 'know',\n",
       " 'present',\n",
       " 'bring',\n",
       " 'end',\n",
       " 'meet',\n",
       " 'come',\n",
       " 'american',\n",
       " 'exist',\n",
       " 'amount',\n",
       " 'believe',\n",
       " 'receive',\n",
       " 'service',\n",
       " 'help',\n",
       " 'place',\n",
       " 'become',\n",
       " 'land',\n",
       " 'treasury',\n",
       " 'system',\n",
       " 'use',\n",
       " 'secure',\n",
       " 'still',\n",
       " 'federal',\n",
       " 'million',\n",
       " 'far',\n",
       " 'find',\n",
       " 'union',\n",
       " 'secretary',\n",
       " 'mean',\n",
       " 'purpose',\n",
       " 'much',\n",
       " 'say',\n",
       " 'since',\n",
       " 'call',\n",
       " 'yet',\n",
       " 'business',\n",
       " 'force',\n",
       " 'president',\n",
       " 'question',\n",
       " 'among',\n",
       " 'already',\n",
       " 'men',\n",
       " 'go',\n",
       " 'establish',\n",
       " 'even',\n",
       " 'condition',\n",
       " 'constitution',\n",
       " 'remain',\n",
       " 'thus',\n",
       " 'maintain',\n",
       " 'however',\n",
       " 'view',\n",
       " 'propose',\n",
       " 'tax',\n",
       " 'policy',\n",
       " 'hold',\n",
       " 'leave',\n",
       " 'commerce',\n",
       " 'order',\n",
       " 'mexico',\n",
       " 'support',\n",
       " 'claim',\n",
       " 'pas',\n",
       " 'might',\n",
       " 'show',\n",
       " 'carry',\n",
       " 'many',\n",
       " 'territory',\n",
       " 'keep',\n",
       " 'trade',\n",
       " 'include',\n",
       " 'effect',\n",
       " 'hope',\n",
       " 'case',\n",
       " 'way',\n",
       " 'measure',\n",
       " 'home',\n",
       " 'less',\n",
       " 'legislation',\n",
       " 'reduce',\n",
       " 'change',\n",
       " 'revenue',\n",
       " 'toward',\n",
       " 'let',\n",
       " 'see',\n",
       " 'labor',\n",
       " 'effort',\n",
       " 'new',\n",
       " 'th',\n",
       " 'regard',\n",
       " 'long',\n",
       " 'security',\n",
       " 'attention',\n",
       " 'good',\n",
       " 'life',\n",
       " 'cause',\n",
       " 'commission',\n",
       " 'expenditure',\n",
       " 'protect',\n",
       " 'number',\n",
       " 'child',\n",
       " 'together',\n",
       " 'provision',\n",
       " 'ever',\n",
       " 'progress',\n",
       " 'officer',\n",
       " 'navy',\n",
       " 'begin',\n",
       " 'first',\n",
       " 'fact',\n",
       " 'court',\n",
       " 'program',\n",
       " 'ask',\n",
       " 'consideration',\n",
       " 'therefore',\n",
       " 'plan',\n",
       " 'want',\n",
       " 'create',\n",
       " 'administration',\n",
       " 'demand',\n",
       " 'justice',\n",
       " 'army',\n",
       " 'estimate',\n",
       " 'extend',\n",
       " 'authority',\n",
       " 'submit',\n",
       " 'day',\n",
       " 'never',\n",
       " 'control',\n",
       " 'action',\n",
       " 'whether',\n",
       " 'prevent',\n",
       " 'grow',\n",
       " 'respect',\n",
       " 'relation',\n",
       " 'produce',\n",
       " 'principle',\n",
       " 'general',\n",
       " 'cost',\n",
       " 'house',\n",
       " 'issue',\n",
       " 'republic',\n",
       " 'executive',\n",
       " 'course',\n",
       " 'protection',\n",
       " 'freedom',\n",
       " 'future',\n",
       " 'island',\n",
       " 'put',\n",
       " 'matter',\n",
       " 'three',\n",
       " 'representative',\n",
       " 'economy',\n",
       " 'like',\n",
       " 'senate',\n",
       " 'reach',\n",
       " 'bank',\n",
       " 'lead',\n",
       " 'another',\n",
       " 'per',\n",
       " 'money',\n",
       " 'build',\n",
       " 'adopt',\n",
       " 'seek',\n",
       " 'others',\n",
       " 'seem',\n",
       " 'think',\n",
       " 'dollar',\n",
       " 'benefit',\n",
       " 'possible',\n",
       " 'appropriation',\n",
       " 'party',\n",
       " 'form',\n",
       " 'june',\n",
       " 'consider',\n",
       " 'value',\n",
       " 'afford',\n",
       " 'authorize',\n",
       " 'operation',\n",
       " 'office',\n",
       " 'opportunity',\n",
       " 'public',\n",
       " 'price',\n",
       " 'expect',\n",
       " 'get',\n",
       " 'cent',\n",
       " 'save',\n",
       " 'follow',\n",
       " 'aid',\n",
       " 'nt',\n",
       " 'either',\n",
       " 'exercise',\n",
       " 'today',\n",
       " 'britain',\n",
       " 'family',\n",
       " 'whose',\n",
       " 'recommendation',\n",
       " 'health',\n",
       " 'tonight',\n",
       " 'national',\n",
       " 'past',\n",
       " 'always',\n",
       " 'community',\n",
       " 'care',\n",
       " 'convention',\n",
       " 'industry',\n",
       " 'permit',\n",
       " 'payment',\n",
       " 'return',\n",
       " 'vessel',\n",
       " 'job',\n",
       " 'improve',\n",
       " 'billion',\n",
       " 'reason',\n",
       " 'nearly',\n",
       " 'stand',\n",
       " 'defense',\n",
       " 'especially',\n",
       " 'object',\n",
       " 'free',\n",
       " 'property',\n",
       " 'open',\n",
       " 'rate',\n",
       " 'desire',\n",
       " 'spain',\n",
       " 'supply',\n",
       " 'important',\n",
       " 'bill',\n",
       " 'line',\n",
       " 'problem',\n",
       " 'europe',\n",
       " 'ought',\n",
       " 'hand',\n",
       " 'fail',\n",
       " 'limit',\n",
       " 'look',\n",
       " 'render',\n",
       " 'large',\n",
       " 'budget',\n",
       " 'history',\n",
       " 'develop',\n",
       " 'capital',\n",
       " 'promote',\n",
       " 'able',\n",
       " 'prosperity',\n",
       " 'engage',\n",
       " 'construction',\n",
       " 'point',\n",
       " 'lay',\n",
       " 'add',\n",
       " 'spirit',\n",
       " 'accomplish',\n",
       " 'grant',\n",
       " 'due',\n",
       " 'obtain',\n",
       " 'city',\n",
       " 'development',\n",
       " 'strengthen',\n",
       " 'enter',\n",
       " 'serve',\n",
       " 'minister',\n",
       " 'soon',\n",
       " 'set',\n",
       " 'member',\n",
       " 'education',\n",
       " 'fund',\n",
       " 'reform',\n",
       " 'indian',\n",
       " 'concern',\n",
       " 'direct',\n",
       " 'urge',\n",
       " 'expense',\n",
       " 'fully',\n",
       " 'man',\n",
       " 'ago',\n",
       " 'recognize',\n",
       " 'person',\n",
       " 'enable',\n",
       " 'production',\n",
       " 'send',\n",
       " 'complete',\n",
       " 'favor',\n",
       " 'necessity',\n",
       " 'negotiation',\n",
       " 'responsibility',\n",
       " 'sum',\n",
       " 'fiscal year',\n",
       " 'abroad',\n",
       " 'close',\n",
       " 'preserve',\n",
       " 'arise',\n",
       " 'charge',\n",
       " 'advance',\n",
       " 'opinion',\n",
       " 'throughout',\n",
       " 'prove',\n",
       " 'appear',\n",
       " 'improvement',\n",
       " 'period',\n",
       " 'four',\n",
       " 'raise',\n",
       " 'st',\n",
       " 'pacific',\n",
       " 'involve',\n",
       " 'back',\n",
       " 'strong',\n",
       " 'establishment',\n",
       " 'district',\n",
       " 'march',\n",
       " 'live',\n",
       " 'next',\n",
       " 'commissioner',\n",
       " 'experience',\n",
       " 'doubt',\n",
       " 'appoint',\n",
       " 'term',\n",
       " 'face',\n",
       " 'cut',\n",
       " 'nothing',\n",
       " 'apply',\n",
       " 'best',\n",
       " 'almost',\n",
       " 'encourage',\n",
       " 'fight',\n",
       " 'individual',\n",
       " 'trust',\n",
       " 'the american people',\n",
       " 'school',\n",
       " 'proceed',\n",
       " 'washington',\n",
       " 'agriculture',\n",
       " 'ship',\n",
       " 'receipt',\n",
       " 'gold',\n",
       " 'offer',\n",
       " 'impose',\n",
       " 'deem',\n",
       " 'remove',\n",
       " 'july',\n",
       " 'express',\n",
       " 'month',\n",
       " 'resource',\n",
       " 'conduct',\n",
       " 'determine',\n",
       " 'debt',\n",
       " 'note',\n",
       " 'arm',\n",
       " 'deal',\n",
       " 'commit',\n",
       " 'china',\n",
       " 'refer',\n",
       " 'invite',\n",
       " 'france',\n",
       " 'achieve',\n",
       " 'south',\n",
       " 'settlement',\n",
       " 'affect',\n",
       " 'obligation',\n",
       " 'allow',\n",
       " 'energy',\n",
       " 'river',\n",
       " 'sea',\n",
       " 'bear',\n",
       " 'percent',\n",
       " 'market',\n",
       " 'advantage',\n",
       " 'coast',\n",
       " 'welfare',\n",
       " 'attempt',\n",
       " 'reduction',\n",
       " 'alone',\n",
       " 'beyond',\n",
       " 'employ',\n",
       " 'agreement',\n",
       " 'thing',\n",
       " 'population',\n",
       " 'board',\n",
       " 'turn',\n",
       " 'whole',\n",
       " 'greatly',\n",
       " 'character',\n",
       " 'although',\n",
       " 'mr',\n",
       " 'feel',\n",
       " 'danger',\n",
       " 'represent',\n",
       " 'institution',\n",
       " 'suffer',\n",
       " 'restore',\n",
       " 'move',\n",
       " 'suggest',\n",
       " 'honor',\n",
       " 'though',\n",
       " 'water',\n",
       " 'least',\n",
       " 'rest',\n",
       " 'tariff',\n",
       " 'the fiscal year',\n",
       " 'woman',\n",
       " 'success',\n",
       " 'company',\n",
       " 'high',\n",
       " 'account',\n",
       " 'port',\n",
       " 'expand',\n",
       " 'credit',\n",
       " 'farmer',\n",
       " 'certain',\n",
       " 'last year',\n",
       " 'branch',\n",
       " 'balance',\n",
       " 'circumstance',\n",
       " 'occur',\n",
       " 'contract',\n",
       " 'approve',\n",
       " 'lose',\n",
       " 'cuba',\n",
       " 'rise',\n",
       " 'event',\n",
       " 'agree',\n",
       " 'purchase',\n",
       " 'furnish',\n",
       " 'enemy',\n",
       " 'surplus',\n",
       " 'accord',\n",
       " 'unless',\n",
       " 'conference',\n",
       " 'organize',\n",
       " 'loan',\n",
       " 'strength',\n",
       " 'whatever',\n",
       " 'assume',\n",
       " 'farm',\n",
       " 'pursue',\n",
       " 'railroad',\n",
       " 'difference',\n",
       " 'rule',\n",
       " 'conclude',\n",
       " 'except',\n",
       " 'crime',\n",
       " 'organization',\n",
       " 'difficulty',\n",
       " 'renew',\n",
       " 'confidence',\n",
       " 'share',\n",
       " 'importance',\n",
       " 'bond',\n",
       " 'prepare',\n",
       " 'article',\n",
       " 'often',\n",
       " 'forward',\n",
       " 'export',\n",
       " 'independence',\n",
       " 'command',\n",
       " 'liberty',\n",
       " 'portion',\n",
       " 'hop',\n",
       " 'proper',\n",
       " 'accept',\n",
       " 'contain',\n",
       " 'import',\n",
       " 'assure',\n",
       " 'base',\n",
       " 'method',\n",
       " 'troop',\n",
       " 'efficiency',\n",
       " 'decision',\n",
       " 'admit',\n",
       " 'source',\n",
       " 'kind',\n",
       " 'speak',\n",
       " 'field',\n",
       " 'immediately',\n",
       " 'occasion',\n",
       " 'affair',\n",
       " 'growth',\n",
       " 'product',\n",
       " 'the same time',\n",
       " 'fall',\n",
       " 'enact',\n",
       " 'texas',\n",
       " 'promise',\n",
       " 'exceed',\n",
       " 'evil',\n",
       " 'relief',\n",
       " 'position',\n",
       " 'delay',\n",
       " 'addition',\n",
       " 'the last session',\n",
       " 'recently',\n",
       " 'avoid',\n",
       " 'deficit',\n",
       " 'essential',\n",
       " 'message',\n",
       " 'threaten',\n",
       " 'sustain',\n",
       " 'perform',\n",
       " 'wise',\n",
       " 'west',\n",
       " 'side',\n",
       " 'wage',\n",
       " 'currency',\n",
       " 'five',\n",
       " 'january',\n",
       " 'exchange',\n",
       " 'finally',\n",
       " 'other nation',\n",
       " 'declare',\n",
       " 'earnestly',\n",
       " 'burden',\n",
       " 'north',\n",
       " 'canal',\n",
       " 'silver',\n",
       " 'discharge',\n",
       " 'manufacture',\n",
       " 'reserve',\n",
       " 'influence',\n",
       " 'challenge',\n",
       " 'try',\n",
       " 'mail',\n",
       " 'join',\n",
       " 'regulation',\n",
       " 'across',\n",
       " 'class',\n",
       " 'stop',\n",
       " 'practice',\n",
       " 'wish',\n",
       " 'depend',\n",
       " 'wisdom',\n",
       " 'settle',\n",
       " 'transportation',\n",
       " 'connect',\n",
       " 'heretofore',\n",
       " 'half',\n",
       " 'information',\n",
       " 'neither',\n",
       " 'hundred',\n",
       " 'fix',\n",
       " 'relate',\n",
       " 'away',\n",
       " 'extent',\n",
       " 'step',\n",
       " 'ready',\n",
       " 'true',\n",
       " 'direction',\n",
       " 'corporation',\n",
       " 'intend',\n",
       " 'employment',\n",
       " 'realize',\n",
       " 'east',\n",
       " 'enough',\n",
       " 'sure',\n",
       " 'understand',\n",
       " 'thousand',\n",
       " 'sale',\n",
       " 'none',\n",
       " 'judge',\n",
       " 'income',\n",
       " 'particularly',\n",
       " 'april',\n",
       " 'september',\n",
       " 'choose',\n",
       " 'connection',\n",
       " 'consequence',\n",
       " 'adjust',\n",
       " 'the past year',\n",
       " 'ability',\n",
       " 'safety',\n",
       " 'instead',\n",
       " 'decide',\n",
       " 'statute',\n",
       " 'enforce',\n",
       " 'pension',\n",
       " 'learn',\n",
       " 'clear',\n",
       " 'building',\n",
       " 'election',\n",
       " 'equally',\n",
       " 'second',\n",
       " 'merely',\n",
       " 'communication',\n",
       " 'start',\n",
       " 'pending',\n",
       " 'design',\n",
       " 'entitle',\n",
       " 'undertake',\n",
       " 'japan',\n",
       " 'navigation',\n",
       " 'contribute',\n",
       " 'sign',\n",
       " 'along',\n",
       " 'destroy',\n",
       " 'guard',\n",
       " 'cooperation',\n",
       " 'conflict',\n",
       " 'example',\n",
       " 'constitute',\n",
       " 'judgment',\n",
       " 'probably',\n",
       " 'justify',\n",
       " 'quarter',\n",
       " 'regulate',\n",
       " 'attack',\n",
       " 'otherwise',\n",
       " 'attend',\n",
       " 'indeed',\n",
       " 'enjoy',\n",
       " 'promptly',\n",
       " 'equal',\n",
       " 'posse',\n",
       " 'proposal',\n",
       " 'friend',\n",
       " 'bureau',\n",
       " 'rapidly',\n",
       " 'communicate',\n",
       " 'worker',\n",
       " 'sound',\n",
       " 'survey',\n",
       " 'loss',\n",
       " 'wrong',\n",
       " 'vote',\n",
       " 'ally',\n",
       " 'request',\n",
       " 'date',\n",
       " 'fear',\n",
       " 'early',\n",
       " 'execution',\n",
       " 'longer',\n",
       " 'acre',\n",
       " 'ground',\n",
       " 'necessarily',\n",
       " 'mark',\n",
       " 'goal',\n",
       " 'area',\n",
       " 'the public debt',\n",
       " 'social',\n",
       " 'suggestion',\n",
       " 'invest',\n",
       " 'several',\n",
       " 'faith',\n",
       " 'record',\n",
       " 'ahead',\n",
       " 'tell',\n",
       " 'impossible',\n",
       " 'standard',\n",
       " 'generally',\n",
       " 'session',\n",
       " 'legislature',\n",
       " 'press',\n",
       " 'largely',\n",
       " 'draw',\n",
       " 'desirable',\n",
       " 'democracy',\n",
       " 'december',\n",
       " 'small',\n",
       " 'lie',\n",
       " 'task',\n",
       " 'process',\n",
       " 'rather',\n",
       " 'address',\n",
       " 'gratify',\n",
       " 'deposit',\n",
       " 'appropriate',\n",
       " 'ratification',\n",
       " 'gain',\n",
       " 'international',\n",
       " 'directly',\n",
       " 'accompany',\n",
       " 'interior',\n",
       " 'situation',\n",
       " 'difficult',\n",
       " 'deserve',\n",
       " 'border',\n",
       " 'custom',\n",
       " 'abuse',\n",
       " 'succeed',\n",
       " 'arrangement',\n",
       " 'harbor',\n",
       " 'appointment',\n",
       " 'sell',\n",
       " 'russia',\n",
       " 'veteran',\n",
       " 'moment',\n",
       " 'military',\n",
       " 'inflation',\n",
       " 'food',\n",
       " 'negotiate',\n",
       " 'entirely',\n",
       " 'annual message',\n",
       " 'basis',\n",
       " 'finance',\n",
       " 'little',\n",
       " 'constantly',\n",
       " 'extension',\n",
       " 'living',\n",
       " 'tend',\n",
       " 'relieve',\n",
       " 'struggle',\n",
       " 'near',\n",
       " 'owe',\n",
       " 'nature',\n",
       " 'road',\n",
       " 'investment',\n",
       " 'felt',\n",
       " 'panama',\n",
       " 'central',\n",
       " 'demonstrate',\n",
       " 'earth',\n",
       " 'effective',\n",
       " 'exhibit',\n",
       " 'employee',\n",
       " 'mind',\n",
       " 'amendment',\n",
       " 'dispose',\n",
       " 'mile',\n",
       " 'confer',\n",
       " 'head',\n",
       " 'detail',\n",
       " 'agency',\n",
       " 'break',\n",
       " 'collect',\n",
       " 'circulation',\n",
       " 'post',\n",
       " 'privilege',\n",
       " 'wealth',\n",
       " 'pledge',\n",
       " 'derive',\n",
       " 'agent',\n",
       " 'august',\n",
       " 'full',\n",
       " 'prevail',\n",
       " 'project',\n",
       " 'test',\n",
       " 'name',\n",
       " 'governor',\n",
       " 'facility',\n",
       " 'atlantic',\n",
       " 'six',\n",
       " 'highly',\n",
       " 'occupy',\n",
       " 'adoption',\n",
       " 'railway',\n",
       " 'resort',\n",
       " 'low',\n",
       " 'total',\n",
       " 'approach',\n",
       " 'application',\n",
       " 'transmit',\n",
       " 'humanity',\n",
       " 'spend',\n",
       " 'soviet',\n",
       " 'emergency',\n",
       " 'available',\n",
       " 'refuse',\n",
       " 'manifest',\n",
       " 'maintenance',\n",
       " 'manner',\n",
       " 'sufficient',\n",
       " 'safe',\n",
       " 'around',\n",
       " 'material',\n",
       " 'defend',\n",
       " 'october',\n",
       " 'intercourse',\n",
       " 'february',\n",
       " 'cover',\n",
       " 'embrace',\n",
       " 'announce',\n",
       " 'observe',\n",
       " 'possession',\n",
       " 'deny',\n",
       " 'injury',\n",
       " 'jurisdiction',\n",
       " 'insurance',\n",
       " 'abandon',\n",
       " 'failure',\n",
       " 'contemplate',\n",
       " 'enterprise',\n",
       " 'perhaps',\n",
       " 'ratify',\n",
       " 'nicaragua',\n",
       " 'adjustment',\n",
       " 'age',\n",
       " 'remember',\n",
       " 'clearly',\n",
       " 'competition',\n",
       " 'precede',\n",
       " 'college',\n",
       " 'inform',\n",
       " 'columbia',\n",
       " 'entertain',\n",
       " 'answer',\n",
       " 'philippine',\n",
       " 'operate',\n",
       " 'ocean',\n",
       " 'repeat',\n",
       " 'existence',\n",
       " 'tribe',\n",
       " 'stock',\n",
       " 'ascertain',\n",
       " 'belong',\n",
       " 'generation',\n",
       " 'sense',\n",
       " 'commend',\n",
       " 'germany',\n",
       " 'award',\n",
       " 'mississippi',\n",
       " 'compensation',\n",
       " 'science',\n",
       " 'instance',\n",
       " 'train',\n",
       " 'passage',\n",
       " 'enforcement',\n",
       " 'century',\n",
       " 'god',\n",
       " 'revolution',\n",
       " 'commence',\n",
       " 'capacity',\n",
       " 'society',\n",
       " 'execute',\n",
       " 'california',\n",
       " 'november',\n",
       " 'third',\n",
       " 'assist',\n",
       " 'repeal',\n",
       " 'instruction',\n",
       " 'decline',\n",
       " 'assistance',\n",
       " 'civilization',\n",
       " 'wholly',\n",
       " 'treat',\n",
       " 'insure',\n",
       " 'paper',\n",
       " 'majesty',\n",
       " 'govern',\n",
       " 'management',\n",
       " 'worthy',\n",
       " 'remedy',\n",
       " 'region',\n",
       " 'corp',\n",
       " 'taxation',\n",
       " 'level',\n",
       " 'fit',\n",
       " 'thereby',\n",
       " 'conclusion',\n",
       " 'regret',\n",
       " 'frontier',\n",
       " 'disposition',\n",
       " 'happen',\n",
       " 'certainly',\n",
       " 'acquire',\n",
       " 'hostility',\n",
       " 'yield',\n",
       " 'satisfaction',\n",
       " 'leader',\n",
       " 'reference',\n",
       " 'transfer',\n",
       " 'spending',\n",
       " 'properly',\n",
       " 'asia',\n",
       " 'compare',\n",
       " 'diminish',\n",
       " 'race',\n",
       " 'cease',\n",
       " 'body',\n",
       " 'section',\n",
       " 'consist',\n",
       " 'run',\n",
       " 'anticipate',\n",
       " 'committee',\n",
       " 'proposition',\n",
       " 'adequate',\n",
       " 'arbitration',\n",
       " 'study',\n",
       " 'old',\n",
       " 'check',\n",
       " 'strike',\n",
       " 'violation',\n",
       " 'attain',\n",
       " 'easy',\n",
       " 'bind',\n",
       " 'commitment',\n",
       " 'foundation',\n",
       " 'something',\n",
       " 'willing',\n",
       " 'preservation',\n",
       " 'consent',\n",
       " 'merit',\n",
       " 'compel',\n",
       " 'approval',\n",
       " 'profit',\n",
       " 'friendship',\n",
       " 'neighbor',\n",
       " 'endeavor',\n",
       " 'suppose',\n",
       " 'destruction',\n",
       " 'behalf',\n",
       " 'removal',\n",
       " 'inhabitant',\n",
       " 'parent',\n",
       " 'steadily',\n",
       " 'strongly',\n",
       " 'combination',\n",
       " 'terminate',\n",
       " 'indicate',\n",
       " 'visit',\n",
       " 'waste',\n",
       " 'alike',\n",
       " 'civil',\n",
       " 'heart',\n",
       " 'merchant',\n",
       " 'withdraw',\n",
       " 'york',\n",
       " 'majority',\n",
       " 'practicable',\n",
       " 'chief',\n",
       " 'guarantee',\n",
       " 'behind',\n",
       " 'light',\n",
       " 'continent',\n",
       " 'accordance',\n",
       " 'reward',\n",
       " 'enlarge',\n",
       " 'induce',\n",
       " 'supreme',\n",
       " 'assurance',\n",
       " 'soil',\n",
       " 'satisfactory',\n",
       " 'confine',\n",
       " 'excess',\n",
       " 'housing',\n",
       " 'decade',\n",
       " 'hard',\n",
       " 'knowledge',\n",
       " 'exclude',\n",
       " 'activity',\n",
       " 'fair',\n",
       " 'determination',\n",
       " 'chance',\n",
       " 'evidence',\n",
       " 'chamber',\n",
       " 'death',\n",
       " 'threat',\n",
       " 'aggression',\n",
       " 'degree',\n",
       " 'responsible',\n",
       " 'aggregate']"
      ]
     },
     "execution_count": 16,
     "metadata": {},
     "output_type": "execute_result"
    }
   ],
   "source": [
    "top_words = up.top_x(counted_words, 1000)\n",
    "top_words"
   ]
  },
  {
   "cell_type": "markdown",
   "metadata": {},
   "source": [
    "limit paragraph phrases only to those in top 1000"
   ]
  },
  {
   "cell_type": "code",
   "execution_count": 17,
   "metadata": {},
   "outputs": [],
   "source": [
    "limited_paragraphs = up.limit(phrases_lemmed, top_words)"
   ]
  },
  {
   "cell_type": "markdown",
   "metadata": {},
   "source": [
    "## Periodization"
   ]
  },
  {
   "cell_type": "code",
   "execution_count": 18,
   "metadata": {
    "scrolled": true
   },
   "outputs": [],
   "source": [
    "tfidfs = up.corpus_tfidf(limited_paragraphs, counted_words, top_words)"
   ]
  },
  {
   "cell_type": "code",
   "execution_count": 19,
   "metadata": {},
   "outputs": [],
   "source": [
    "periods, dissimilarity = up.periodization(tfidfs)"
   ]
  },
  {
   "cell_type": "code",
   "execution_count": 20,
   "metadata": {},
   "outputs": [],
   "source": [
    "import operator\n",
    "sorted_x = sorted(periods.items(), key=operator.itemgetter(1))\n",
    "years = dissimilarity.index"
   ]
  },
  {
   "cell_type": "code",
   "execution_count": 21,
   "metadata": {
    "scrolled": false
   },
   "outputs": [
    {
     "data": {
      "image/png": "[encoded data removed]",
      "text/plain": [
       "<Figure size 432x288 with 1 Axes>"
      ]
     },
     "metadata": {
      "needs_background": "light"
     },
     "output_type": "display_data"
    }
   ],
   "source": [
    "import matplotlib.pylab as plt\n",
    "import matplotlib.ticker as ticker\n",
    "\n",
    "lists = sorted(periods.items()) # sorted by key, return a list of tuples\n",
    "x, y = zip(*lists) # unpack a list of pairs into two tuples\n",
    "\n",
    "ax = plt.axes()\n",
    "ax.xaxis.set_major_locator(ticker.MultipleLocator(20))\n",
    "plt.axvline(pd.to_numeric(sorted_x[0][0])-pd.to_numeric(years[0]), 0,1)\n",
    "plt.plot(x, y)\n",
    "plt.show()"
   ]
  },
  {
   "cell_type": "code",
   "execution_count": 22,
   "metadata": {},
   "outputs": [
    {
     "data": {
      "image/png": "[encoded data removed]",
      "text/plain": [
       "<Figure size 432x288 with 2 Axes>"
      ]
     },
     "metadata": {
      "needs_background": "light"
     },
     "output_type": "display_data"
    }
   ],
   "source": [
    "import seaborn as sns\n",
    "cmap = sns.cubehelix_palette(as_cmap=True, reverse=True)\n",
    "ax = sns.heatmap(dissimilarity, cmap=cmap)\n",
    "plt.axvline((pd.to_numeric(sorted_x[0][0])-pd.to_numeric(years[0])), 0,1)\n",
    "plt.show()"
   ]
  },
  {
   "cell_type": "markdown",
   "metadata": {},
   "source": [
    "### Before"
   ]
  },
  {
   "cell_type": "markdown",
   "metadata": {},
   "source": [
    "Before Years"
   ]
  },
  {
   "cell_type": "code",
   "execution_count": 23,
   "metadata": {},
   "outputs": [],
   "source": [
    "\n",
    "before_1914 = years[:pd.to_numeric(sorted_x[0][0])-pd.to_numeric(years[0])]\n",
    "before_dict = {k: v for k, v in limited_paragraphs.items() if k[1] in before_1914}"
   ]
  },
  {
   "cell_type": "markdown",
   "metadata": {},
   "source": [
    "Before TFIDF"
   ]
  },
  {
   "cell_type": "code",
   "execution_count": 24,
   "metadata": {},
   "outputs": [],
   "source": [
    "before_tfidfs = up.corpus_tfidf(before_dict, counted_words, top_words)"
   ]
  },
  {
   "cell_type": "code",
   "execution_count": 25,
   "metadata": {},
   "outputs": [],
   "source": [
    "before_periods, before_dissimilarity = up.periodization(before_tfidfs)"
   ]
  },
  {
   "cell_type": "markdown",
   "metadata": {},
   "source": [
    "### After"
   ]
  },
  {
   "cell_type": "markdown",
   "metadata": {},
   "source": [
    "After Years"
   ]
  },
  {
   "cell_type": "code",
   "execution_count": 26,
   "metadata": {},
   "outputs": [],
   "source": [
    "after_1914 = years[pd.to_numeric(sorted_x[0][0])-pd.to_numeric(years[0]):]\n",
    "after_dict = {k: v for k, v in limited_paragraphs.items() if k[1] in after_1914}"
   ]
  },
  {
   "cell_type": "markdown",
   "metadata": {},
   "source": [
    "After TFIDF"
   ]
  },
  {
   "cell_type": "code",
   "execution_count": 27,
   "metadata": {},
   "outputs": [],
   "source": [
    "after_tfidfs = up.corpus_tfidf(after_dict, counted_words, top_words)"
   ]
  },
  {
   "cell_type": "code",
   "execution_count": 28,
   "metadata": {},
   "outputs": [],
   "source": [
    "after_periods, after_dissimilarity = up.periodization(after_tfidfs)"
   ]
  },
  {
   "cell_type": "code",
   "execution_count": 29,
   "metadata": {},
   "outputs": [],
   "source": [
    "new_periods = {**before_periods, **after_periods}"
   ]
  },
  {
   "cell_type": "code",
   "execution_count": 30,
   "metadata": {},
   "outputs": [
    {
     "data": {
      "image/png": "[encoded data removed]",
      "text/plain": [
       "<Figure size 432x288 with 1 Axes>"
      ]
     },
     "metadata": {
      "needs_background": "light"
     },
     "output_type": "display_data"
    }
   ],
   "source": [
    "import matplotlib.pylab as plt\n",
    "import matplotlib.ticker as ticker\n",
    "\n",
    "lists = sorted(new_periods.items()) # sorted by key, return a list of tuples\n",
    "x, y = zip(*lists) # unpack a list of pairs into two tuples\n",
    "\n",
    "ax = plt.axes()\n",
    "ax.xaxis.set_major_locator(ticker.MultipleLocator(20))\n",
    "\n",
    "plt.plot(x, y)\n",
    "plt.show()"
   ]
  },
  {
   "cell_type": "markdown",
   "metadata": {},
   "source": [
    "## Co-Occurrence Matrix and Dissimilarity Topic Modeling"
   ]
  },
  {
   "cell_type": "markdown",
   "metadata": {},
   "source": [
    "Build the co-occurrence matrix"
   ]
  },
  {
   "cell_type": "code",
   "execution_count": 31,
   "metadata": {},
   "outputs": [],
   "source": [
    "pre_occur = ut.convert_dict_to_list(limited_paragraphs)"
   ]
  },
  {
   "cell_type": "code",
   "execution_count": 32,
   "metadata": {},
   "outputs": [],
   "source": [
    "co_occur = ut.co_oc_matrix(pre_occur, True, True)"
   ]
  },
  {
   "cell_type": "markdown",
   "metadata": {},
   "source": [
    "Do a cosine similarity"
   ]
  },
  {
   "cell_type": "code",
   "execution_count": 33,
   "metadata": {},
   "outputs": [],
   "source": [
    "co_matrix = ut.pairwise_similarity(co_occur, 'cosine')"
   ]
  },
  {
   "cell_type": "markdown",
   "metadata": {},
   "source": [
    "Do a paper dissimilarity"
   ]
  },
  {
   "cell_type": "code",
   "execution_count": 34,
   "metadata": {},
   "outputs": [],
   "source": [
    "co_matrix_paper = ut.pairwise_similarity(co_occur, 'paper')"
   ]
  },
  {
   "cell_type": "markdown",
   "metadata": {},
   "source": [
    "### Global Corpus"
   ]
  },
  {
   "cell_type": "markdown",
   "metadata": {},
   "source": [
    "For the next section, if you're working on regex then include 'regex' in the parameters of the network graphing function. If you're working off spacy, include 'spacy' in the parameters of the network graphing function"
   ]
  },
  {
   "cell_type": "code",
   "execution_count": 28,
   "metadata": {},
   "outputs": [],
   "source": [
    "nounphrase = 'regex'\n",
    "#nounphrase = 'spacy'"
   ]
  },
  {
   "cell_type": "markdown",
   "metadata": {},
   "source": [
    "Create network graph using community detection algorithms and paper's approach"
   ]
  },
  {
   "cell_type": "code",
   "execution_count": 29,
   "metadata": {},
   "outputs": [
    {
     "ename": "NetworkXError",
     "evalue": "Input is not a valid edge list",
     "output_type": "error",
     "traceback": [
      "\u001b[0;31m---------------------------------------------------------------------------\u001b[0m",
      "\u001b[0;31mNetworkXError\u001b[0m                             Traceback (most recent call last)",
      "\u001b[0;32m/Library/Frameworks/Python.framework/Versions/3.7/lib/python3.7/site-packages/networkx/convert.py\u001b[0m in \u001b[0;36mto_networkx_graph\u001b[0;34m(data, create_using, multigraph_input)\u001b[0m\n\u001b[1;32m    113\u001b[0m         \u001b[0;32mtry\u001b[0m\u001b[0;34m:\u001b[0m\u001b[0;34m\u001b[0m\u001b[0;34m\u001b[0m\u001b[0m\n\u001b[0;32m--> 114\u001b[0;31m             \u001b[0;32mreturn\u001b[0m \u001b[0mfrom_edgelist\u001b[0m\u001b[0;34m(\u001b[0m\u001b[0mdata\u001b[0m\u001b[0;34m,\u001b[0m \u001b[0mcreate_using\u001b[0m\u001b[0;34m=\u001b[0m\u001b[0mcreate_using\u001b[0m\u001b[0;34m)\u001b[0m\u001b[0;34m\u001b[0m\u001b[0;34m\u001b[0m\u001b[0m\n\u001b[0m\u001b[1;32m    115\u001b[0m         \u001b[0;32mexcept\u001b[0m\u001b[0;34m:\u001b[0m\u001b[0;34m\u001b[0m\u001b[0;34m\u001b[0m\u001b[0m\n",
      "\u001b[0;32m/Library/Frameworks/Python.framework/Versions/3.7/lib/python3.7/site-packages/networkx/convert.py\u001b[0m in \u001b[0;36mfrom_edgelist\u001b[0;34m(edgelist, create_using)\u001b[0m\n\u001b[1;32m    389\u001b[0m     \u001b[0mG\u001b[0m \u001b[0;34m=\u001b[0m \u001b[0mnx\u001b[0m\u001b[0;34m.\u001b[0m\u001b[0mempty_graph\u001b[0m\u001b[0;34m(\u001b[0m\u001b[0;36m0\u001b[0m\u001b[0;34m,\u001b[0m \u001b[0mcreate_using\u001b[0m\u001b[0;34m)\u001b[0m\u001b[0;34m\u001b[0m\u001b[0;34m\u001b[0m\u001b[0m\n\u001b[0;32m--> 390\u001b[0;31m     \u001b[0mG\u001b[0m\u001b[0;34m.\u001b[0m\u001b[0madd_edges_from\u001b[0m\u001b[0;34m(\u001b[0m\u001b[0medgelist\u001b[0m\u001b[0;34m)\u001b[0m\u001b[0;34m\u001b[0m\u001b[0;34m\u001b[0m\u001b[0m\n\u001b[0m\u001b[1;32m    391\u001b[0m     \u001b[0;32mreturn\u001b[0m \u001b[0mG\u001b[0m\u001b[0;34m\u001b[0m\u001b[0;34m\u001b[0m\u001b[0m\n",
      "\u001b[0;32m/Library/Frameworks/Python.framework/Versions/3.7/lib/python3.7/site-packages/networkx/classes/graph.py\u001b[0m in \u001b[0;36madd_edges_from\u001b[0;34m(self, ebunch_to_add, **attr)\u001b[0m\n\u001b[1;32m    968\u001b[0m                 raise NetworkXError(\n\u001b[0;32m--> 969\u001b[0;31m                     \"Edge tuple %s must be a 2-tuple or 3-tuple.\" % (e,))\n\u001b[0m\u001b[1;32m    970\u001b[0m             \u001b[0;32mif\u001b[0m \u001b[0mu\u001b[0m \u001b[0;32mnot\u001b[0m \u001b[0;32min\u001b[0m \u001b[0mself\u001b[0m\u001b[0;34m.\u001b[0m\u001b[0m_node\u001b[0m\u001b[0;34m:\u001b[0m\u001b[0;34m\u001b[0m\u001b[0;34m\u001b[0m\u001b[0m\n",
      "\u001b[0;31mNetworkXError\u001b[0m: Edge tuple president must be a 2-tuple or 3-tuple.",
      "\nDuring handling of the above exception, another exception occurred:\n",
      "\u001b[0;31mNetworkXError\u001b[0m                             Traceback (most recent call last)",
      "\u001b[0;32m<ipython-input-29-977760144466>\u001b[0m in \u001b[0;36m<module>\u001b[0;34m\u001b[0m\n\u001b[0;32m----> 1\u001b[0;31m \u001b[0mglobal_cda_paper\u001b[0m \u001b[0;34m=\u001b[0m \u001b[0mut\u001b[0m\u001b[0;34m.\u001b[0m\u001b[0mnetwork_graph\u001b[0m\u001b[0;34m(\u001b[0m\u001b[0mco_matrix_paper\u001b[0m\u001b[0;34m,\u001b[0m \u001b[0;34m'community'\u001b[0m\u001b[0;34m,\u001b[0m \u001b[0mnounphrase\u001b[0m\u001b[0;34m,\u001b[0m \u001b[0;34m'global'\u001b[0m\u001b[0;34m,\u001b[0m \u001b[0;34m'paper'\u001b[0m\u001b[0;34m)\u001b[0m\u001b[0;34m\u001b[0m\u001b[0;34m\u001b[0m\u001b[0m\n\u001b[0m",
      "\u001b[0;32m~/Desktop/Grad_School/ML_and_PubPol/SOTU_Project/State-of-the-Unions/utils.py\u001b[0m in \u001b[0;36mnetwork_graph\u001b[0;34m(df, method, nounphrase, timeperiod, similarity)\u001b[0m\n\u001b[1;32m    214\u001b[0m \u001b[0;34m\u001b[0m\u001b[0m\n\u001b[1;32m    215\u001b[0m     \u001b[0;31m# establish graph\u001b[0m\u001b[0;34m\u001b[0m\u001b[0;34m\u001b[0m\u001b[0;34m\u001b[0m\u001b[0m\n\u001b[0;32m--> 216\u001b[0;31m     \u001b[0mgraph\u001b[0m \u001b[0;34m=\u001b[0m \u001b[0mnx\u001b[0m\u001b[0;34m.\u001b[0m\u001b[0mGraph\u001b[0m\u001b[0;34m(\u001b[0m\u001b[0mdf\u001b[0m\u001b[0;34m)\u001b[0m\u001b[0;34m\u001b[0m\u001b[0;34m\u001b[0m\u001b[0m\n\u001b[0m\u001b[1;32m    217\u001b[0m \u001b[0;34m\u001b[0m\u001b[0m\n\u001b[1;32m    218\u001b[0m     \u001b[0medges\u001b[0m\u001b[0;34m,\u001b[0m\u001b[0mweights\u001b[0m \u001b[0;34m=\u001b[0m \u001b[0mzip\u001b[0m\u001b[0;34m(\u001b[0m\u001b[0;34m*\u001b[0m\u001b[0mnx\u001b[0m\u001b[0;34m.\u001b[0m\u001b[0mget_edge_attributes\u001b[0m\u001b[0;34m(\u001b[0m\u001b[0mgraph\u001b[0m\u001b[0;34m,\u001b[0m\u001b[0;34m'weight'\u001b[0m\u001b[0;34m)\u001b[0m\u001b[0;34m.\u001b[0m\u001b[0mitems\u001b[0m\u001b[0;34m(\u001b[0m\u001b[0;34m)\u001b[0m\u001b[0;34m)\u001b[0m\u001b[0;34m\u001b[0m\u001b[0;34m\u001b[0m\u001b[0m\n",
      "\u001b[0;32m/Library/Frameworks/Python.framework/Versions/3.7/lib/python3.7/site-packages/networkx/classes/graph.py\u001b[0m in \u001b[0;36m__init__\u001b[0;34m(self, incoming_graph_data, **attr)\u001b[0m\n\u001b[1;32m    344\u001b[0m         \u001b[0;31m# attempt to load graph with data\u001b[0m\u001b[0;34m\u001b[0m\u001b[0;34m\u001b[0m\u001b[0;34m\u001b[0m\u001b[0m\n\u001b[1;32m    345\u001b[0m         \u001b[0;32mif\u001b[0m \u001b[0mincoming_graph_data\u001b[0m \u001b[0;32mis\u001b[0m \u001b[0;32mnot\u001b[0m \u001b[0;32mNone\u001b[0m\u001b[0;34m:\u001b[0m\u001b[0;34m\u001b[0m\u001b[0;34m\u001b[0m\u001b[0m\n\u001b[0;32m--> 346\u001b[0;31m             \u001b[0mconvert\u001b[0m\u001b[0;34m.\u001b[0m\u001b[0mto_networkx_graph\u001b[0m\u001b[0;34m(\u001b[0m\u001b[0mincoming_graph_data\u001b[0m\u001b[0;34m,\u001b[0m \u001b[0mcreate_using\u001b[0m\u001b[0;34m=\u001b[0m\u001b[0mself\u001b[0m\u001b[0;34m)\u001b[0m\u001b[0;34m\u001b[0m\u001b[0;34m\u001b[0m\u001b[0m\n\u001b[0m\u001b[1;32m    347\u001b[0m         \u001b[0;31m# load graph attributes (must be after convert)\u001b[0m\u001b[0;34m\u001b[0m\u001b[0;34m\u001b[0m\u001b[0;34m\u001b[0m\u001b[0m\n\u001b[1;32m    348\u001b[0m         \u001b[0mself\u001b[0m\u001b[0;34m.\u001b[0m\u001b[0mgraph\u001b[0m\u001b[0;34m.\u001b[0m\u001b[0mupdate\u001b[0m\u001b[0;34m(\u001b[0m\u001b[0mattr\u001b[0m\u001b[0;34m)\u001b[0m\u001b[0;34m\u001b[0m\u001b[0;34m\u001b[0m\u001b[0m\n",
      "\u001b[0;32m/Library/Frameworks/Python.framework/Versions/3.7/lib/python3.7/site-packages/networkx/convert.py\u001b[0m in \u001b[0;36mto_networkx_graph\u001b[0;34m(data, create_using, multigraph_input)\u001b[0m\n\u001b[1;32m    114\u001b[0m             \u001b[0;32mreturn\u001b[0m \u001b[0mfrom_edgelist\u001b[0m\u001b[0;34m(\u001b[0m\u001b[0mdata\u001b[0m\u001b[0;34m,\u001b[0m \u001b[0mcreate_using\u001b[0m\u001b[0;34m=\u001b[0m\u001b[0mcreate_using\u001b[0m\u001b[0;34m)\u001b[0m\u001b[0;34m\u001b[0m\u001b[0;34m\u001b[0m\u001b[0m\n\u001b[1;32m    115\u001b[0m         \u001b[0;32mexcept\u001b[0m\u001b[0;34m:\u001b[0m\u001b[0;34m\u001b[0m\u001b[0;34m\u001b[0m\u001b[0m\n\u001b[0;32m--> 116\u001b[0;31m             \u001b[0;32mraise\u001b[0m \u001b[0mnx\u001b[0m\u001b[0;34m.\u001b[0m\u001b[0mNetworkXError\u001b[0m\u001b[0;34m(\u001b[0m\u001b[0;34m\"Input is not a valid edge list\"\u001b[0m\u001b[0;34m)\u001b[0m\u001b[0;34m\u001b[0m\u001b[0;34m\u001b[0m\u001b[0m\n\u001b[0m\u001b[1;32m    117\u001b[0m \u001b[0;34m\u001b[0m\u001b[0m\n\u001b[1;32m    118\u001b[0m     \u001b[0;31m# Pandas DataFrame\u001b[0m\u001b[0;34m\u001b[0m\u001b[0;34m\u001b[0m\u001b[0;34m\u001b[0m\u001b[0m\n",
      "\u001b[0;31mNetworkXError\u001b[0m: Input is not a valid edge list"
     ]
    }
   ],
   "source": [
    "global_cda_paper = ut.network_graph(co_matrix_paper, 'community', nounphrase, 'global', 'paper')"
   ]
  },
  {
   "cell_type": "markdown",
   "metadata": {},
   "source": [
    "Create network graph using community detection algorithms and cosine similarity"
   ]
  },
  {
   "cell_type": "code",
   "execution_count": 30,
   "metadata": {},
   "outputs": [
    {
     "ename": "NetworkXError",
     "evalue": "Input is not a valid edge list",
     "output_type": "error",
     "traceback": [
      "\u001b[0;31m---------------------------------------------------------------------------\u001b[0m",
      "\u001b[0;31mNetworkXError\u001b[0m                             Traceback (most recent call last)",
      "\u001b[0;32m/Library/Frameworks/Python.framework/Versions/3.7/lib/python3.7/site-packages/networkx/convert.py\u001b[0m in \u001b[0;36mto_networkx_graph\u001b[0;34m(data, create_using, multigraph_input)\u001b[0m\n\u001b[1;32m    113\u001b[0m         \u001b[0;32mtry\u001b[0m\u001b[0;34m:\u001b[0m\u001b[0;34m\u001b[0m\u001b[0;34m\u001b[0m\u001b[0m\n\u001b[0;32m--> 114\u001b[0;31m             \u001b[0;32mreturn\u001b[0m \u001b[0mfrom_edgelist\u001b[0m\u001b[0;34m(\u001b[0m\u001b[0mdata\u001b[0m\u001b[0;34m,\u001b[0m \u001b[0mcreate_using\u001b[0m\u001b[0;34m=\u001b[0m\u001b[0mcreate_using\u001b[0m\u001b[0;34m)\u001b[0m\u001b[0;34m\u001b[0m\u001b[0;34m\u001b[0m\u001b[0m\n\u001b[0m\u001b[1;32m    115\u001b[0m         \u001b[0;32mexcept\u001b[0m\u001b[0;34m:\u001b[0m\u001b[0;34m\u001b[0m\u001b[0;34m\u001b[0m\u001b[0m\n",
      "\u001b[0;32m/Library/Frameworks/Python.framework/Versions/3.7/lib/python3.7/site-packages/networkx/convert.py\u001b[0m in \u001b[0;36mfrom_edgelist\u001b[0;34m(edgelist, create_using)\u001b[0m\n\u001b[1;32m    389\u001b[0m     \u001b[0mG\u001b[0m \u001b[0;34m=\u001b[0m \u001b[0mnx\u001b[0m\u001b[0;34m.\u001b[0m\u001b[0mempty_graph\u001b[0m\u001b[0;34m(\u001b[0m\u001b[0;36m0\u001b[0m\u001b[0;34m,\u001b[0m \u001b[0mcreate_using\u001b[0m\u001b[0;34m)\u001b[0m\u001b[0;34m\u001b[0m\u001b[0;34m\u001b[0m\u001b[0m\n\u001b[0;32m--> 390\u001b[0;31m     \u001b[0mG\u001b[0m\u001b[0;34m.\u001b[0m\u001b[0madd_edges_from\u001b[0m\u001b[0;34m(\u001b[0m\u001b[0medgelist\u001b[0m\u001b[0;34m)\u001b[0m\u001b[0;34m\u001b[0m\u001b[0;34m\u001b[0m\u001b[0m\n\u001b[0m\u001b[1;32m    391\u001b[0m     \u001b[0;32mreturn\u001b[0m \u001b[0mG\u001b[0m\u001b[0;34m\u001b[0m\u001b[0;34m\u001b[0m\u001b[0m\n",
      "\u001b[0;32m/Library/Frameworks/Python.framework/Versions/3.7/lib/python3.7/site-packages/networkx/classes/graph.py\u001b[0m in \u001b[0;36madd_edges_from\u001b[0;34m(self, ebunch_to_add, **attr)\u001b[0m\n\u001b[1;32m    968\u001b[0m                 raise NetworkXError(\n\u001b[0;32m--> 969\u001b[0;31m                     \"Edge tuple %s must be a 2-tuple or 3-tuple.\" % (e,))\n\u001b[0m\u001b[1;32m    970\u001b[0m             \u001b[0;32mif\u001b[0m \u001b[0mu\u001b[0m \u001b[0;32mnot\u001b[0m \u001b[0;32min\u001b[0m \u001b[0mself\u001b[0m\u001b[0;34m.\u001b[0m\u001b[0m_node\u001b[0m\u001b[0;34m:\u001b[0m\u001b[0;34m\u001b[0m\u001b[0;34m\u001b[0m\u001b[0m\n",
      "\u001b[0;31mNetworkXError\u001b[0m: Edge tuple president must be a 2-tuple or 3-tuple.",
      "\nDuring handling of the above exception, another exception occurred:\n",
      "\u001b[0;31mNetworkXError\u001b[0m                             Traceback (most recent call last)",
      "\u001b[0;32m<ipython-input-30-8155895b2472>\u001b[0m in \u001b[0;36m<module>\u001b[0;34m\u001b[0m\n\u001b[0;32m----> 1\u001b[0;31m \u001b[0mglobal_cda_cosine\u001b[0m \u001b[0;34m=\u001b[0m \u001b[0mut\u001b[0m\u001b[0;34m.\u001b[0m\u001b[0mnetwork_graph\u001b[0m\u001b[0;34m(\u001b[0m\u001b[0mco_matrix\u001b[0m\u001b[0;34m,\u001b[0m \u001b[0;34m'community'\u001b[0m\u001b[0;34m,\u001b[0m \u001b[0mnounphrase\u001b[0m\u001b[0;34m,\u001b[0m \u001b[0;34m'global'\u001b[0m\u001b[0;34m,\u001b[0m \u001b[0;34m'cosine'\u001b[0m\u001b[0;34m)\u001b[0m\u001b[0;34m\u001b[0m\u001b[0;34m\u001b[0m\u001b[0m\n\u001b[0m",
      "\u001b[0;32m~/Desktop/Grad_School/ML_and_PubPol/SOTU_Project/State-of-the-Unions/utils.py\u001b[0m in \u001b[0;36mnetwork_graph\u001b[0;34m(df, method, nounphrase, timeperiod, similarity)\u001b[0m\n\u001b[1;32m    214\u001b[0m \u001b[0;34m\u001b[0m\u001b[0m\n\u001b[1;32m    215\u001b[0m     \u001b[0;31m# establish graph\u001b[0m\u001b[0;34m\u001b[0m\u001b[0;34m\u001b[0m\u001b[0;34m\u001b[0m\u001b[0m\n\u001b[0;32m--> 216\u001b[0;31m     \u001b[0mgraph\u001b[0m \u001b[0;34m=\u001b[0m \u001b[0mnx\u001b[0m\u001b[0;34m.\u001b[0m\u001b[0mGraph\u001b[0m\u001b[0;34m(\u001b[0m\u001b[0mdf\u001b[0m\u001b[0;34m)\u001b[0m\u001b[0;34m\u001b[0m\u001b[0;34m\u001b[0m\u001b[0m\n\u001b[0m\u001b[1;32m    217\u001b[0m \u001b[0;34m\u001b[0m\u001b[0m\n\u001b[1;32m    218\u001b[0m     \u001b[0medges\u001b[0m\u001b[0;34m,\u001b[0m\u001b[0mweights\u001b[0m \u001b[0;34m=\u001b[0m \u001b[0mzip\u001b[0m\u001b[0;34m(\u001b[0m\u001b[0;34m*\u001b[0m\u001b[0mnx\u001b[0m\u001b[0;34m.\u001b[0m\u001b[0mget_edge_attributes\u001b[0m\u001b[0;34m(\u001b[0m\u001b[0mgraph\u001b[0m\u001b[0;34m,\u001b[0m\u001b[0;34m'weight'\u001b[0m\u001b[0;34m)\u001b[0m\u001b[0;34m.\u001b[0m\u001b[0mitems\u001b[0m\u001b[0;34m(\u001b[0m\u001b[0;34m)\u001b[0m\u001b[0;34m)\u001b[0m\u001b[0;34m\u001b[0m\u001b[0;34m\u001b[0m\u001b[0m\n",
      "\u001b[0;32m/Library/Frameworks/Python.framework/Versions/3.7/lib/python3.7/site-packages/networkx/classes/graph.py\u001b[0m in \u001b[0;36m__init__\u001b[0;34m(self, incoming_graph_data, **attr)\u001b[0m\n\u001b[1;32m    344\u001b[0m         \u001b[0;31m# attempt to load graph with data\u001b[0m\u001b[0;34m\u001b[0m\u001b[0;34m\u001b[0m\u001b[0;34m\u001b[0m\u001b[0m\n\u001b[1;32m    345\u001b[0m         \u001b[0;32mif\u001b[0m \u001b[0mincoming_graph_data\u001b[0m \u001b[0;32mis\u001b[0m \u001b[0;32mnot\u001b[0m \u001b[0;32mNone\u001b[0m\u001b[0;34m:\u001b[0m\u001b[0;34m\u001b[0m\u001b[0;34m\u001b[0m\u001b[0m\n\u001b[0;32m--> 346\u001b[0;31m             \u001b[0mconvert\u001b[0m\u001b[0;34m.\u001b[0m\u001b[0mto_networkx_graph\u001b[0m\u001b[0;34m(\u001b[0m\u001b[0mincoming_graph_data\u001b[0m\u001b[0;34m,\u001b[0m \u001b[0mcreate_using\u001b[0m\u001b[0;34m=\u001b[0m\u001b[0mself\u001b[0m\u001b[0;34m)\u001b[0m\u001b[0;34m\u001b[0m\u001b[0;34m\u001b[0m\u001b[0m\n\u001b[0m\u001b[1;32m    347\u001b[0m         \u001b[0;31m# load graph attributes (must be after convert)\u001b[0m\u001b[0;34m\u001b[0m\u001b[0;34m\u001b[0m\u001b[0;34m\u001b[0m\u001b[0m\n\u001b[1;32m    348\u001b[0m         \u001b[0mself\u001b[0m\u001b[0;34m.\u001b[0m\u001b[0mgraph\u001b[0m\u001b[0;34m.\u001b[0m\u001b[0mupdate\u001b[0m\u001b[0;34m(\u001b[0m\u001b[0mattr\u001b[0m\u001b[0;34m)\u001b[0m\u001b[0;34m\u001b[0m\u001b[0;34m\u001b[0m\u001b[0m\n",
      "\u001b[0;32m/Library/Frameworks/Python.framework/Versions/3.7/lib/python3.7/site-packages/networkx/convert.py\u001b[0m in \u001b[0;36mto_networkx_graph\u001b[0;34m(data, create_using, multigraph_input)\u001b[0m\n\u001b[1;32m    114\u001b[0m             \u001b[0;32mreturn\u001b[0m \u001b[0mfrom_edgelist\u001b[0m\u001b[0;34m(\u001b[0m\u001b[0mdata\u001b[0m\u001b[0;34m,\u001b[0m \u001b[0mcreate_using\u001b[0m\u001b[0;34m=\u001b[0m\u001b[0mcreate_using\u001b[0m\u001b[0;34m)\u001b[0m\u001b[0;34m\u001b[0m\u001b[0;34m\u001b[0m\u001b[0m\n\u001b[1;32m    115\u001b[0m         \u001b[0;32mexcept\u001b[0m\u001b[0;34m:\u001b[0m\u001b[0;34m\u001b[0m\u001b[0;34m\u001b[0m\u001b[0m\n\u001b[0;32m--> 116\u001b[0;31m             \u001b[0;32mraise\u001b[0m \u001b[0mnx\u001b[0m\u001b[0;34m.\u001b[0m\u001b[0mNetworkXError\u001b[0m\u001b[0;34m(\u001b[0m\u001b[0;34m\"Input is not a valid edge list\"\u001b[0m\u001b[0;34m)\u001b[0m\u001b[0;34m\u001b[0m\u001b[0;34m\u001b[0m\u001b[0m\n\u001b[0m\u001b[1;32m    117\u001b[0m \u001b[0;34m\u001b[0m\u001b[0m\n\u001b[1;32m    118\u001b[0m     \u001b[0;31m# Pandas DataFrame\u001b[0m\u001b[0;34m\u001b[0m\u001b[0;34m\u001b[0m\u001b[0;34m\u001b[0m\u001b[0m\n",
      "\u001b[0;31mNetworkXError\u001b[0m: Input is not a valid edge list"
     ]
    }
   ],
   "source": [
    "global_cda_cosine = ut.network_graph(co_matrix, 'community', nounphrase, 'global', 'cosine')"
   ]
  },
  {
   "cell_type": "markdown",
   "metadata": {},
   "source": [
    "Create network graph using kmeans unsupervised clustering and paper's approach "
   ]
  },
  {
   "cell_type": "code",
   "execution_count": 37,
   "metadata": {},
   "outputs": [
    {
     "ename": "NetworkXError",
     "evalue": "Input is not a valid edge list",
     "output_type": "error",
     "traceback": [
      "\u001b[0;31m---------------------------------------------------------------------------\u001b[0m",
      "\u001b[0;31mNetworkXError\u001b[0m                             Traceback (most recent call last)",
      "\u001b[0;32m/Library/Frameworks/Python.framework/Versions/3.7/lib/python3.7/site-packages/networkx/convert.py\u001b[0m in \u001b[0;36mto_networkx_graph\u001b[0;34m(data, create_using, multigraph_input)\u001b[0m\n\u001b[1;32m    113\u001b[0m         \u001b[0;32mtry\u001b[0m\u001b[0;34m:\u001b[0m\u001b[0;34m\u001b[0m\u001b[0;34m\u001b[0m\u001b[0m\n\u001b[0;32m--> 114\u001b[0;31m             \u001b[0;32mreturn\u001b[0m \u001b[0mfrom_edgelist\u001b[0m\u001b[0;34m(\u001b[0m\u001b[0mdata\u001b[0m\u001b[0;34m,\u001b[0m \u001b[0mcreate_using\u001b[0m\u001b[0;34m=\u001b[0m\u001b[0mcreate_using\u001b[0m\u001b[0;34m)\u001b[0m\u001b[0;34m\u001b[0m\u001b[0;34m\u001b[0m\u001b[0m\n\u001b[0m\u001b[1;32m    115\u001b[0m         \u001b[0;32mexcept\u001b[0m\u001b[0;34m:\u001b[0m\u001b[0;34m\u001b[0m\u001b[0;34m\u001b[0m\u001b[0m\n",
      "\u001b[0;32m/Library/Frameworks/Python.framework/Versions/3.7/lib/python3.7/site-packages/networkx/convert.py\u001b[0m in \u001b[0;36mfrom_edgelist\u001b[0;34m(edgelist, create_using)\u001b[0m\n\u001b[1;32m    389\u001b[0m     \u001b[0mG\u001b[0m \u001b[0;34m=\u001b[0m \u001b[0mnx\u001b[0m\u001b[0;34m.\u001b[0m\u001b[0mempty_graph\u001b[0m\u001b[0;34m(\u001b[0m\u001b[0;36m0\u001b[0m\u001b[0;34m,\u001b[0m \u001b[0mcreate_using\u001b[0m\u001b[0;34m)\u001b[0m\u001b[0;34m\u001b[0m\u001b[0;34m\u001b[0m\u001b[0m\n\u001b[0;32m--> 390\u001b[0;31m     \u001b[0mG\u001b[0m\u001b[0;34m.\u001b[0m\u001b[0madd_edges_from\u001b[0m\u001b[0;34m(\u001b[0m\u001b[0medgelist\u001b[0m\u001b[0;34m)\u001b[0m\u001b[0;34m\u001b[0m\u001b[0;34m\u001b[0m\u001b[0m\n\u001b[0m\u001b[1;32m    391\u001b[0m     \u001b[0;32mreturn\u001b[0m \u001b[0mG\u001b[0m\u001b[0;34m\u001b[0m\u001b[0;34m\u001b[0m\u001b[0m\n",
      "\u001b[0;32m/Library/Frameworks/Python.framework/Versions/3.7/lib/python3.7/site-packages/networkx/classes/graph.py\u001b[0m in \u001b[0;36madd_edges_from\u001b[0;34m(self, ebunch_to_add, **attr)\u001b[0m\n\u001b[1;32m    968\u001b[0m                 raise NetworkXError(\n\u001b[0;32m--> 969\u001b[0;31m                     \"Edge tuple %s must be a 2-tuple or 3-tuple.\" % (e,))\n\u001b[0m\u001b[1;32m    970\u001b[0m             \u001b[0;32mif\u001b[0m \u001b[0mu\u001b[0m \u001b[0;32mnot\u001b[0m \u001b[0;32min\u001b[0m \u001b[0mself\u001b[0m\u001b[0;34m.\u001b[0m\u001b[0m_node\u001b[0m\u001b[0;34m:\u001b[0m\u001b[0;34m\u001b[0m\u001b[0;34m\u001b[0m\u001b[0m\n",
      "\u001b[0;31mNetworkXError\u001b[0m: Edge tuple president must be a 2-tuple or 3-tuple.",
      "\nDuring handling of the above exception, another exception occurred:\n",
      "\u001b[0;31mNetworkXError\u001b[0m                             Traceback (most recent call last)",
      "\u001b[0;32m<ipython-input-37-6f9e03153fb3>\u001b[0m in \u001b[0;36m<module>\u001b[0;34m\u001b[0m\n\u001b[0;32m----> 1\u001b[0;31m \u001b[0mglobal_kmeans_paper\u001b[0m \u001b[0;34m=\u001b[0m \u001b[0mut\u001b[0m\u001b[0;34m.\u001b[0m\u001b[0mnetwork_graph\u001b[0m\u001b[0;34m(\u001b[0m\u001b[0mco_matrix_paper\u001b[0m\u001b[0;34m,\u001b[0m \u001b[0;34m'kmeans'\u001b[0m\u001b[0;34m,\u001b[0m \u001b[0mnounphrase\u001b[0m\u001b[0;34m,\u001b[0m \u001b[0;34m'global'\u001b[0m\u001b[0;34m,\u001b[0m \u001b[0;34m'paper'\u001b[0m\u001b[0;34m)\u001b[0m\u001b[0;34m\u001b[0m\u001b[0;34m\u001b[0m\u001b[0m\n\u001b[0m",
      "\u001b[0;32m~/Desktop/Grad_School/ML_and_PubPol/SOTU_Project/State-of-the-Unions/utils.py\u001b[0m in \u001b[0;36mnetwork_graph\u001b[0;34m(df, method, nounphrase, timeperiod, similarity)\u001b[0m\n\u001b[1;32m    214\u001b[0m \u001b[0;34m\u001b[0m\u001b[0m\n\u001b[1;32m    215\u001b[0m     \u001b[0;31m# establish graph\u001b[0m\u001b[0;34m\u001b[0m\u001b[0;34m\u001b[0m\u001b[0;34m\u001b[0m\u001b[0m\n\u001b[0;32m--> 216\u001b[0;31m     \u001b[0mgraph\u001b[0m \u001b[0;34m=\u001b[0m \u001b[0mnx\u001b[0m\u001b[0;34m.\u001b[0m\u001b[0mGraph\u001b[0m\u001b[0;34m(\u001b[0m\u001b[0mdf\u001b[0m\u001b[0;34m)\u001b[0m\u001b[0;34m\u001b[0m\u001b[0;34m\u001b[0m\u001b[0m\n\u001b[0m\u001b[1;32m    217\u001b[0m \u001b[0;34m\u001b[0m\u001b[0m\n\u001b[1;32m    218\u001b[0m     \u001b[0medges\u001b[0m\u001b[0;34m,\u001b[0m\u001b[0mweights\u001b[0m \u001b[0;34m=\u001b[0m \u001b[0mzip\u001b[0m\u001b[0;34m(\u001b[0m\u001b[0;34m*\u001b[0m\u001b[0mnx\u001b[0m\u001b[0;34m.\u001b[0m\u001b[0mget_edge_attributes\u001b[0m\u001b[0;34m(\u001b[0m\u001b[0mgraph\u001b[0m\u001b[0;34m,\u001b[0m\u001b[0;34m'weight'\u001b[0m\u001b[0;34m)\u001b[0m\u001b[0;34m.\u001b[0m\u001b[0mitems\u001b[0m\u001b[0;34m(\u001b[0m\u001b[0;34m)\u001b[0m\u001b[0;34m)\u001b[0m\u001b[0;34m\u001b[0m\u001b[0;34m\u001b[0m\u001b[0m\n",
      "\u001b[0;32m/Library/Frameworks/Python.framework/Versions/3.7/lib/python3.7/site-packages/networkx/classes/graph.py\u001b[0m in \u001b[0;36m__init__\u001b[0;34m(self, incoming_graph_data, **attr)\u001b[0m\n\u001b[1;32m    344\u001b[0m         \u001b[0;31m# attempt to load graph with data\u001b[0m\u001b[0;34m\u001b[0m\u001b[0;34m\u001b[0m\u001b[0;34m\u001b[0m\u001b[0m\n\u001b[1;32m    345\u001b[0m         \u001b[0;32mif\u001b[0m \u001b[0mincoming_graph_data\u001b[0m \u001b[0;32mis\u001b[0m \u001b[0;32mnot\u001b[0m \u001b[0;32mNone\u001b[0m\u001b[0;34m:\u001b[0m\u001b[0;34m\u001b[0m\u001b[0;34m\u001b[0m\u001b[0m\n\u001b[0;32m--> 346\u001b[0;31m             \u001b[0mconvert\u001b[0m\u001b[0;34m.\u001b[0m\u001b[0mto_networkx_graph\u001b[0m\u001b[0;34m(\u001b[0m\u001b[0mincoming_graph_data\u001b[0m\u001b[0;34m,\u001b[0m \u001b[0mcreate_using\u001b[0m\u001b[0;34m=\u001b[0m\u001b[0mself\u001b[0m\u001b[0;34m)\u001b[0m\u001b[0;34m\u001b[0m\u001b[0;34m\u001b[0m\u001b[0m\n\u001b[0m\u001b[1;32m    347\u001b[0m         \u001b[0;31m# load graph attributes (must be after convert)\u001b[0m\u001b[0;34m\u001b[0m\u001b[0;34m\u001b[0m\u001b[0;34m\u001b[0m\u001b[0m\n\u001b[1;32m    348\u001b[0m         \u001b[0mself\u001b[0m\u001b[0;34m.\u001b[0m\u001b[0mgraph\u001b[0m\u001b[0;34m.\u001b[0m\u001b[0mupdate\u001b[0m\u001b[0;34m(\u001b[0m\u001b[0mattr\u001b[0m\u001b[0;34m)\u001b[0m\u001b[0;34m\u001b[0m\u001b[0;34m\u001b[0m\u001b[0m\n",
      "\u001b[0;32m/Library/Frameworks/Python.framework/Versions/3.7/lib/python3.7/site-packages/networkx/convert.py\u001b[0m in \u001b[0;36mto_networkx_graph\u001b[0;34m(data, create_using, multigraph_input)\u001b[0m\n\u001b[1;32m    114\u001b[0m             \u001b[0;32mreturn\u001b[0m \u001b[0mfrom_edgelist\u001b[0m\u001b[0;34m(\u001b[0m\u001b[0mdata\u001b[0m\u001b[0;34m,\u001b[0m \u001b[0mcreate_using\u001b[0m\u001b[0;34m=\u001b[0m\u001b[0mcreate_using\u001b[0m\u001b[0;34m)\u001b[0m\u001b[0;34m\u001b[0m\u001b[0;34m\u001b[0m\u001b[0m\n\u001b[1;32m    115\u001b[0m         \u001b[0;32mexcept\u001b[0m\u001b[0;34m:\u001b[0m\u001b[0;34m\u001b[0m\u001b[0;34m\u001b[0m\u001b[0m\n\u001b[0;32m--> 116\u001b[0;31m             \u001b[0;32mraise\u001b[0m \u001b[0mnx\u001b[0m\u001b[0;34m.\u001b[0m\u001b[0mNetworkXError\u001b[0m\u001b[0;34m(\u001b[0m\u001b[0;34m\"Input is not a valid edge list\"\u001b[0m\u001b[0;34m)\u001b[0m\u001b[0;34m\u001b[0m\u001b[0;34m\u001b[0m\u001b[0m\n\u001b[0m\u001b[1;32m    117\u001b[0m \u001b[0;34m\u001b[0m\u001b[0m\n\u001b[1;32m    118\u001b[0m     \u001b[0;31m# Pandas DataFrame\u001b[0m\u001b[0;34m\u001b[0m\u001b[0;34m\u001b[0m\u001b[0;34m\u001b[0m\u001b[0m\n",
      "\u001b[0;31mNetworkXError\u001b[0m: Input is not a valid edge list"
     ]
    }
   ],
   "source": [
    "global_kmeans_paper = ut.network_graph(co_matrix_paper, 'kmeans', nounphrase, 'global', 'paper')"
   ]
  },
  {
   "cell_type": "markdown",
   "metadata": {},
   "source": [
    "Create network graph using kmeans unsupervised clustering and cosine similarity "
   ]
  },
  {
   "cell_type": "code",
   "execution_count": 38,
   "metadata": {},
   "outputs": [
    {
     "ename": "NetworkXError",
     "evalue": "Input is not a valid edge list",
     "output_type": "error",
     "traceback": [
      "\u001b[0;31m---------------------------------------------------------------------------\u001b[0m",
      "\u001b[0;31mNetworkXError\u001b[0m                             Traceback (most recent call last)",
      "\u001b[0;32m/Library/Frameworks/Python.framework/Versions/3.7/lib/python3.7/site-packages/networkx/convert.py\u001b[0m in \u001b[0;36mto_networkx_graph\u001b[0;34m(data, create_using, multigraph_input)\u001b[0m\n\u001b[1;32m    113\u001b[0m         \u001b[0;32mtry\u001b[0m\u001b[0;34m:\u001b[0m\u001b[0;34m\u001b[0m\u001b[0;34m\u001b[0m\u001b[0m\n\u001b[0;32m--> 114\u001b[0;31m             \u001b[0;32mreturn\u001b[0m \u001b[0mfrom_edgelist\u001b[0m\u001b[0;34m(\u001b[0m\u001b[0mdata\u001b[0m\u001b[0;34m,\u001b[0m \u001b[0mcreate_using\u001b[0m\u001b[0;34m=\u001b[0m\u001b[0mcreate_using\u001b[0m\u001b[0;34m)\u001b[0m\u001b[0;34m\u001b[0m\u001b[0;34m\u001b[0m\u001b[0m\n\u001b[0m\u001b[1;32m    115\u001b[0m         \u001b[0;32mexcept\u001b[0m\u001b[0;34m:\u001b[0m\u001b[0;34m\u001b[0m\u001b[0;34m\u001b[0m\u001b[0m\n",
      "\u001b[0;32m/Library/Frameworks/Python.framework/Versions/3.7/lib/python3.7/site-packages/networkx/convert.py\u001b[0m in \u001b[0;36mfrom_edgelist\u001b[0;34m(edgelist, create_using)\u001b[0m\n\u001b[1;32m    389\u001b[0m     \u001b[0mG\u001b[0m \u001b[0;34m=\u001b[0m \u001b[0mnx\u001b[0m\u001b[0;34m.\u001b[0m\u001b[0mempty_graph\u001b[0m\u001b[0;34m(\u001b[0m\u001b[0;36m0\u001b[0m\u001b[0;34m,\u001b[0m \u001b[0mcreate_using\u001b[0m\u001b[0;34m)\u001b[0m\u001b[0;34m\u001b[0m\u001b[0;34m\u001b[0m\u001b[0m\n\u001b[0;32m--> 390\u001b[0;31m     \u001b[0mG\u001b[0m\u001b[0;34m.\u001b[0m\u001b[0madd_edges_from\u001b[0m\u001b[0;34m(\u001b[0m\u001b[0medgelist\u001b[0m\u001b[0;34m)\u001b[0m\u001b[0;34m\u001b[0m\u001b[0;34m\u001b[0m\u001b[0m\n\u001b[0m\u001b[1;32m    391\u001b[0m     \u001b[0;32mreturn\u001b[0m \u001b[0mG\u001b[0m\u001b[0;34m\u001b[0m\u001b[0;34m\u001b[0m\u001b[0m\n",
      "\u001b[0;32m/Library/Frameworks/Python.framework/Versions/3.7/lib/python3.7/site-packages/networkx/classes/graph.py\u001b[0m in \u001b[0;36madd_edges_from\u001b[0;34m(self, ebunch_to_add, **attr)\u001b[0m\n\u001b[1;32m    968\u001b[0m                 raise NetworkXError(\n\u001b[0;32m--> 969\u001b[0;31m                     \"Edge tuple %s must be a 2-tuple or 3-tuple.\" % (e,))\n\u001b[0m\u001b[1;32m    970\u001b[0m             \u001b[0;32mif\u001b[0m \u001b[0mu\u001b[0m \u001b[0;32mnot\u001b[0m \u001b[0;32min\u001b[0m \u001b[0mself\u001b[0m\u001b[0;34m.\u001b[0m\u001b[0m_node\u001b[0m\u001b[0;34m:\u001b[0m\u001b[0;34m\u001b[0m\u001b[0;34m\u001b[0m\u001b[0m\n",
      "\u001b[0;31mNetworkXError\u001b[0m: Edge tuple president must be a 2-tuple or 3-tuple.",
      "\nDuring handling of the above exception, another exception occurred:\n",
      "\u001b[0;31mNetworkXError\u001b[0m                             Traceback (most recent call last)",
      "\u001b[0;32m<ipython-input-38-e38666d32b59>\u001b[0m in \u001b[0;36m<module>\u001b[0;34m\u001b[0m\n\u001b[0;32m----> 1\u001b[0;31m \u001b[0mglobal_kmeans_cosine\u001b[0m\u001b[0;34m=\u001b[0m \u001b[0mut\u001b[0m\u001b[0;34m.\u001b[0m\u001b[0mnetwork_graph\u001b[0m\u001b[0;34m(\u001b[0m\u001b[0mco_matrix\u001b[0m\u001b[0;34m,\u001b[0m \u001b[0;34m'kmeans'\u001b[0m\u001b[0;34m,\u001b[0m \u001b[0mnounphrase\u001b[0m\u001b[0;34m,\u001b[0m \u001b[0;34m'global'\u001b[0m\u001b[0;34m,\u001b[0m \u001b[0;34m'cosine'\u001b[0m\u001b[0;34m)\u001b[0m\u001b[0;34m\u001b[0m\u001b[0;34m\u001b[0m\u001b[0m\n\u001b[0m",
      "\u001b[0;32m~/Desktop/Grad_School/ML_and_PubPol/SOTU_Project/State-of-the-Unions/utils.py\u001b[0m in \u001b[0;36mnetwork_graph\u001b[0;34m(df, method, nounphrase, timeperiod, similarity)\u001b[0m\n\u001b[1;32m    214\u001b[0m \u001b[0;34m\u001b[0m\u001b[0m\n\u001b[1;32m    215\u001b[0m     \u001b[0;31m# establish graph\u001b[0m\u001b[0;34m\u001b[0m\u001b[0;34m\u001b[0m\u001b[0;34m\u001b[0m\u001b[0m\n\u001b[0;32m--> 216\u001b[0;31m     \u001b[0mgraph\u001b[0m \u001b[0;34m=\u001b[0m \u001b[0mnx\u001b[0m\u001b[0;34m.\u001b[0m\u001b[0mGraph\u001b[0m\u001b[0;34m(\u001b[0m\u001b[0mdf\u001b[0m\u001b[0;34m)\u001b[0m\u001b[0;34m\u001b[0m\u001b[0;34m\u001b[0m\u001b[0m\n\u001b[0m\u001b[1;32m    217\u001b[0m \u001b[0;34m\u001b[0m\u001b[0m\n\u001b[1;32m    218\u001b[0m     \u001b[0medges\u001b[0m\u001b[0;34m,\u001b[0m\u001b[0mweights\u001b[0m \u001b[0;34m=\u001b[0m \u001b[0mzip\u001b[0m\u001b[0;34m(\u001b[0m\u001b[0;34m*\u001b[0m\u001b[0mnx\u001b[0m\u001b[0;34m.\u001b[0m\u001b[0mget_edge_attributes\u001b[0m\u001b[0;34m(\u001b[0m\u001b[0mgraph\u001b[0m\u001b[0;34m,\u001b[0m\u001b[0;34m'weight'\u001b[0m\u001b[0;34m)\u001b[0m\u001b[0;34m.\u001b[0m\u001b[0mitems\u001b[0m\u001b[0;34m(\u001b[0m\u001b[0;34m)\u001b[0m\u001b[0;34m)\u001b[0m\u001b[0;34m\u001b[0m\u001b[0;34m\u001b[0m\u001b[0m\n",
      "\u001b[0;32m/Library/Frameworks/Python.framework/Versions/3.7/lib/python3.7/site-packages/networkx/classes/graph.py\u001b[0m in \u001b[0;36m__init__\u001b[0;34m(self, incoming_graph_data, **attr)\u001b[0m\n\u001b[1;32m    344\u001b[0m         \u001b[0;31m# attempt to load graph with data\u001b[0m\u001b[0;34m\u001b[0m\u001b[0;34m\u001b[0m\u001b[0;34m\u001b[0m\u001b[0m\n\u001b[1;32m    345\u001b[0m         \u001b[0;32mif\u001b[0m \u001b[0mincoming_graph_data\u001b[0m \u001b[0;32mis\u001b[0m \u001b[0;32mnot\u001b[0m \u001b[0;32mNone\u001b[0m\u001b[0;34m:\u001b[0m\u001b[0;34m\u001b[0m\u001b[0;34m\u001b[0m\u001b[0m\n\u001b[0;32m--> 346\u001b[0;31m             \u001b[0mconvert\u001b[0m\u001b[0;34m.\u001b[0m\u001b[0mto_networkx_graph\u001b[0m\u001b[0;34m(\u001b[0m\u001b[0mincoming_graph_data\u001b[0m\u001b[0;34m,\u001b[0m \u001b[0mcreate_using\u001b[0m\u001b[0;34m=\u001b[0m\u001b[0mself\u001b[0m\u001b[0;34m)\u001b[0m\u001b[0;34m\u001b[0m\u001b[0;34m\u001b[0m\u001b[0m\n\u001b[0m\u001b[1;32m    347\u001b[0m         \u001b[0;31m# load graph attributes (must be after convert)\u001b[0m\u001b[0;34m\u001b[0m\u001b[0;34m\u001b[0m\u001b[0;34m\u001b[0m\u001b[0m\n\u001b[1;32m    348\u001b[0m         \u001b[0mself\u001b[0m\u001b[0;34m.\u001b[0m\u001b[0mgraph\u001b[0m\u001b[0;34m.\u001b[0m\u001b[0mupdate\u001b[0m\u001b[0;34m(\u001b[0m\u001b[0mattr\u001b[0m\u001b[0;34m)\u001b[0m\u001b[0;34m\u001b[0m\u001b[0;34m\u001b[0m\u001b[0m\n",
      "\u001b[0;32m/Library/Frameworks/Python.framework/Versions/3.7/lib/python3.7/site-packages/networkx/convert.py\u001b[0m in \u001b[0;36mto_networkx_graph\u001b[0;34m(data, create_using, multigraph_input)\u001b[0m\n\u001b[1;32m    114\u001b[0m             \u001b[0;32mreturn\u001b[0m \u001b[0mfrom_edgelist\u001b[0m\u001b[0;34m(\u001b[0m\u001b[0mdata\u001b[0m\u001b[0;34m,\u001b[0m \u001b[0mcreate_using\u001b[0m\u001b[0;34m=\u001b[0m\u001b[0mcreate_using\u001b[0m\u001b[0;34m)\u001b[0m\u001b[0;34m\u001b[0m\u001b[0;34m\u001b[0m\u001b[0m\n\u001b[1;32m    115\u001b[0m         \u001b[0;32mexcept\u001b[0m\u001b[0;34m:\u001b[0m\u001b[0;34m\u001b[0m\u001b[0;34m\u001b[0m\u001b[0m\n\u001b[0;32m--> 116\u001b[0;31m             \u001b[0;32mraise\u001b[0m \u001b[0mnx\u001b[0m\u001b[0;34m.\u001b[0m\u001b[0mNetworkXError\u001b[0m\u001b[0;34m(\u001b[0m\u001b[0;34m\"Input is not a valid edge list\"\u001b[0m\u001b[0;34m)\u001b[0m\u001b[0;34m\u001b[0m\u001b[0;34m\u001b[0m\u001b[0m\n\u001b[0m\u001b[1;32m    117\u001b[0m \u001b[0;34m\u001b[0m\u001b[0m\n\u001b[1;32m    118\u001b[0m     \u001b[0;31m# Pandas DataFrame\u001b[0m\u001b[0;34m\u001b[0m\u001b[0;34m\u001b[0m\u001b[0;34m\u001b[0m\u001b[0m\n",
      "\u001b[0;31mNetworkXError\u001b[0m: Input is not a valid edge list"
     ]
    }
   ],
   "source": [
    "global_kmeans_cosine= ut.network_graph(co_matrix, 'kmeans', nounphrase, 'global', 'cosine')"
   ]
  },
  {
   "cell_type": "markdown",
   "metadata": {},
   "source": [
    "### Before 1914 Corpus"
   ]
  },
  {
   "cell_type": "markdown",
   "metadata": {},
   "source": [
    "First turn the before dictionary into a co-occurrence matrix and create cosine and dissimilarity versions of it"
   ]
  },
  {
   "cell_type": "code",
   "execution_count": 39,
   "metadata": {},
   "outputs": [],
   "source": [
    "before_occur = ut.convert_dict_to_list(before_dict)\n",
    "co_before = ut.co_oc_matrix(before_occur, True, False)\n",
    "before_cosine = ut.pairwise_similarity(co_before, 'cosine')\n",
    "before_paper = ut.pairwise_similarity(co_before, 'paper')"
   ]
  },
  {
   "cell_type": "markdown",
   "metadata": {},
   "source": [
    "Create network graph using community detection algorithm and paper dissimilarity"
   ]
  },
  {
   "cell_type": "code",
   "execution_count": 40,
   "metadata": {},
   "outputs": [
    {
     "ename": "NetworkXError",
     "evalue": "Input is not a valid edge list",
     "output_type": "error",
     "traceback": [
      "\u001b[0;31m---------------------------------------------------------------------------\u001b[0m",
      "\u001b[0;31mNetworkXError\u001b[0m                             Traceback (most recent call last)",
      "\u001b[0;32m/Library/Frameworks/Python.framework/Versions/3.7/lib/python3.7/site-packages/networkx/convert.py\u001b[0m in \u001b[0;36mto_networkx_graph\u001b[0;34m(data, create_using, multigraph_input)\u001b[0m\n\u001b[1;32m    113\u001b[0m         \u001b[0;32mtry\u001b[0m\u001b[0;34m:\u001b[0m\u001b[0;34m\u001b[0m\u001b[0;34m\u001b[0m\u001b[0m\n\u001b[0;32m--> 114\u001b[0;31m             \u001b[0;32mreturn\u001b[0m \u001b[0mfrom_edgelist\u001b[0m\u001b[0;34m(\u001b[0m\u001b[0mdata\u001b[0m\u001b[0;34m,\u001b[0m \u001b[0mcreate_using\u001b[0m\u001b[0;34m=\u001b[0m\u001b[0mcreate_using\u001b[0m\u001b[0;34m)\u001b[0m\u001b[0;34m\u001b[0m\u001b[0;34m\u001b[0m\u001b[0m\n\u001b[0m\u001b[1;32m    115\u001b[0m         \u001b[0;32mexcept\u001b[0m\u001b[0;34m:\u001b[0m\u001b[0;34m\u001b[0m\u001b[0;34m\u001b[0m\u001b[0m\n",
      "\u001b[0;32m/Library/Frameworks/Python.framework/Versions/3.7/lib/python3.7/site-packages/networkx/convert.py\u001b[0m in \u001b[0;36mfrom_edgelist\u001b[0;34m(edgelist, create_using)\u001b[0m\n\u001b[1;32m    389\u001b[0m     \u001b[0mG\u001b[0m \u001b[0;34m=\u001b[0m \u001b[0mnx\u001b[0m\u001b[0;34m.\u001b[0m\u001b[0mempty_graph\u001b[0m\u001b[0;34m(\u001b[0m\u001b[0;36m0\u001b[0m\u001b[0;34m,\u001b[0m \u001b[0mcreate_using\u001b[0m\u001b[0;34m)\u001b[0m\u001b[0;34m\u001b[0m\u001b[0;34m\u001b[0m\u001b[0m\n\u001b[0;32m--> 390\u001b[0;31m     \u001b[0mG\u001b[0m\u001b[0;34m.\u001b[0m\u001b[0madd_edges_from\u001b[0m\u001b[0;34m(\u001b[0m\u001b[0medgelist\u001b[0m\u001b[0;34m)\u001b[0m\u001b[0;34m\u001b[0m\u001b[0;34m\u001b[0m\u001b[0m\n\u001b[0m\u001b[1;32m    391\u001b[0m     \u001b[0;32mreturn\u001b[0m \u001b[0mG\u001b[0m\u001b[0;34m\u001b[0m\u001b[0;34m\u001b[0m\u001b[0m\n",
      "\u001b[0;32m/Library/Frameworks/Python.framework/Versions/3.7/lib/python3.7/site-packages/networkx/classes/graph.py\u001b[0m in \u001b[0;36madd_edges_from\u001b[0;34m(self, ebunch_to_add, **attr)\u001b[0m\n\u001b[1;32m    968\u001b[0m                 raise NetworkXError(\n\u001b[0;32m--> 969\u001b[0;31m                     \"Edge tuple %s must be a 2-tuple or 3-tuple.\" % (e,))\n\u001b[0m\u001b[1;32m    970\u001b[0m             \u001b[0;32mif\u001b[0m \u001b[0mu\u001b[0m \u001b[0;32mnot\u001b[0m \u001b[0;32min\u001b[0m \u001b[0mself\u001b[0m\u001b[0;34m.\u001b[0m\u001b[0m_node\u001b[0m\u001b[0;34m:\u001b[0m\u001b[0;34m\u001b[0m\u001b[0;34m\u001b[0m\u001b[0m\n",
      "\u001b[0;31mNetworkXError\u001b[0m: Edge tuple senate must be a 2-tuple or 3-tuple.",
      "\nDuring handling of the above exception, another exception occurred:\n",
      "\u001b[0;31mNetworkXError\u001b[0m                             Traceback (most recent call last)",
      "\u001b[0;32m<ipython-input-40-4ee3ab16bf7e>\u001b[0m in \u001b[0;36m<module>\u001b[0;34m\u001b[0m\n\u001b[0;32m----> 1\u001b[0;31m \u001b[0mbefore_cda_paper\u001b[0m \u001b[0;34m=\u001b[0m \u001b[0mut\u001b[0m\u001b[0;34m.\u001b[0m\u001b[0mnetwork_graph\u001b[0m\u001b[0;34m(\u001b[0m\u001b[0mbefore_paper\u001b[0m\u001b[0;34m,\u001b[0m \u001b[0;34m'community'\u001b[0m\u001b[0;34m,\u001b[0m \u001b[0mnounphrase\u001b[0m\u001b[0;34m,\u001b[0m \u001b[0;34m'before'\u001b[0m\u001b[0;34m,\u001b[0m \u001b[0;34m'paper'\u001b[0m\u001b[0;34m)\u001b[0m\u001b[0;34m\u001b[0m\u001b[0;34m\u001b[0m\u001b[0m\n\u001b[0m",
      "\u001b[0;32m~/Desktop/Grad_School/ML_and_PubPol/SOTU_Project/State-of-the-Unions/utils.py\u001b[0m in \u001b[0;36mnetwork_graph\u001b[0;34m(df, method, nounphrase, timeperiod, similarity)\u001b[0m\n\u001b[1;32m    214\u001b[0m \u001b[0;34m\u001b[0m\u001b[0m\n\u001b[1;32m    215\u001b[0m     \u001b[0;31m# establish graph\u001b[0m\u001b[0;34m\u001b[0m\u001b[0;34m\u001b[0m\u001b[0;34m\u001b[0m\u001b[0m\n\u001b[0;32m--> 216\u001b[0;31m     \u001b[0mgraph\u001b[0m \u001b[0;34m=\u001b[0m \u001b[0mnx\u001b[0m\u001b[0;34m.\u001b[0m\u001b[0mGraph\u001b[0m\u001b[0;34m(\u001b[0m\u001b[0mdf\u001b[0m\u001b[0;34m)\u001b[0m\u001b[0;34m\u001b[0m\u001b[0;34m\u001b[0m\u001b[0m\n\u001b[0m\u001b[1;32m    217\u001b[0m \u001b[0;34m\u001b[0m\u001b[0m\n\u001b[1;32m    218\u001b[0m     \u001b[0medges\u001b[0m\u001b[0;34m,\u001b[0m\u001b[0mweights\u001b[0m \u001b[0;34m=\u001b[0m \u001b[0mzip\u001b[0m\u001b[0;34m(\u001b[0m\u001b[0;34m*\u001b[0m\u001b[0mnx\u001b[0m\u001b[0;34m.\u001b[0m\u001b[0mget_edge_attributes\u001b[0m\u001b[0;34m(\u001b[0m\u001b[0mgraph\u001b[0m\u001b[0;34m,\u001b[0m\u001b[0;34m'weight'\u001b[0m\u001b[0;34m)\u001b[0m\u001b[0;34m.\u001b[0m\u001b[0mitems\u001b[0m\u001b[0;34m(\u001b[0m\u001b[0;34m)\u001b[0m\u001b[0;34m)\u001b[0m\u001b[0;34m\u001b[0m\u001b[0;34m\u001b[0m\u001b[0m\n",
      "\u001b[0;32m/Library/Frameworks/Python.framework/Versions/3.7/lib/python3.7/site-packages/networkx/classes/graph.py\u001b[0m in \u001b[0;36m__init__\u001b[0;34m(self, incoming_graph_data, **attr)\u001b[0m\n\u001b[1;32m    344\u001b[0m         \u001b[0;31m# attempt to load graph with data\u001b[0m\u001b[0;34m\u001b[0m\u001b[0;34m\u001b[0m\u001b[0;34m\u001b[0m\u001b[0m\n\u001b[1;32m    345\u001b[0m         \u001b[0;32mif\u001b[0m \u001b[0mincoming_graph_data\u001b[0m \u001b[0;32mis\u001b[0m \u001b[0;32mnot\u001b[0m \u001b[0;32mNone\u001b[0m\u001b[0;34m:\u001b[0m\u001b[0;34m\u001b[0m\u001b[0;34m\u001b[0m\u001b[0m\n\u001b[0;32m--> 346\u001b[0;31m             \u001b[0mconvert\u001b[0m\u001b[0;34m.\u001b[0m\u001b[0mto_networkx_graph\u001b[0m\u001b[0;34m(\u001b[0m\u001b[0mincoming_graph_data\u001b[0m\u001b[0;34m,\u001b[0m \u001b[0mcreate_using\u001b[0m\u001b[0;34m=\u001b[0m\u001b[0mself\u001b[0m\u001b[0;34m)\u001b[0m\u001b[0;34m\u001b[0m\u001b[0;34m\u001b[0m\u001b[0m\n\u001b[0m\u001b[1;32m    347\u001b[0m         \u001b[0;31m# load graph attributes (must be after convert)\u001b[0m\u001b[0;34m\u001b[0m\u001b[0;34m\u001b[0m\u001b[0;34m\u001b[0m\u001b[0m\n\u001b[1;32m    348\u001b[0m         \u001b[0mself\u001b[0m\u001b[0;34m.\u001b[0m\u001b[0mgraph\u001b[0m\u001b[0;34m.\u001b[0m\u001b[0mupdate\u001b[0m\u001b[0;34m(\u001b[0m\u001b[0mattr\u001b[0m\u001b[0;34m)\u001b[0m\u001b[0;34m\u001b[0m\u001b[0;34m\u001b[0m\u001b[0m\n",
      "\u001b[0;32m/Library/Frameworks/Python.framework/Versions/3.7/lib/python3.7/site-packages/networkx/convert.py\u001b[0m in \u001b[0;36mto_networkx_graph\u001b[0;34m(data, create_using, multigraph_input)\u001b[0m\n\u001b[1;32m    114\u001b[0m             \u001b[0;32mreturn\u001b[0m \u001b[0mfrom_edgelist\u001b[0m\u001b[0;34m(\u001b[0m\u001b[0mdata\u001b[0m\u001b[0;34m,\u001b[0m \u001b[0mcreate_using\u001b[0m\u001b[0;34m=\u001b[0m\u001b[0mcreate_using\u001b[0m\u001b[0;34m)\u001b[0m\u001b[0;34m\u001b[0m\u001b[0;34m\u001b[0m\u001b[0m\n\u001b[1;32m    115\u001b[0m         \u001b[0;32mexcept\u001b[0m\u001b[0;34m:\u001b[0m\u001b[0;34m\u001b[0m\u001b[0;34m\u001b[0m\u001b[0m\n\u001b[0;32m--> 116\u001b[0;31m             \u001b[0;32mraise\u001b[0m \u001b[0mnx\u001b[0m\u001b[0;34m.\u001b[0m\u001b[0mNetworkXError\u001b[0m\u001b[0;34m(\u001b[0m\u001b[0;34m\"Input is not a valid edge list\"\u001b[0m\u001b[0;34m)\u001b[0m\u001b[0;34m\u001b[0m\u001b[0;34m\u001b[0m\u001b[0m\n\u001b[0m\u001b[1;32m    117\u001b[0m \u001b[0;34m\u001b[0m\u001b[0m\n\u001b[1;32m    118\u001b[0m     \u001b[0;31m# Pandas DataFrame\u001b[0m\u001b[0;34m\u001b[0m\u001b[0;34m\u001b[0m\u001b[0;34m\u001b[0m\u001b[0m\n",
      "\u001b[0;31mNetworkXError\u001b[0m: Input is not a valid edge list"
     ]
    }
   ],
   "source": [
    "before_cda_paper = ut.network_graph(before_paper, 'community', nounphrase, 'before', 'paper')"
   ]
  },
  {
   "cell_type": "markdown",
   "metadata": {},
   "source": [
    "Create network graph using community detection algorithm and cosine dissimilarity"
   ]
  },
  {
   "cell_type": "code",
   "execution_count": null,
   "metadata": {},
   "outputs": [],
   "source": [
    "before_cda_cosine = ut.network_graph(before_cosine, 'community', nounphrase, 'before', 'cosine')"
   ]
  },
  {
   "cell_type": "markdown",
   "metadata": {},
   "source": [
    "Create network graph using kmeans and paper dissimilarity"
   ]
  },
  {
   "cell_type": "code",
   "execution_count": null,
   "metadata": {},
   "outputs": [],
   "source": [
    "before_kmeans_paper = ut.network_graph(before_paper, 'kmeans', nounphrase, 'before', 'paper')"
   ]
  },
  {
   "cell_type": "markdown",
   "metadata": {},
   "source": [
    "Create network graph using kmeans and cosine similarity"
   ]
  },
  {
   "cell_type": "code",
   "execution_count": null,
   "metadata": {},
   "outputs": [],
   "source": [
    "before_kmeans_cosine = ut.network_graph(before_cosine, 'kmeans', nounphrase, 'before', 'cosine')"
   ]
  },
  {
   "cell_type": "markdown",
   "metadata": {},
   "source": [
    "### After 1914 Corpus"
   ]
  },
  {
   "cell_type": "markdown",
   "metadata": {},
   "source": [
    "First turn the after dictionary into a co-occurrence matrix and create cosine and dissimilarity versions of it"
   ]
  },
  {
   "cell_type": "code",
   "execution_count": null,
   "metadata": {},
   "outputs": [],
   "source": [
    "after_occur = ut.convert_dict_to_list(after_dict)\n",
    "co_after = ut.co_oc_matrix(after_occur, True, False)\n",
    "after_cosine = ut.pairwise_similarity(co_after, 'cosine')\n",
    "after_paper = ut.pairwise_similarity(co_after, 'paper')"
   ]
  },
  {
   "cell_type": "markdown",
   "metadata": {},
   "source": [
    "Create network graph using community detection algorithm and paper dissimilarity"
   ]
  },
  {
   "cell_type": "code",
   "execution_count": null,
   "metadata": {},
   "outputs": [],
   "source": [
    "after_cda_paper = ut.network_graph(after_paper, 'community', nounphrase, 'after', 'paper')"
   ]
  },
  {
   "cell_type": "markdown",
   "metadata": {},
   "source": [
    "Create network graph using community detection algorithm and cosine dissimilarity"
   ]
  },
  {
   "cell_type": "code",
   "execution_count": null,
   "metadata": {},
   "outputs": [],
   "source": [
    "after_cda_cosine = ut.network_graph(after_cosine, 'community', nounphrase, 'after', 'cosine')"
   ]
  },
  {
   "cell_type": "markdown",
   "metadata": {},
   "source": [
    "Create network graph using kmeans and paper dissimilarity"
   ]
  },
  {
   "cell_type": "code",
   "execution_count": null,
   "metadata": {},
   "outputs": [],
   "source": [
    "after_kmeans_paper = ut.network_graph(after_paper, 'kmeans', nounphrase, 'after', 'paper')"
   ]
  },
  {
   "cell_type": "markdown",
   "metadata": {},
   "source": [
    "Create network graph using kmeans and cosine similarity"
   ]
  },
  {
   "cell_type": "code",
   "execution_count": null,
   "metadata": {},
   "outputs": [],
   "source": [
    "after_kmeans_cosine = ut.network_graph(after_cosine, 'kmeans', nounphrase, 'after', 'cosine')"
   ]
  }
 ],
 "metadata": {
  "kernelspec": {
   "display_name": "Python 3",
   "language": "python",
   "name": "python3"
  },
  "language_info": {
   "codemirror_mode": {
    "name": "ipython",
    "version": 3
   },
   "file_extension": ".py",
   "mimetype": "text/x-python",
   "name": "python",
   "nbconvert_exporter": "python",
   "pygments_lexer": "ipython3",
   "version": "3.7.1"
  }
 },
 "nbformat": 4,
 "nbformat_minor": 2
}
