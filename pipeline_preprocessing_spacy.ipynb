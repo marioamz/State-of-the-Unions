{
 "cells": [
  {
   "cell_type": "markdown",
   "metadata": {},
   "source": [
    "## Global To Dos:\n",
    "* read paper\n",
    "* [steps document](https://docs.google.com/document/d/1du2fcmVzTqnW0FWGmUxvpR2t6QEfwxDIrHSZs9k3HZM/edit?usp=sharing)"
   ]
  },
  {
   "cell_type": "markdown",
   "metadata": {},
   "source": [
    "Section 1: Load and Preprocess Data"
   ]
  },
  {
   "cell_type": "code",
   "execution_count": 31,
   "metadata": {},
   "outputs": [],
   "source": [
    "import utils_preprocessing as up\n",
    "import utils as ut\n",
    "import importlib\n",
    "importlib.reload(ut)\n",
    "importlib.reload(up)\n",
    "from itertools import groupby\n",
    "import yaml\n",
    "import os\n",
    "import textdistance\n",
    "import pandas as pd\n",
    "import numpy as np\n",
    "pd.options.mode.chained_assignment = None"
   ]
  },
  {
   "cell_type": "markdown",
   "metadata": {},
   "source": [
    "## Pre-processing "
   ]
  },
  {
   "cell_type": "markdown",
   "metadata": {},
   "source": [
    "Read in YAML and make PATH"
   ]
  },
  {
   "cell_type": "code",
   "execution_count": 32,
   "metadata": {},
   "outputs": [],
   "source": [
    "#with open(\"config.yml\", 'r') as ymlfile:\n",
    "#    cfg = yaml.load(ymlfile)\n",
    "\n",
    "#PATH = os.path.join(cfg['data']['Directory'] + \":\" + os.sep, cfg['data']['Folder1'], cfg['data']['Folder2'], cfg['data']['Folder3']) # Alix Path\n",
    "\n",
    "PATH = 'SOTU/'\n",
    "#PATH = '/Users/aleistermontfort/Desktop/speeches' # Aleister Path\n",
    "filetype = '*txt'"
   ]
  },
  {
   "cell_type": "markdown",
   "metadata": {},
   "source": [
    "Read in Data"
   ]
  },
  {
   "cell_type": "code",
   "execution_count": 33,
   "metadata": {},
   "outputs": [],
   "source": [
    "speeches, numpar = up.reading_data(PATH,'*.txt')"
   ]
  },
  {
   "cell_type": "markdown",
   "metadata": {},
   "source": [
    "Create Noun Phrases"
   ]
  },
  {
   "cell_type": "code",
   "execution_count": 34,
   "metadata": {
    "scrolled": true
   },
   "outputs": [],
   "source": [
    "new_speeches = up.chunks(speeches, \"spacy\")"
   ]
  },
  {
   "cell_type": "markdown",
   "metadata": {},
   "source": [
    "Clean Words & Lemmatize Noun Phrases: Spacy - Skip if used Regex Above"
   ]
  },
  {
   "cell_type": "code",
   "execution_count": 35,
   "metadata": {},
   "outputs": [],
   "source": [
    "clean_speeches = up.clean_words(new_speeches)"
   ]
  },
  {
   "cell_type": "markdown",
   "metadata": {},
   "source": [
    "Lemmatize Noun Phrases: Regex - Skip if Used Regex Above"
   ]
  },
  {
   "cell_type": "code",
   "execution_count": 36,
   "metadata": {
    "scrolled": false
   },
   "outputs": [],
   "source": [
    "words_changed = up.word_changes(clean_speeches, 0.5, 100)"
   ]
  },
  {
   "cell_type": "code",
   "execution_count": 37,
   "metadata": {},
   "outputs": [],
   "source": [
    "phrases_lemmed = up.lemmed_phrases(words_changed, new_speeches)"
   ]
  },
  {
   "cell_type": "markdown",
   "metadata": {},
   "source": [
    "Counting Occurrence of Terms"
   ]
  },
  {
   "cell_type": "code",
   "execution_count": 38,
   "metadata": {},
   "outputs": [],
   "source": [
    "counted_words = up.count_words(phrases_lemmed)"
   ]
  },
  {
   "cell_type": "markdown",
   "metadata": {},
   "source": [
    "Limit List to Top 1000"
   ]
  },
  {
   "cell_type": "code",
   "execution_count": 39,
   "metadata": {},
   "outputs": [
    {
     "data": {
      "text/plain": [
       "[Mr. Speaker,\n",
       " Mr. President,\n",
       " distinguished Members,\n",
       " the Congress,\n",
       " honored guests,\n",
       " fellow citizens,\n",
       " Today,\n",
       " my first State,\n",
       " the Union address,\n",
       " you,\n",
       " a constitutional duty,\n",
       " our Republic,\n",
       " itself,\n",
       " President Washington,\n",
       " this tradition,\n",
       " the Nation,\n",
       " the destiny,\n",
       " self-government,\n",
       " the \"preservation,\n",
       " the sacred fire,\n",
       " liberty,\n",
       " the experiment,\n",
       " the hands,\n",
       " the American people,\n",
       " our friends,\n",
       " the press,\n",
       " who,\n",
       " a high premium,\n",
       " accuracy,\n",
       " me,\n",
       " I,\n",
       " George Washington,\n",
       " it,\n",
       " a matter,\n",
       " historic record,\n",
       " this podium,\n",
       " Winston Churchill,\n",
       " the free world,\n",
       " the onslaught,\n",
       " aggression,\n",
       " Franklin Delano Roosevelt,\n",
       " a day,\n",
       " a nation,\n",
       " arms,\n",
       " Douglas MacArthur,\n",
       " an unforgettable farewell,\n",
       " a country,\n",
       " he,\n",
       " Dwight Eisenhower,\n",
       " us,\n",
       " peace,\n",
       " the price,\n",
       " strength,\n",
       " John F. Kennedy,\n",
       " the burden,\n",
       " glory,\n",
       " freedom,\n",
       " I,\n",
       " this Chamber,\n",
       " a newcomer,\n",
       " Washington,\n",
       " past policies,\n",
       " I,\n",
       " I,\n",
       " a new spirit,\n",
       " partnership,\n",
       " this Congress,\n",
       " this administration,\n",
       " Washington,\n",
       " our State and local governments,\n",
       " this new partnership,\n",
       " America,\n",
       " we,\n",
       " the oldest hopes,\n",
       " our Republic,\n",
       " prosperity,\n",
       " our nation,\n",
       " peace,\n",
       " the world,\n",
       " the blessings,\n",
       " individual liberty,\n",
       " our children,\n",
       " humanity,\n",
       " It,\n",
       " my duty,\n",
       " you,\n",
       " the progress,\n",
       " we,\n",
       " our relations,\n",
       " other nations,\n",
       " the foundation,\n",
       " we,\n",
       " our economic recovery,\n",
       " a bold and spirited initiative,\n",
       " I,\n",
       " the face,\n",
       " American government,\n",
       " it,\n",
       " the servant,\n",
       " the people,\n",
       " the stakes,\n",
       " America,\n",
       " What,\n",
       " we,\n",
       " all the difference,\n",
       " autoworkers,\n",
       " Detroit,\n",
       " lumberjacks,\n",
       " the Northwest,\n",
       " steelworkers,\n",
       " Steubenville,\n",
       " who,\n",
       " the unemployment lines,\n",
       " black teenagers,\n",
       " Newark,\n",
       " Chicago,\n",
       " hard-pressed farmers,\n",
       " small businessmen,\n",
       " millions,\n",
       " everyday Americans,\n",
       " who,\n",
       " the simple wish,\n",
       " a safe and financially secure future,\n",
       " their children,\n",
       " the state,\n",
       " the Union,\n",
       " we,\n",
       " we,\n",
       " we,\n",
       " we,\n",
       " The situation,\n",
       " this time,\n",
       " The last decade,\n",
       " a series,\n",
       " recessions,\n",
       " a recession,\n",
       " the spring,\n",
       " unemployment,\n",
       " inflation,\n",
       " We,\n",
       " the word \"stagflation,\n",
       " Government's response,\n",
       " these recessions,\n",
       " the money supply,\n",
       " spending,\n",
       " the last 6 months,\n",
       " an example,\n",
       " the money supply,\n",
       " the fastest rate,\n",
       " postwar history--13 percent,\n",
       " Inflation,\n",
       " double digits,\n",
       " government spending,\n",
       " an annual rate,\n",
       " 17 percent,\n",
       " Interest rates,\n",
       " a staggering 21.5 percent,\n",
       " we,\n",
       " the present recession,\n",
       " continued high interest rates,\n",
       " the auto industry,\n",
       " construction,\n",
       " a drop,\n",
       " productivity,\n",
       " the already high unemployment,\n",
       " things,\n",
       " We,\n",
       " an economic program,\n",
       " place,\n",
       " the artificial quick fixes,\n",
       " the past,\n",
       " It,\n",
       " a reduction,\n",
       " the rate,\n",
       " increase,\n",
       " government spending,\n",
       " that rate,\n",
       " half,\n",
       " the first and smallest phase,\n",
       " a 3-year tax rate reduction,\n",
       " the economy,\n",
       " jobs,\n",
       " interest rates,\n",
       " 15 3/4 percent,\n",
       " they,\n",
       " Inflation,\n",
       " 12.4 percent,\n",
       " the month,\n",
       " December,\n",
       " it,\n",
       " an annualized rate,\n",
       " 5.2 percent,\n",
       " we,\n",
       " we,\n",
       " things,\n",
       " all Americans,\n",
       " they,\n",
       " Inflation,\n",
       " taxes,\n",
       " interest rates,\n",
       " Americans' faith,\n",
       " their governmental process,\n",
       " Six out of 10 Americans,\n",
       " they,\n",
       " their future,\n",
       " A new kind,\n",
       " defeatism,\n",
       " our domestic problems,\n",
       " we,\n",
       " this seemingly endless cycle,\n",
       " high inflation,\n",
       " high unemployment,\n",
       " pessimistic predictions,\n",
       " the relationship,\n",
       " our administration,\n",
       " this Congress,\n",
       " It,\n",
       " we,\n",
       " those predictions,\n",
       " The record,\n",
       " I,\n",
       " history,\n",
       " an era,\n",
       " American renewal,\n",
       " this administration,\n",
       " an administration,\n",
       " change,\n",
       " this Congress,\n",
       " a Congress,\n",
       " destiny,\n",
       " we,\n",
       " the increase,\n",
       " we,\n",
       " the largest tax reductions,\n",
       " the most sweeping changes,\n",
       " our tax structure,\n",
       " the beginning,\n",
       " this century,\n",
       " we,\n",
       " future taxes,\n",
       " the rate,\n",
       " inflation,\n",
       " we,\n",
       " government's built-in profit,\n",
       " inflation,\n",
       " its hidden incentive,\n",
       " the expense,\n",
       " American workers,\n",
       " 50 years,\n",
       " power,\n",
       " the hands,\n",
       " the people,\n",
       " their States,\n",
       " local communities,\n",
       " we,\n",
       " power,\n",
       " resources,\n",
       " them,\n",
       " we,\n",
       " the growth,\n",
       " new Federal regulations,\n",
       " half,\n",
       " 23,000 fewer pages,\n",
       " the Federal Register,\n",
       " new regulations,\n",
       " oil,\n",
       " we,\n",
       " energy independence,\n",
       " the cost,\n",
       " gasoline and heating fuel,\n",
       " we,\n",
       " an effective Federal strike force,\n",
       " waste,\n",
       " fraud,\n",
       " government,\n",
       " just 6 months,\n",
       " it,\n",
       " the taxpayers,\n",
       " it,\n",
       " we,\n",
       " the private sector,\n",
       " wasteful and discredited government programs,\n",
       " thousands,\n",
       " Americans,\n",
       " a volunteer effort,\n",
       " America's social problems,\n",
       " we,\n",
       " that margin,\n",
       " military safety,\n",
       " peace,\n",
       " Our country's uniform,\n",
       " pride,\n",
       " we,\n",
       " a New Beginning,\n",
       " we,\n",
       " No one,\n",
       " the way,\n",
       " my Inaugural Address,\n",
       " I,\n",
       " the \"ills,\n",
       " we,\n",
       " us,\n",
       " several decades,\n",
       " They,\n",
       " days,\n",
       " weeks,\n",
       " months,\n",
       " they,\n",
       " we,\n",
       " Americans,\n",
       " the capacity,\n",
       " we,\n",
       " it,\n",
       " the past,\n",
       " this last and greatest bastion,\n",
       " freedom,\n",
       " The economy,\n",
       " difficult moments,\n",
       " the months,\n",
       " the program,\n",
       " economic recovery,\n",
       " place,\n",
       " the economy,\n",
       " its slump,\n",
       " us,\n",
       " the road,\n",
       " prosperity,\n",
       " stable growth,\n",
       " the latter half,\n",
       " this year,\n",
       " I,\n",
       " you,\n",
       " the near future,\n",
       " the state,\n",
       " the Union,\n",
       " the economy,\n",
       " we,\n",
       " the strength,\n",
       " the course,\n",
       " we,\n",
       " And so, the question,\n",
       " the fundamentals,\n",
       " place,\n",
       " Well, two things,\n",
       " we,\n",
       " what,\n",
       " the moment,\n",
       " the economy,\n",
       " Our current problems,\n",
       " the product,\n",
       " the recovery program,\n",
       " you,\n",
       " they,\n",
       " the inheritance,\n",
       " decades,\n",
       " tax,\n",
       " tax,\n",
       " our economic problems,\n",
       " quick political fixes,\n",
       " we,\n",
       " our carefully integrated plan,\n",
       " recovery,\n",
       " That plan,\n",
       " four commonsense fundamentals,\n",
       " continued reduction,\n",
       " the growth,\n",
       " Federal spending,\n",
       " the individual and business tax reductions,\n",
       " saving,\n",
       " investment,\n",
       " unnecessary Federal regulations,\n",
       " productivity,\n",
       " a healthy dollar,\n",
       " a stable monetary policy,\n",
       " the latter a responsibility,\n",
       " the Federal Reserve System,\n",
       " The only alternative,\n",
       " this economic program,\n",
       " a return,\n",
       " the policies,\n",
       " us,\n",
       " a trillion-dollar debt,\n",
       " runaway inflation,\n",
       " runaway interest rates,\n",
       " unemployment,\n",
       " The doubters,\n",
       " us,\n",
       " the clock,\n",
       " tax increases,\n",
       " the personal tax rate reductions,\n",
       " this Congress,\n",
       " taxes,\n",
       " future deficits,\n",
       " they,\n",
       " us,\n",
       " I,\n",
       " we,\n",
       " that argument,\n",
       " too many imponderables,\n",
       " anyone,\n",
       " deficits,\n",
       " any degree,\n",
       " accuracy,\n",
       " The budget,\n",
       " place,\n",
       " I,\n",
       " office,\n",
       " It,\n",
       " the biggest deficits,\n",
       " history,\n",
       " Another example,\n",
       " the imponderables,\n",
       " deficit projections,\n",
       " a change,\n",
       " only one percentage point,\n",
       " unemployment,\n",
       " a deficit,\n",
       " it,\n",
       " our forecast,\n",
       " we,\n",
       " law,\n",
       " major deficits,\n",
       " less than a hundred billion dollars,\n",
       " we,\n",
       " progress,\n",
       " the three keys,\n",
       " deficits,\n",
       " economic growth,\n",
       " lower interest rates,\n",
       " spending control,\n",
       " The policies,\n",
       " we,\n",
       " place,\n",
       " the deficit,\n",
       " time,\n",
       " Higher taxes,\n",
       " lower deficits,\n",
       " they,\n",
       " we,\n",
       " tax revenues,\n",
       " that same 6-year period,\n",
       " we,\n",
       " the largest series,\n",
       " deficits,\n",
       " our history,\n",
       " 1980 tax revenues,\n",
       " we,\n",
       " our all-time biggest deficits,\n",
       " taxes,\n",
       " the budget,\n",
       " it,\n",
       " more government spending,\n",
       " less private investment,\n",
       " taxes,\n",
       " economic growth,\n",
       " production,\n",
       " future jobs,\n",
       " it,\n",
       " jobs,\n",
       " them,\n",
       " who,\n",
       " jobs,\n",
       " them,\n",
       " I,\n",
       " you,\n",
       " the budget,\n",
       " the backs,\n",
       " the American taxpayers,\n",
       " I,\n",
       " no tax increases,\n",
       " I,\n",
       " no intention,\n",
       " our basic program,\n",
       " tax relief,\n",
       " I,\n",
       " the American people,\n",
       " their tax rates,\n",
       " them,\n",
       " them,\n",
       " incentives,\n",
       " our economy,\n",
       " America's future,\n",
       " I,\n",
       " my word,\n",
       " I,\n",
       " the American people,\n",
       " these new opportunities,\n",
       " we,\n",
       " this economy,\n",
       " freedom,\n",
       " hope,\n",
       " prosperity,\n",
       " the budget deficit,\n",
       " our earlier expectations,\n",
       " The recession,\n",
       " It,\n",
       " revenues,\n",
       " increased costs,\n",
       " some extent,\n",
       " we,\n",
       " victims,\n",
       " our own success,\n",
       " We,\n",
       " inflation,\n",
       " we,\n",
       " we,\n",
       " we,\n",
       " government,\n",
       " those hidden revenues,\n",
       " inflation,\n",
       " people,\n",
       " higher income tax brackets,\n",
       " the continued high interest rates,\n",
       " the government,\n",
       " We,\n",
       " more nonessential government spending,\n",
       " more waste,\n",
       " we,\n",
       " our efforts,\n",
       " the number,\n",
       " employees,\n",
       " the Federal work force,\n",
       " The budget plan,\n",
       " I,\n",
       " you,\n",
       " February 8th,\n",
       " major savings,\n",
       " the Departments,\n",
       " Energy,\n",
       " Education,\n",
       " ineffective subsidies,\n",
       " business,\n",
       " We,\n",
       " our resources,\n",
       " our two highest budget priorities,\n",
       " a strong national defense,\n",
       " America,\n",
       " peace,\n",
       " a reliable safety net,\n",
       " social programs,\n",
       " who,\n",
       " who,\n",
       " need,\n",
       " the wild charges,\n",
       " you,\n",
       " this administration,\n",
       " its back,\n",
       " the new budget,\n",
       " social insurance programs,\n",
       " more than double the amount,\n",
       " it,\n",
       " any programs,\n",
       " The entitlement programs,\n",
       " our safety net,\n",
       " worthy goals,\n",
       " many deserving recipients,\n",
       " We,\n",
       " them,\n",
       " only one way,\n",
       " it,\n",
       " these programs,\n",
       " whom,\n",
       " they,\n",
       " their spiraling costs,\n",
       " control,\n",
       " we,\n",
       " the absurd situation,\n",
       " a Federal budget,\n",
       " three-quarters,\n",
       " its expenditures,\n",
       " a large part,\n",
       " entitlement programs,\n",
       " Committee,\n",
       " committee,\n",
       " this Congress,\n",
       " witness,\n",
       " witness,\n",
       " these programs,\n",
       " waste,\n",
       " fraud,\n",
       " every American,\n",
       " who,\n",
       " a local supermarket,\n",
       " the daily abuses,\n",
       " place,\n",
       " the food stamp program,\n",
       " 16,000 percent,\n",
       " the last 15 years,\n",
       " Another example,\n",
       " Medicare,\n",
       " Medicaid,\n",
       " programs,\n",
       " worthy goals,\n",
       " whose costs,\n",
       " just 10 years,\n",
       " Waste,\n",
       " fraud,\n",
       " serious problems,\n",
       " Federal investigators,\n",
       " your committees,\n",
       " corruption,\n",
       " every area,\n",
       " the Medicare and Medicaid health care industry,\n",
       " One official,\n",
       " the people,\n",
       " who,\n",
       " the system,\n",
       " nothing,\n",
       " them,\n",
       " something,\n",
       " the taxpayers,\n",
       " the people,\n",
       " real dependency,\n",
       " these programs,\n",
       " what,\n",
       " they,\n",
       " available resources,\n",
       " the needy,\n",
       " The time,\n",
       " August,\n",
       " we,\n",
       " a start,\n",
       " I,\n",
       " a bill,\n",
       " the growth,\n",
       " these programs,\n",
       " the next 3 years,\n",
       " the same time,\n",
       " essential services,\n",
       " you,\n",
       " me,\n",
       " a message,\n",
       " further reforms,\n",
       " we,\n",
       " others,\n",
       " your own congressional committees,\n",
       " I,\n",
       " you,\n",
       " these savings,\n",
       " the American taxpayer,\n",
       " The savings,\n",
       " we,\n",
       " entitlement programs,\n",
       " 4 Years,\n",
       " social t security,\n",
       " Federal spending,\n",
       " control,\n",
       " who,\n",
       " spending cuts,\n",
       " the needy,\n",
       " the helpless,\n",
       " Federal Government,\n",
       " 95 million meals,\n",
       " all the meals,\n",
       " America,\n",
       " Head Start,\n",
       " senior nutrition programs,\n",
       " child welfare programs,\n",
       " the levels,\n",
       " we,\n",
       " More than one-half billion dollars,\n",
       " minority business assistance,\n",
       " research,\n",
       " the National Institute,\n",
       " Health,\n",
       " all these needs,\n",
       " we,\n",
       " unwarranted tax loopholes,\n",
       " the law,\n",
       " all large corporations,\n",
       " a minimum tax,\n",
       " I,\n",
       " the economic program,\n",
       " we,\n",
       " operation,\n",
       " the needy,\n",
       " it,\n",
       " a recovery,\n",
       " all Americans,\n",
       " It,\n",
       " the economy,\n",
       " increased savings,\n",
       " capital,\n",
       " expansion,\n",
       " mortgages,\n",
       " homebuilding,\n",
       " jobs,\n",
       " the essentials,\n",
       " that program,\n",
       " place,\n",
       " our next major undertaking,\n",
       " a program,\n",
       " government,\n",
       " the people,\n",
       " our system,\n",
       " federalism,\n",
       " Our citizens,\n",
       " they,\n",
       " control,\n",
       " even the most basic decisions,\n",
       " the essential services,\n",
       " government,\n",
       " schools,\n",
       " welfare,\n",
       " roads,\n",
       " even garbage collection,\n",
       " they,\n",
       " A maze,\n",
       " jurisdictions,\n",
       " levels,\n",
       " government confronts,\n",
       " average citizens,\n",
       " problems,\n",
       " They,\n",
       " answers,\n",
       " who,\n",
       " who,\n",
       " who,\n",
       " who,\n",
       " The main reason,\n",
       " the overpowering growth,\n",
       " aid,\n",
       " the past few decades,\n",
       " the Federal Government,\n",
       " 132 categorical grant programs,\n",
       " I,\n",
       " office,\n",
       " nearly a hundred billion dollars--13 programs,\n",
       " energy,\n",
       " pollution control,\n",
       " social services,\n",
       " education,\n",
       " the Congress,\n",
       " it,\n",
       " at least 166 committees,\n",
       " track,\n",
       " them,\n",
       " You,\n",
       " I,\n",
       " neither the President,\n",
       " the Congress,\n",
       " this jungle,\n",
       " grants,\n",
       " aid,\n",
       " the growth,\n",
       " these grants,\n",
       " the distortion,\n",
       " the vital functions,\n",
       " government,\n",
       " one Democratic Governor,\n",
       " it,\n",
       " The National Government,\n",
       " \"arms control,\n",
       " potholes,\n",
       " The growth,\n",
       " these Federal programs,\n",
       " the words,\n",
       " one intergovernmental commission,\n",
       " the Federal Government,\n",
       " 's,\n",
       " this problem,\n",
       " a single, bold stroke,\n",
       " the return,\n",
       " Federal programs,\n",
       " State and local government,\n",
       " the means,\n",
       " them,\n",
       " a transition period,\n",
       " nearly 10 years,\n",
       " unnecessary disruption,\n",
       " I,\n",
       " this Congress,\n",
       " a message,\n",
       " this program,\n",
       " I,\n",
       " its full details,\n",
       " close consultation,\n",
       " congressional, State, and local officials,\n",
       " the Federal Government,\n",
       " full responsibility,\n",
       " the cost,\n",
       " the rapidly growing Medicaid program,\n",
       " its existing responsibility,\n",
       " Medicare,\n",
       " part,\n",
       " a financially equal swap,\n",
       " the States,\n",
       " full responsibility,\n",
       " Aid,\n",
       " Families,\n",
       " Dependent Children,\n",
       " food stamps,\n",
       " welfare,\n",
       " genuine need,\n",
       " it,\n",
       " the grass roots,\n",
       " the people,\n",
       " it,\n",
       " the Federal Government,\n",
       " the full proceeds,\n",
       " certain excise taxes,\n",
       " a grass roots trust fund,\n",
       " fair shares,\n",
       " the 50 States,\n",
       " The total amount,\n",
       " this fund,\n",
       " the next 4 years,\n",
       " the States,\n",
       " this money,\n",
       " two ways,\n",
       " they,\n",
       " Federal grants,\n",
       " such areas,\n",
       " transportation,\n",
       " education,\n",
       " social services,\n",
       " they,\n",
       " their trust fund money,\n",
       " the grants,\n",
       " the extent,\n",
       " they,\n",
       " the Federal grant programs,\n",
       " they,\n",
       " their trust fund money,\n",
       " other purposes,\n",
       " a mandatory pass-through,\n",
       " part,\n",
       " these funds,\n",
       " local governments,\n",
       " the States,\n",
       " complete control,\n",
       " over 40 Federal grant programs,\n",
       " The trust fund,\n",
       " the excise taxes,\n",
       " the States,\n",
       " They,\n",
       " taxes,\n",
       " fund,\n",
       " these programs,\n",
       " they,\n",
       " a single stroke,\n",
       " we,\n",
       " a realignment,\n",
       " cumbersome administration,\n",
       " spiraling costs,\n",
       " the Federal level,\n",
       " we,\n",
       " these programs,\n",
       " both the people,\n",
       " they,\n",
       " the people,\n",
       " who,\n",
       " them,\n",
       " hand,\n",
       " this program,\n",
       " the discretion,\n",
       " flexibility,\n",
       " State and local governments,\n",
       " we,\n",
       " legislation,\n",
       " an experimental effort,\n",
       " our depressed urban areas,\n",
       " '90's,\n",
       " This legislation,\n",
       " States,\n",
       " localities,\n",
       " the Federal Government,\n",
       " designation,\n",
       " urban enterprise zones,\n",
       " A broad range,\n",
       " special economic incentives,\n",
       " the zones,\n",
       " new business,\n",
       " new jobs,\n",
       " new opportunity,\n",
       " America's inner cities,\n",
       " rural towns,\n",
       " our mission,\n",
       " free enterprise,\n",
       " I,\n",
       " we,\n",
       " enterprise,\n",
       " we,\n",
       " America,\n",
       " our States,\n",
       " local communities,\n",
       " the challenge,\n",
       " a new and creative partnership,\n",
       " reforms,\n",
       " reapportionment,\n",
       " the Voting Rights Act,\n",
       " the 10-year extension,\n",
       " I,\n",
       " It,\n",
       " This administration,\n",
       " faith,\n",
       " State and local governments,\n",
       " the constitutional balance,\n",
       " the Founding Fathers,\n",
       " We,\n",
       " the integrity,\n",
       " decency,\n",
       " , good sense,\n",
       " grass roots Americans,\n",
       " Our faith,\n",
       " the American people,\n",
       " another major endeavor,\n",
       " Our private sector initiatives task force,\n",
       " successful community models,\n",
       " school,\n",
       " church,\n",
       " business,\n",
       " union,\n",
       " foundation,\n",
       " civic programs,\n",
       " Such groups,\n",
       " government,\n",
       " social programs,\n",
       " We,\n",
       " them,\n",
       " government programs,\n",
       " dollar,\n",
       " service,\n",
       " We,\n",
       " them,\n",
       " the good works,\n",
       " they,\n",
       " others,\n",
       " their example,\n",
       " Three hundred and eighty-five thousand corporations,\n",
       " private organizations,\n",
       " social programs,\n",
       " drug rehabilitation,\n",
       " job training,\n",
       " thousands,\n",
       " us,\n",
       " they,\n",
       " The volunteer spirit,\n",
       " America,\n",
       " Our nation's long journey,\n",
       " civil rights,\n",
       " all our citizens,\n",
       " once a source,\n",
       " discord,\n",
       " now a source,\n",
       " pride,\n",
       " no backsliding,\n",
       " We,\n",
       " those basic laws,\n",
       " equal rights,\n",
       " Our concern,\n",
       " equal rights,\n",
       " women,\n",
       " We,\n",
       " a new Task Force,\n",
       " Legal Equity,\n",
       " Women,\n",
       " a Fifty States Project,\n",
       " State laws,\n",
       " discriminatory language,\n",
       " the first time,\n",
       " our history,\n",
       " a woman,\n",
       " the highest court,\n",
       " the land,\n",
       " So, too, the problem,\n",
       " crime,\n",
       " America,\n",
       " It,\n",
       " we,\n",
       " transformation,\n",
       " our legal system,\n",
       " the rights,\n",
       " criminals,\n",
       " it,\n",
       " society,\n",
       " the innocent victims,\n",
       " crime,\n",
       " justice,\n",
       " We,\n",
       " the enactment,\n",
       " a responsible clean air act,\n",
       " jobs,\n",
       " the quality,\n",
       " our air,\n",
       " We,\n",
       " the bipartisan initiative,\n",
       " the House,\n",
       " further progress,\n",
       " the Senate,\n",
       " its deliberations,\n",
       " I,\n",
       " domestic matters,\n",
       " the state,\n",
       " the Union,\n",
       " perspective,\n",
       " we,\n",
       " the rest,\n",
       " the world,\n",
       " time]"
      ]
     },
     "execution_count": 39,
     "metadata": {},
     "output_type": "execute_result"
    }
   ],
   "source": [
    "top_words = up.top_x(counted_words, 1000)\n",
    "top_words"
   ]
  },
  {
   "cell_type": "markdown",
   "metadata": {},
   "source": [
    "limit paragraph phrases only to those in top 1000"
   ]
  },
  {
   "cell_type": "code",
   "execution_count": 40,
   "metadata": {},
   "outputs": [],
   "source": [
    "limited_paragraphs = up.limit(phrases_lemmed, top_words)"
   ]
  },
  {
   "cell_type": "markdown",
   "metadata": {},
   "source": [
    "## Periodization"
   ]
  },
  {
   "cell_type": "code",
   "execution_count": 41,
   "metadata": {
    "scrolled": true
   },
   "outputs": [],
   "source": [
    "tfidfs = up.corpus_tfidf(limited_paragraphs, counted_words, top_words)"
   ]
  },
  {
   "cell_type": "code",
   "execution_count": 42,
   "metadata": {},
   "outputs": [],
   "source": [
    "periods, dissimilarity = up.periodization(tfidfs)"
   ]
  },
  {
   "cell_type": "code",
   "execution_count": 43,
   "metadata": {},
   "outputs": [],
   "source": [
    "import operator\n",
    "sorted_x = sorted(periods.items(), key=operator.itemgetter(1))\n",
    "years = dissimilarity.index"
   ]
  },
  {
   "cell_type": "code",
   "execution_count": 44,
   "metadata": {},
   "outputs": [
    {
     "data": {
      "image/png": "[encoded data removed]",
      "text/plain": [
       "<Figure size 432x288 with 1 Axes>"
      ]
     },
     "metadata": {
      "needs_background": "light"
     },
     "output_type": "display_data"
    }
   ],
   "source": [
    "import matplotlib.pylab as plt\n",
    "import matplotlib.ticker as ticker\n",
    "\n",
    "lists = sorted(periods.items()) # sorted by key, return a list of tuples\n",
    "x, y = zip(*lists) # unpack a list of pairs into two tuples\n",
    "\n",
    "ax = plt.axes()\n",
    "ax.xaxis.set_major_locator(ticker.MultipleLocator(20))\n",
    "plt.axvline(pd.to_numeric(sorted_x[0][0])-pd.to_numeric(years[0]), 0,1)\n",
    "plt.plot(x, y)\n",
    "plt.show()"
   ]
  },
  {
   "cell_type": "code",
   "execution_count": 45,
   "metadata": {},
   "outputs": [
    {
     "data": {
      "image/png": "[encoded data removed]",
      "text/plain": [
       "<Figure size 432x288 with 2 Axes>"
      ]
     },
     "metadata": {
      "needs_background": "light"
     },
     "output_type": "display_data"
    }
   ],
   "source": [
    "import seaborn as sns\n",
    "cmap = sns.cubehelix_palette(as_cmap=True, reverse=True)\n",
    "ax = sns.heatmap(dissimilarity, cmap=cmap)\n",
    "plt.axvline((pd.to_numeric(sorted_x[0][0])-pd.to_numeric(years[0])), 0,1)\n",
    "plt.show()"
   ]
  },
  {
   "cell_type": "markdown",
   "metadata": {},
   "source": [
    "### Before"
   ]
  },
  {
   "cell_type": "markdown",
   "metadata": {},
   "source": [
    "Before Years"
   ]
  },
  {
   "cell_type": "code",
   "execution_count": 46,
   "metadata": {},
   "outputs": [],
   "source": [
    "\n",
    "before_1914 = years[:pd.to_numeric(sorted_x[0][0])-pd.to_numeric(years[0])]\n",
    "before_dict = {k: v for k, v in limited_paragraphs.items() if k[1] in before_1914}"
   ]
  },
  {
   "cell_type": "markdown",
   "metadata": {},
   "source": [
    "Before TFIDF"
   ]
  },
  {
   "cell_type": "code",
   "execution_count": 47,
   "metadata": {},
   "outputs": [],
   "source": [
    "before_tfidfs = up.corpus_tfidf(before_dict, counted_words, top_words)"
   ]
  },
  {
   "cell_type": "code",
   "execution_count": 48,
   "metadata": {},
   "outputs": [],
   "source": [
    "before_periods, before_dissimilarity = up.periodization(before_tfidfs)"
   ]
  },
  {
   "cell_type": "markdown",
   "metadata": {},
   "source": [
    "### After"
   ]
  },
  {
   "cell_type": "markdown",
   "metadata": {},
   "source": [
    "After Years"
   ]
  },
  {
   "cell_type": "code",
   "execution_count": 49,
   "metadata": {},
   "outputs": [],
   "source": [
    "after_1914 = years[pd.to_numeric(sorted_x[0][0])-pd.to_numeric(years[0]):]\n",
    "after_dict = {k: v for k, v in limited_paragraphs.items() if k[1] in after_1914}"
   ]
  },
  {
   "cell_type": "markdown",
   "metadata": {},
   "source": [
    "After TFIDF"
   ]
  },
  {
   "cell_type": "code",
   "execution_count": 50,
   "metadata": {},
   "outputs": [],
   "source": [
    "after_tfidfs = up.corpus_tfidf(after_dict, counted_words, top_words)"
   ]
  },
  {
   "cell_type": "code",
   "execution_count": 51,
   "metadata": {},
   "outputs": [],
   "source": [
    "after_periods, after_dissimilarity = up.periodization(after_tfidfs)"
   ]
  },
  {
   "cell_type": "code",
   "execution_count": 52,
   "metadata": {},
   "outputs": [],
   "source": [
    "new_periods = {**before_periods, **after_periods}"
   ]
  },
  {
   "cell_type": "code",
   "execution_count": 53,
   "metadata": {},
   "outputs": [
    {
     "data": {
      "image/png": "[encoded data removed]",
      "text/plain": [
       "<Figure size 432x288 with 1 Axes>"
      ]
     },
     "metadata": {
      "needs_background": "light"
     },
     "output_type": "display_data"
    }
   ],
   "source": [
    "import matplotlib.pylab as plt\n",
    "import matplotlib.ticker as ticker\n",
    "\n",
    "lists = sorted(new_periods.items()) # sorted by key, return a list of tuples\n",
    "x, y = zip(*lists) # unpack a list of pairs into two tuples\n",
    "\n",
    "ax = plt.axes()\n",
    "ax.xaxis.set_major_locator(ticker.MultipleLocator(20))\n",
    "\n",
    "plt.plot(x, y)\n",
    "plt.show()"
   ]
  },
  {
   "cell_type": "markdown",
   "metadata": {},
   "source": [
    "## Co-Occurrence Matrix and Dissimilarity Topic Modeling"
   ]
  },
  {
   "cell_type": "markdown",
   "metadata": {},
   "source": [
    "Build the co-occurrence matrix"
   ]
  },
  {
   "cell_type": "code",
   "execution_count": 54,
   "metadata": {},
   "outputs": [],
   "source": [
    "pre_occur = ut.convert_dict_to_list(limited_paragraphs)"
   ]
  },
  {
   "cell_type": "code",
   "execution_count": 55,
   "metadata": {},
   "outputs": [
    {
     "ename": "KeyError",
     "evalue": "unemployment",
     "output_type": "error",
     "traceback": [
      "\u001b[0;31m---------------------------------------------------------------------------\u001b[0m",
      "\u001b[0;31mKeyError\u001b[0m                                  Traceback (most recent call last)",
      "\u001b[0;32m<ipython-input-55-2eeed71891c1>\u001b[0m in \u001b[0;36m<module>\u001b[0;34m\u001b[0m\n\u001b[0;32m----> 1\u001b[0;31m \u001b[0mco_occur\u001b[0m \u001b[0;34m=\u001b[0m \u001b[0mut\u001b[0m\u001b[0;34m.\u001b[0m\u001b[0mco_oc_matrix\u001b[0m\u001b[0;34m(\u001b[0m\u001b[0mpre_occur\u001b[0m\u001b[0;34m,\u001b[0m \u001b[0;32mTrue\u001b[0m\u001b[0;34m,\u001b[0m \u001b[0;32mTrue\u001b[0m\u001b[0;34m)\u001b[0m\u001b[0;34m\u001b[0m\u001b[0;34m\u001b[0m\u001b[0m\n\u001b[0m",
      "\u001b[0;32m~/Desktop/Grad_School/ML_and_PubPol/SOTU_Project/State-of-the-Unions/utils.py\u001b[0m in \u001b[0;36mco_oc_matrix\u001b[0;34m(documents, dataframe, csv)\u001b[0m\n\u001b[1;32m    142\u001b[0m         \u001b[0;32mfor\u001b[0m \u001b[0mi\u001b[0m \u001b[0;32min\u001b[0m \u001b[0mrange\u001b[0m\u001b[0;34m(\u001b[0m\u001b[0mlen\u001b[0m\u001b[0;34m(\u001b[0m\u001b[0ml\u001b[0m\u001b[0;34m)\u001b[0m\u001b[0;34m)\u001b[0m\u001b[0;34m:\u001b[0m\u001b[0;34m\u001b[0m\u001b[0;34m\u001b[0m\u001b[0m\n\u001b[1;32m    143\u001b[0m             \u001b[0;32mfor\u001b[0m \u001b[0mitem\u001b[0m \u001b[0;32min\u001b[0m \u001b[0ml\u001b[0m\u001b[0;34m[\u001b[0m\u001b[0;34m:\u001b[0m\u001b[0mi\u001b[0m\u001b[0;34m]\u001b[0m \u001b[0;34m+\u001b[0m \u001b[0ml\u001b[0m\u001b[0;34m[\u001b[0m\u001b[0mi\u001b[0m \u001b[0;34m+\u001b[0m \u001b[0;36m1\u001b[0m\u001b[0;34m:\u001b[0m\u001b[0;34m]\u001b[0m\u001b[0;34m:\u001b[0m\u001b[0;34m\u001b[0m\u001b[0;34m\u001b[0m\u001b[0m\n\u001b[0;32m--> 144\u001b[0;31m                 \u001b[0moccurrences\u001b[0m\u001b[0;34m[\u001b[0m\u001b[0ml\u001b[0m\u001b[0;34m[\u001b[0m\u001b[0mi\u001b[0m\u001b[0;34m]\u001b[0m\u001b[0;34m]\u001b[0m\u001b[0;34m[\u001b[0m\u001b[0mitem\u001b[0m\u001b[0;34m]\u001b[0m \u001b[0;34m+=\u001b[0m \u001b[0;36m1\u001b[0m\u001b[0;34m\u001b[0m\u001b[0;34m\u001b[0m\u001b[0m\n\u001b[0m\u001b[1;32m    145\u001b[0m     \u001b[0mrows\u001b[0m \u001b[0;34m=\u001b[0m \u001b[0;34m[\u001b[0m\u001b[0;34m]\u001b[0m\u001b[0;34m\u001b[0m\u001b[0;34m\u001b[0m\u001b[0m\n\u001b[1;32m    146\u001b[0m     \u001b[0mcolumns\u001b[0m\u001b[0;34m=\u001b[0m\u001b[0;34m[\u001b[0m\u001b[0;34m]\u001b[0m\u001b[0;34m\u001b[0m\u001b[0;34m\u001b[0m\u001b[0m\n",
      "\u001b[0;31mKeyError\u001b[0m: unemployment"
     ]
    }
   ],
   "source": [
    "co_occur = ut.co_oc_matrix(pre_occur, True, True)"
   ]
  },
  {
   "cell_type": "markdown",
   "metadata": {},
   "source": [
    "Do a cosine similarity"
   ]
  },
  {
   "cell_type": "code",
   "execution_count": null,
   "metadata": {},
   "outputs": [],
   "source": [
    "co_matrix = ut.pairwise_similarity(co_occur, 'cosine')"
   ]
  },
  {
   "cell_type": "markdown",
   "metadata": {},
   "source": [
    "Do a paper dissimilarity"
   ]
  },
  {
   "cell_type": "code",
   "execution_count": null,
   "metadata": {},
   "outputs": [],
   "source": [
    "co_matrix_paper = ut.pairwise_similarity(co_occur, 'paper')"
   ]
  },
  {
   "cell_type": "markdown",
   "metadata": {},
   "source": [
    "# This is breaking so returning to a prior saved version of spacy"
   ]
  },
  {
   "cell_type": "code",
   "execution_count": 11,
   "metadata": {
    "scrolled": true
   },
   "outputs": [
    {
     "data": {
      "text/plain": [
       "[]"
      ]
     },
     "execution_count": 11,
     "metadata": {},
     "output_type": "execute_result"
    }
   ],
   "source": [
    "co_occur.columns[co_occur.isna().any()].tolist()"
   ]
  },
  {
   "cell_type": "code",
   "execution_count": 10,
   "metadata": {},
   "outputs": [],
   "source": [
    "co_occur = pd.read_csv('spacy_co_occurence.csv', index_col = 0)"
   ]
  },
  {
   "cell_type": "markdown",
   "metadata": {},
   "source": [
    "### Global Corpus"
   ]
  },
  {
   "cell_type": "markdown",
   "metadata": {},
   "source": [
    "For the next section, if you're working on regex then include 'regex' in the parameters of the network graphing function. If you're working off spacy, include 'spacy' in the parameters of the network graphing function"
   ]
  },
  {
   "cell_type": "code",
   "execution_count": 15,
   "metadata": {},
   "outputs": [],
   "source": [
    "#nounphrase = 'regex'\n",
    "nounphrase = 'spacy'"
   ]
  },
  {
   "cell_type": "markdown",
   "metadata": {},
   "source": [
    "Create network graph using community detection algorithms and paper's approach"
   ]
  },
  {
   "cell_type": "code",
   "execution_count": 29,
   "metadata": {},
   "outputs": [
    {
     "ename": "NetworkXError",
     "evalue": "Input is not a valid edge list",
     "output_type": "error",
     "traceback": [
      "\u001b[0;31m---------------------------------------------------------------------------\u001b[0m",
      "\u001b[0;31mNetworkXError\u001b[0m                             Traceback (most recent call last)",
      "\u001b[0;32m/Library/Frameworks/Python.framework/Versions/3.7/lib/python3.7/site-packages/networkx/convert.py\u001b[0m in \u001b[0;36mto_networkx_graph\u001b[0;34m(data, create_using, multigraph_input)\u001b[0m\n\u001b[1;32m    113\u001b[0m         \u001b[0;32mtry\u001b[0m\u001b[0;34m:\u001b[0m\u001b[0;34m\u001b[0m\u001b[0;34m\u001b[0m\u001b[0m\n\u001b[0;32m--> 114\u001b[0;31m             \u001b[0;32mreturn\u001b[0m \u001b[0mfrom_edgelist\u001b[0m\u001b[0;34m(\u001b[0m\u001b[0mdata\u001b[0m\u001b[0;34m,\u001b[0m \u001b[0mcreate_using\u001b[0m\u001b[0;34m=\u001b[0m\u001b[0mcreate_using\u001b[0m\u001b[0;34m)\u001b[0m\u001b[0;34m\u001b[0m\u001b[0;34m\u001b[0m\u001b[0m\n\u001b[0m\u001b[1;32m    115\u001b[0m         \u001b[0;32mexcept\u001b[0m\u001b[0;34m:\u001b[0m\u001b[0;34m\u001b[0m\u001b[0;34m\u001b[0m\u001b[0m\n",
      "\u001b[0;32m/Library/Frameworks/Python.framework/Versions/3.7/lib/python3.7/site-packages/networkx/convert.py\u001b[0m in \u001b[0;36mfrom_edgelist\u001b[0;34m(edgelist, create_using)\u001b[0m\n\u001b[1;32m    389\u001b[0m     \u001b[0mG\u001b[0m \u001b[0;34m=\u001b[0m \u001b[0mnx\u001b[0m\u001b[0;34m.\u001b[0m\u001b[0mempty_graph\u001b[0m\u001b[0;34m(\u001b[0m\u001b[0;36m0\u001b[0m\u001b[0;34m,\u001b[0m \u001b[0mcreate_using\u001b[0m\u001b[0;34m)\u001b[0m\u001b[0;34m\u001b[0m\u001b[0;34m\u001b[0m\u001b[0m\n\u001b[0;32m--> 390\u001b[0;31m     \u001b[0mG\u001b[0m\u001b[0;34m.\u001b[0m\u001b[0madd_edges_from\u001b[0m\u001b[0;34m(\u001b[0m\u001b[0medgelist\u001b[0m\u001b[0;34m)\u001b[0m\u001b[0;34m\u001b[0m\u001b[0;34m\u001b[0m\u001b[0m\n\u001b[0m\u001b[1;32m    391\u001b[0m     \u001b[0;32mreturn\u001b[0m \u001b[0mG\u001b[0m\u001b[0;34m\u001b[0m\u001b[0;34m\u001b[0m\u001b[0m\n",
      "\u001b[0;32m/Library/Frameworks/Python.framework/Versions/3.7/lib/python3.7/site-packages/networkx/classes/graph.py\u001b[0m in \u001b[0;36madd_edges_from\u001b[0;34m(self, ebunch_to_add, **attr)\u001b[0m\n\u001b[1;32m    968\u001b[0m                 raise NetworkXError(\n\u001b[0;32m--> 969\u001b[0;31m                     \"Edge tuple %s must be a 2-tuple or 3-tuple.\" % (e,))\n\u001b[0m\u001b[1;32m    970\u001b[0m             \u001b[0;32mif\u001b[0m \u001b[0mu\u001b[0m \u001b[0;32mnot\u001b[0m \u001b[0;32min\u001b[0m \u001b[0mself\u001b[0m\u001b[0;34m.\u001b[0m\u001b[0m_node\u001b[0m\u001b[0;34m:\u001b[0m\u001b[0;34m\u001b[0m\u001b[0;34m\u001b[0m\u001b[0m\n",
      "\u001b[0;31mNetworkXError\u001b[0m: Edge tuple president must be a 2-tuple or 3-tuple.",
      "\nDuring handling of the above exception, another exception occurred:\n",
      "\u001b[0;31mNetworkXError\u001b[0m                             Traceback (most recent call last)",
      "\u001b[0;32m<ipython-input-29-977760144466>\u001b[0m in \u001b[0;36m<module>\u001b[0;34m\u001b[0m\n\u001b[0;32m----> 1\u001b[0;31m \u001b[0mglobal_cda_paper\u001b[0m \u001b[0;34m=\u001b[0m \u001b[0mut\u001b[0m\u001b[0;34m.\u001b[0m\u001b[0mnetwork_graph\u001b[0m\u001b[0;34m(\u001b[0m\u001b[0mco_matrix_paper\u001b[0m\u001b[0;34m,\u001b[0m \u001b[0;34m'community'\u001b[0m\u001b[0;34m,\u001b[0m \u001b[0mnounphrase\u001b[0m\u001b[0;34m,\u001b[0m \u001b[0;34m'global'\u001b[0m\u001b[0;34m,\u001b[0m \u001b[0;34m'paper'\u001b[0m\u001b[0;34m)\u001b[0m\u001b[0;34m\u001b[0m\u001b[0;34m\u001b[0m\u001b[0m\n\u001b[0m",
      "\u001b[0;32m~/Desktop/Grad_School/ML_and_PubPol/SOTU_Project/State-of-the-Unions/utils.py\u001b[0m in \u001b[0;36mnetwork_graph\u001b[0;34m(df, method, nounphrase, timeperiod, similarity)\u001b[0m\n\u001b[1;32m    214\u001b[0m \u001b[0;34m\u001b[0m\u001b[0m\n\u001b[1;32m    215\u001b[0m     \u001b[0;31m# establish graph\u001b[0m\u001b[0;34m\u001b[0m\u001b[0;34m\u001b[0m\u001b[0;34m\u001b[0m\u001b[0m\n\u001b[0;32m--> 216\u001b[0;31m     \u001b[0mgraph\u001b[0m \u001b[0;34m=\u001b[0m \u001b[0mnx\u001b[0m\u001b[0;34m.\u001b[0m\u001b[0mGraph\u001b[0m\u001b[0;34m(\u001b[0m\u001b[0mdf\u001b[0m\u001b[0;34m)\u001b[0m\u001b[0;34m\u001b[0m\u001b[0;34m\u001b[0m\u001b[0m\n\u001b[0m\u001b[1;32m    217\u001b[0m \u001b[0;34m\u001b[0m\u001b[0m\n\u001b[1;32m    218\u001b[0m     \u001b[0medges\u001b[0m\u001b[0;34m,\u001b[0m\u001b[0mweights\u001b[0m \u001b[0;34m=\u001b[0m \u001b[0mzip\u001b[0m\u001b[0;34m(\u001b[0m\u001b[0;34m*\u001b[0m\u001b[0mnx\u001b[0m\u001b[0;34m.\u001b[0m\u001b[0mget_edge_attributes\u001b[0m\u001b[0;34m(\u001b[0m\u001b[0mgraph\u001b[0m\u001b[0;34m,\u001b[0m\u001b[0;34m'weight'\u001b[0m\u001b[0;34m)\u001b[0m\u001b[0;34m.\u001b[0m\u001b[0mitems\u001b[0m\u001b[0;34m(\u001b[0m\u001b[0;34m)\u001b[0m\u001b[0;34m)\u001b[0m\u001b[0;34m\u001b[0m\u001b[0;34m\u001b[0m\u001b[0m\n",
      "\u001b[0;32m/Library/Frameworks/Python.framework/Versions/3.7/lib/python3.7/site-packages/networkx/classes/graph.py\u001b[0m in \u001b[0;36m__init__\u001b[0;34m(self, incoming_graph_data, **attr)\u001b[0m\n\u001b[1;32m    344\u001b[0m         \u001b[0;31m# attempt to load graph with data\u001b[0m\u001b[0;34m\u001b[0m\u001b[0;34m\u001b[0m\u001b[0;34m\u001b[0m\u001b[0m\n\u001b[1;32m    345\u001b[0m         \u001b[0;32mif\u001b[0m \u001b[0mincoming_graph_data\u001b[0m \u001b[0;32mis\u001b[0m \u001b[0;32mnot\u001b[0m \u001b[0;32mNone\u001b[0m\u001b[0;34m:\u001b[0m\u001b[0;34m\u001b[0m\u001b[0;34m\u001b[0m\u001b[0m\n\u001b[0;32m--> 346\u001b[0;31m             \u001b[0mconvert\u001b[0m\u001b[0;34m.\u001b[0m\u001b[0mto_networkx_graph\u001b[0m\u001b[0;34m(\u001b[0m\u001b[0mincoming_graph_data\u001b[0m\u001b[0;34m,\u001b[0m \u001b[0mcreate_using\u001b[0m\u001b[0;34m=\u001b[0m\u001b[0mself\u001b[0m\u001b[0;34m)\u001b[0m\u001b[0;34m\u001b[0m\u001b[0;34m\u001b[0m\u001b[0m\n\u001b[0m\u001b[1;32m    347\u001b[0m         \u001b[0;31m# load graph attributes (must be after convert)\u001b[0m\u001b[0;34m\u001b[0m\u001b[0;34m\u001b[0m\u001b[0;34m\u001b[0m\u001b[0m\n\u001b[1;32m    348\u001b[0m         \u001b[0mself\u001b[0m\u001b[0;34m.\u001b[0m\u001b[0mgraph\u001b[0m\u001b[0;34m.\u001b[0m\u001b[0mupdate\u001b[0m\u001b[0;34m(\u001b[0m\u001b[0mattr\u001b[0m\u001b[0;34m)\u001b[0m\u001b[0;34m\u001b[0m\u001b[0;34m\u001b[0m\u001b[0m\n",
      "\u001b[0;32m/Library/Frameworks/Python.framework/Versions/3.7/lib/python3.7/site-packages/networkx/convert.py\u001b[0m in \u001b[0;36mto_networkx_graph\u001b[0;34m(data, create_using, multigraph_input)\u001b[0m\n\u001b[1;32m    114\u001b[0m             \u001b[0;32mreturn\u001b[0m \u001b[0mfrom_edgelist\u001b[0m\u001b[0;34m(\u001b[0m\u001b[0mdata\u001b[0m\u001b[0;34m,\u001b[0m \u001b[0mcreate_using\u001b[0m\u001b[0;34m=\u001b[0m\u001b[0mcreate_using\u001b[0m\u001b[0;34m)\u001b[0m\u001b[0;34m\u001b[0m\u001b[0;34m\u001b[0m\u001b[0m\n\u001b[1;32m    115\u001b[0m         \u001b[0;32mexcept\u001b[0m\u001b[0;34m:\u001b[0m\u001b[0;34m\u001b[0m\u001b[0;34m\u001b[0m\u001b[0m\n\u001b[0;32m--> 116\u001b[0;31m             \u001b[0;32mraise\u001b[0m \u001b[0mnx\u001b[0m\u001b[0;34m.\u001b[0m\u001b[0mNetworkXError\u001b[0m\u001b[0;34m(\u001b[0m\u001b[0;34m\"Input is not a valid edge list\"\u001b[0m\u001b[0;34m)\u001b[0m\u001b[0;34m\u001b[0m\u001b[0;34m\u001b[0m\u001b[0m\n\u001b[0m\u001b[1;32m    117\u001b[0m \u001b[0;34m\u001b[0m\u001b[0m\n\u001b[1;32m    118\u001b[0m     \u001b[0;31m# Pandas DataFrame\u001b[0m\u001b[0;34m\u001b[0m\u001b[0;34m\u001b[0m\u001b[0;34m\u001b[0m\u001b[0m\n",
      "\u001b[0;31mNetworkXError\u001b[0m: Input is not a valid edge list"
     ]
    }
   ],
   "source": [
    "global_cda_paper = ut.network_graph(co_matrix_paper, 'community', nounphrase, 'global', 'paper')"
   ]
  },
  {
   "cell_type": "markdown",
   "metadata": {},
   "source": [
    "Create network graph using community detection algorithms and cosine similarity"
   ]
  },
  {
   "cell_type": "code",
   "execution_count": 16,
   "metadata": {},
   "outputs": [
    {
     "name": "stdout",
     "output_type": "stream",
     "text": [
      "['mr speaker', 'the congress', 'the price', 'the people', 'million', 'the state', 'the union', 'a series', 'construction', 'a reduction', 'the rate', 'increase', 'tax', 'the increase', 'the beginning', 'the expense', 'the cost', 'waste', 'fraud', 'this year', 'the budget', 'office', 'a change', 'law', 'revenue', 'the number', 'employee', 'the department', 'the last year', 'the system', 'the time', 'a bill', 'the next year', 'operation', 'aid', 'the federal government', 'the national government', 'the return', 'transportation', 'the extent', 'hand', 'legislation', 'dollar', 'service', 'the land', 'the enactment', 'the house', 'detail', 'the past year', 'the year', 'the difference', 'a period', 'the condition', 'the present', 'the evil', 'my message', 'the experience', 'my opinion', 'combination', 'corporation', 'experience', 'money', 'the public', 'the place', 'the farmer', 'connection', 'the power', 'the constitution', 'this power', 'practice', 'the several state', 'regulation', 'this subject', 'the passage', 'a law', 'its provision', 'its operation', 'the necessity', 'the reduction', 'the tariff', 'the country', 'manufacture', 'the advantage', 'the wisdom', 'this system', 'a system', 'interest', 'duty', 'the soil', 'the application', 'the executive department', 'the duty', 'competition', 'my judgment', 'bank', 'the issue', 'the use', 'the amount', 'circulation', 'your attention', 'line', 'organization', 'the form', 'addition', 'the organization', 'the creation', 'the united state', 'the adoption', 'the secretary', 'the last session', 'the work', 'administration', 'several year', 'use', 'the prosperity', 'the army', 'efficiency', 'individual', 'the bill', 'the measure', 'provision', 'the navy', 'attention', 'the appropriation', 'the purchase', 'the efficiency', 'the building', 'the service', 'the head', 'promotion', 'officer', 'the revenue', 'the postoffice department', 'the business', 'the receipt', 'the fiscal year', 'an increase', 'the precede year', 'the fact', 'cent', 'the want', 'the market', 'the value', 'agriculture', 'the west', 'the operation', 'public land', 'alaska', 'land', 'the indian', 'the member', 'the production', 'the plan', 'the district', 'columbia', 'reference', 'the extension', 'appointment', 'the report', 'the session', 'the public interest', 'the legislation', 'market', 'mean', 'delay', 'such measure', 'the railroad', 'merchandise', 'this session', 'the attention', 'the board', 'appropriation', 'the survey', 'economy', 'the money', 'management', 'expense', 'expenditure', 'navy', 'all time', 'information', 'rate', 'the construction', 'price', 'the suggestion', 'contract', 'sale', 'amount', 'method', 'the effect', 'the accomplishment', 'january', 'the sale', 'the recommendation', 'the bureau', 'bond', 'commission', 'charge', 'the currency', 'this work', 'the requirement', 'supply', 'the governor', 'the suppression', 'custom', 'material', 'the sum', 'export', 'june', 'the present year', 'article', 'an appropriation', 'the execution', 'the loan', 'excess', 'department', 'member', 'improvement', 'no doubt', 'the improvement', 'the administration', 'cost', 'the basis', 'relief', 'account', 'value', 'the close', 'the last fiscal year', 'Unnamed: 735', 'the public debt', 'a surplus', 'the payment', 'the debt', 'debt', 'the estimate', 'that department', 'the expenditure', 'the surplus', 'the treasury', 'the credit', 'the bond', 'the treasury department', 'the come year', 'the office', 'the discharge', 'care', 'a plan', 'the management', 'the bank', 'the war department', 'this plan', 'my recommendation', 'the fund', 'the st', 'the method', 'the reason', 'the practice', 'the legislature', 'the public land', 'the opinion', 'acre', 'engineer', 'the loss', 'the last congress', 'compensation', 'step', 'deposit', 'the change', 'the interior', 'the present session', 'loan', 'the same period', 'the remainder', 'california', 'gold', 'the public service', 'the labor', 'specie', 'result', 'the postmastergeneral', 'the failure', 'opinion', 'slavery', 'the nature', 'fortification', 'the propriety', 'silver', 'survey', 'payment', 'the balance', 'treasury note', 'the principal', 'the next fiscal year', 'the commencement', 'the tax', 'the whole country', 'credit', 'the public money', 'exist law', 'the collection', 'the transportation', 'the mail', 'the previous year', 'exchange', 'taxation', 'import', 'the election', 'a majority', 'the general government', 'the support', 'the object', 'the removal', 'recommendation', 'kansa', 'receipt', 'the current year', 'the current fiscal year', 'the present fiscal year', 'plan', 'this matter', 'your consideration', 'railroad', 'abuse', 'demand', 'the st day', 'pension', 'the rebellion', 'billion dollar', 'million dollar']\n",
      "['fellow citizen', 'the nation', 'selfgovernment', 'the preservation', 'liberty', 'the hand', 'the american people', 'our friend', 'a matter', 'the free world', 'aggression', 'a nation', 'a country', 'us', 'peace', 'strength', 'the burden', 'freedom', 'this chamber', 'this congress', 'this administration', 'america', 'prosperity', 'our nation', 'the world', 'the blessing', 'our child', 'the progress', 'other nation', 'the foundation', 'the face', 'their child', 'this time', 'unemployment', 'inflation', 'percent', 'the past', 'the economy', 'job', 'all american', 'history', 'change', 'year', 'power', 'resource', 'the growth', 'government', 'thousand', 'american', 'no one', 'the way', 'day', 'the program', 'the road', 'the strength', 'investment', 'progress', 'economic growth', 'the deficit', 'time', 'our history', 'production', 'our economy', 'hope', 'people', 'our effort', 'energy', 'education', 'business', 'our resource', 'need', 'every american', 'medicare', 'program', 'nothing', 'something', 'others', 'research', 'health', 'capital', 'a program', 'our system', 'school', 'welfare', 'the mean', 'this program', 'part', 'family', 'enterprise', 'the challenge', 'reform', 'faith', 'woman', 'the first time', 'crime', 'society', 'the quality', 'the rest', 'the globe', 'trade', 'the south', 'a policy', 'action', 'the force', 'support', 'afghanistan', 'the soviet union', 'europe', 'asia', 'the middle east', 'condition', 'violence', 'security', 'the peace', 'god', 'our people', 'the kind', 'a time', 'the process', 'this nation', 'course', 'the end', 'men', 'the philippine', 'the spirit', 'safety', 'man', 'earth', 'success', 'a people', 'our future', 'the men', 'home', 'the day', 'this country', 'the community', 'a whole', 'proportion', 'our duty', 'trust', 'civilization', 'the name', 'the effort', 'way', 'wealth', 'our country', 'the other hand', 'this end', 'stability', 'the standard', 'wage', 'advantage', 'the need', 'the will', 'labor', 'harmony', 'wisdom', 'his country', 'good', 'return', 'the benefit', 'independence', 'the welfare', 'the history', 'mankind', 'an opportunity', 'preparation', 'access', 'life', 'happiness', 'matter', 'our troop', 'the man', 'company', 'death', 'population', 'our navy', 'the ship', 'the development', 'danger', 'city', 'instance', 'the maintenance', 'the life', 'gentleman', 'fear', 'the future', 'character', 'intelligence', 'everything', 'opportunity', 'the resource', 'ship', 'the source', 'industry', 'development', 'the field', 'purpose', 'the task', 'national defense', 'none', 'a spirit', 'the opportunity', 'nation', 'their life', 'our government', 'a government', 'defense', 'our policy', 'force', 'growth', 'number', 'party', 'cooperation', 'mind', 'the confidence', 'equality', 'the individual', 'effort', 'any time', 'a result', 'the danger', 'disease', 'our force', 'responsibility', 'the responsibility', 'the safety', 'the heart', 'anything', 'the consequence', 'president', 'the success', 'korea', 'the cause', 'agreement', 'treatment', 'example', 'the light', 'the population', 'all the people', 'the problem', 'everyone', 'confidence', 'the industry', 'work', 'the enemy', 'the art', 'our enemy', 'their country', 'the defense', 'farmer', 'our institution', 'this war', 'the influence', 'every part', 'our union', 'friend', 'right', 'employment', 'our constitution', 'failure', 'my administration', 'injustice', 'conflict', 'event', 'the prospect', 'our power', 'the institution', 'our city', 'our fellow citizen', 'the ability', 'vietnam', 'our shore', 'benefit', 'their family', 'poverty', 'a way', 'living', 'courage', 'veteran', 'worker', 'child', 'good will', 'community', 'science', 'the freedom', 'our goal', 'our ally', 'technology', 'college', 'democrat', 'republican', 'the family', 'a world', 'a man', 'the chance', 'citizenship', 'our population', 'our interest', 'social security', 'the job', 'parent', 'health care', 'the st century', 'democracy', 'profit', 'food', 'small business', 'africa', 'the threat', 'the united nation', 'drug', 'iran', 'terror', 'terrorist', 'iraq']\n",
      "['arm', 'washington', 'humanity', 'my duty', 'our relation', 'the situation', 'thing', 'place', 'the month', 'december', 'the course', 'the moment', 'the product', 'the policy', 'the government', 'control', 'august', 'the same time', 'the law', 'our citizen', 'jurisdiction', 'state', 'the right', 'justice', 'the senate', 'a subject', 'order', 'respect', 'both side', 'good faith', 'the event', 'negotiation', 'a position', 'the protection', 'other country', 'the rule', 'the water', 'honor', 'congress', 'the president', 'representative', 'house', 'this government', 'our law', 'length', 'the question', 'the regulation', 'property', 'the exercise', 'the contrary', 'the line', 'the result', 'commerce', 'foreign nation', 'the consideration', 'a view', 'the purpose', 'the enforcement', 'this purpose', 'the direction', 'effect', 'consideration', 'the subject', 'the interest', 'principle', 'the principle', 'the performance', 'protection', 'view', 'fact', 'a commission', 'the case', 'the view', 'the character', 'the point', 'the conduct', 'a part', 'conformity', 'question', 'the employment', 'cuba', 'may', 'the island', 'the ground', 'the north', 'a convention', 'great britain', 'ratification', 'the convention', 'war', 'arbitration', 'difficulty', 'mexico', 'panama', 'colombia', 'the canal', 'regard', 'circumstance', 'importance', 'foreigner', 'the philippine island', 'hawaii', 'term', 'the matter', 'consequence', 'china', 'accordance', 'the representative', 'the meantime', 'a copy', 'july', 'the war', 'a measure', 'the limit', 'their duty', 'our army', 'hostility', 'the circumstance', 'the relation', 'territory', 'the officer', 'some time', 'necessity', 'advance', 'november', 'the territory', 'the action', 'the establishment', 'country', 'the continuance', 'this policy', 'the acquisition', 'settlement', 'person', 'the commission', 'the tribe', 'the republic', 'louisiana', 'texas', 'this continent', 'our territory', 'the city', 'the position', 'the restoration', 'the property', 'the period', 'the part', 'reason', 'the sea', 'the port', 'the trade', 'our trade', 'a question', 'the difficulty', 'sea', 'the conference', 'the provision', 'their government', 'policy', 'occasion', 'a war', 'friendship', 'amity', 'the commerce', 'the opening', 'the executive', 'the supreme court', 'decision', 'the decision', 'the court', 'the act', 'the capital', 'loss', 'the statute', 'the agreement', 'the term', 'the party', 'authority', 'a number', 'violation', 'the settlement', 'the proceeding', 'the control', 'discussion', 'this act', 'that time', 'section', 'a right', 'france', 'japan', 'the french government', 'the negotiation', 'claim', 'chile', 'the claimant', 'dispute', 'the date', 'this question', 'the award', 'the two country', 'the agent', 'many year', 'the two government', 'commissioner', 'venezuela', 'that country', 'measure', 'a condition', 'the th', 'march', 'the absence', 'the hope', 'troop', 'the troop', 'a state', 'assurance', 'communication', 'april', 'the insurgent', 'american citizen', 'instruction', 'both party', 'the mexican government', 'case', 'injury', 'the affair', 'october', 'central america', 'the importance', 'nicaragua', 'honduras', 'the exchange', 'the ratification', 'the conclusion', 'treaty', 'my last annual message', 'an agreement', 'the privilege', 'september', 'its people', 'new york', 'the treaty', 'navigation', 'italy', 'turkey', 'london', 'these claim', 'that purpose', 'the th day', 'the approval', 'germany', 'pursuance', 'the emperor', 'russia', 'the minister', 'this treaty', 'that republic', 'the adjustment', 'february', 'the obligation', 'the authority', 'other power', 'foreign country', 'those country', 'behalf', 'our commerce', 'cause', 'the person', 'the independence', 'my predecessor', 'the completion', 'the order', 'the atlantic', 'that government', 'naturalization', 'citizen', 'harbor', 'the river', 'the gulf', 'the mississippi', 'the appointment', 'mile', 'vessel', 'fellowcitizens', 'the occasion', 'the british government', 'the ocean', 'our part', 'the militia', 'that quarter', 'indian', 'the whole', 'the demand', 'the earth', 'all nation', 'peru', 'belgium', 'the citizen', 'a portion', 'an act', 'execution', 'the pacific', 'new mexico', 'the commissioner', 'oregon', 'the coast', 'florida', 'affair', 'the inhabitant', 'the isthmus', 'the existence', 'the security', 'satisfaction', 'redress', 'favor', 'these measure', 'their right', 'act', 'the honor', 'a source', 'denmark', 'the claim', 'portugal', 'spain', 'brazil', 'relation', 'complaint', 'the correspondence', 'a treaty', 'the manner', 'the proposition', 'this respect', 'the indian tribe', 'south america', 'the king', 'our minister', 'its citizen', 'canada', 'difference', 'paris', 'the spanish government', 'the vessel', 'the satisfaction', 'board', 'an end', 'indemnity', 'utah', 'those state', 'the article', 'the justice', 'england', 'water', 'the destruction']\n",
      "['a duty', 'no reason']\n"
     ]
    },
    {
     "name": "stdout",
     "output_type": "stream",
     "text": [
      "Networks/global_spacy_cosine_community.png\n"
     ]
    },
    {
     "data": {
      "image/png": "[encoded data removed]",
      "text/plain": [
       "<Figure size 432x288 with 1 Axes>"
      ]
     },
     "metadata": {},
     "output_type": "display_data"
    }
   ],
   "source": [
    "global_cda_cosine = ut.network_graph(co_matrix, 'community', nounphrase, 'global', 'cosine')"
   ]
  },
  {
   "cell_type": "markdown",
   "metadata": {},
   "source": [
    "Create network graph using kmeans unsupervised clustering and paper's approach "
   ]
  },
  {
   "cell_type": "code",
   "execution_count": 37,
   "metadata": {},
   "outputs": [
    {
     "ename": "NetworkXError",
     "evalue": "Input is not a valid edge list",
     "output_type": "error",
     "traceback": [
      "\u001b[0;31m---------------------------------------------------------------------------\u001b[0m",
      "\u001b[0;31mNetworkXError\u001b[0m                             Traceback (most recent call last)",
      "\u001b[0;32m/Library/Frameworks/Python.framework/Versions/3.7/lib/python3.7/site-packages/networkx/convert.py\u001b[0m in \u001b[0;36mto_networkx_graph\u001b[0;34m(data, create_using, multigraph_input)\u001b[0m\n\u001b[1;32m    113\u001b[0m         \u001b[0;32mtry\u001b[0m\u001b[0;34m:\u001b[0m\u001b[0;34m\u001b[0m\u001b[0;34m\u001b[0m\u001b[0m\n\u001b[0;32m--> 114\u001b[0;31m             \u001b[0;32mreturn\u001b[0m \u001b[0mfrom_edgelist\u001b[0m\u001b[0;34m(\u001b[0m\u001b[0mdata\u001b[0m\u001b[0;34m,\u001b[0m \u001b[0mcreate_using\u001b[0m\u001b[0;34m=\u001b[0m\u001b[0mcreate_using\u001b[0m\u001b[0;34m)\u001b[0m\u001b[0;34m\u001b[0m\u001b[0;34m\u001b[0m\u001b[0m\n\u001b[0m\u001b[1;32m    115\u001b[0m         \u001b[0;32mexcept\u001b[0m\u001b[0;34m:\u001b[0m\u001b[0;34m\u001b[0m\u001b[0;34m\u001b[0m\u001b[0m\n",
      "\u001b[0;32m/Library/Frameworks/Python.framework/Versions/3.7/lib/python3.7/site-packages/networkx/convert.py\u001b[0m in \u001b[0;36mfrom_edgelist\u001b[0;34m(edgelist, create_using)\u001b[0m\n\u001b[1;32m    389\u001b[0m     \u001b[0mG\u001b[0m \u001b[0;34m=\u001b[0m \u001b[0mnx\u001b[0m\u001b[0;34m.\u001b[0m\u001b[0mempty_graph\u001b[0m\u001b[0;34m(\u001b[0m\u001b[0;36m0\u001b[0m\u001b[0;34m,\u001b[0m \u001b[0mcreate_using\u001b[0m\u001b[0;34m)\u001b[0m\u001b[0;34m\u001b[0m\u001b[0;34m\u001b[0m\u001b[0m\n\u001b[0;32m--> 390\u001b[0;31m     \u001b[0mG\u001b[0m\u001b[0;34m.\u001b[0m\u001b[0madd_edges_from\u001b[0m\u001b[0;34m(\u001b[0m\u001b[0medgelist\u001b[0m\u001b[0;34m)\u001b[0m\u001b[0;34m\u001b[0m\u001b[0;34m\u001b[0m\u001b[0m\n\u001b[0m\u001b[1;32m    391\u001b[0m     \u001b[0;32mreturn\u001b[0m \u001b[0mG\u001b[0m\u001b[0;34m\u001b[0m\u001b[0;34m\u001b[0m\u001b[0m\n",
      "\u001b[0;32m/Library/Frameworks/Python.framework/Versions/3.7/lib/python3.7/site-packages/networkx/classes/graph.py\u001b[0m in \u001b[0;36madd_edges_from\u001b[0;34m(self, ebunch_to_add, **attr)\u001b[0m\n\u001b[1;32m    968\u001b[0m                 raise NetworkXError(\n\u001b[0;32m--> 969\u001b[0;31m                     \"Edge tuple %s must be a 2-tuple or 3-tuple.\" % (e,))\n\u001b[0m\u001b[1;32m    970\u001b[0m             \u001b[0;32mif\u001b[0m \u001b[0mu\u001b[0m \u001b[0;32mnot\u001b[0m \u001b[0;32min\u001b[0m \u001b[0mself\u001b[0m\u001b[0;34m.\u001b[0m\u001b[0m_node\u001b[0m\u001b[0;34m:\u001b[0m\u001b[0;34m\u001b[0m\u001b[0;34m\u001b[0m\u001b[0m\n",
      "\u001b[0;31mNetworkXError\u001b[0m: Edge tuple president must be a 2-tuple or 3-tuple.",
      "\nDuring handling of the above exception, another exception occurred:\n",
      "\u001b[0;31mNetworkXError\u001b[0m                             Traceback (most recent call last)",
      "\u001b[0;32m<ipython-input-37-6f9e03153fb3>\u001b[0m in \u001b[0;36m<module>\u001b[0;34m\u001b[0m\n\u001b[0;32m----> 1\u001b[0;31m \u001b[0mglobal_kmeans_paper\u001b[0m \u001b[0;34m=\u001b[0m \u001b[0mut\u001b[0m\u001b[0;34m.\u001b[0m\u001b[0mnetwork_graph\u001b[0m\u001b[0;34m(\u001b[0m\u001b[0mco_matrix_paper\u001b[0m\u001b[0;34m,\u001b[0m \u001b[0;34m'kmeans'\u001b[0m\u001b[0;34m,\u001b[0m \u001b[0mnounphrase\u001b[0m\u001b[0;34m,\u001b[0m \u001b[0;34m'global'\u001b[0m\u001b[0;34m,\u001b[0m \u001b[0;34m'paper'\u001b[0m\u001b[0;34m)\u001b[0m\u001b[0;34m\u001b[0m\u001b[0;34m\u001b[0m\u001b[0m\n\u001b[0m",
      "\u001b[0;32m~/Desktop/Grad_School/ML_and_PubPol/SOTU_Project/State-of-the-Unions/utils.py\u001b[0m in \u001b[0;36mnetwork_graph\u001b[0;34m(df, method, nounphrase, timeperiod, similarity)\u001b[0m\n\u001b[1;32m    214\u001b[0m \u001b[0;34m\u001b[0m\u001b[0m\n\u001b[1;32m    215\u001b[0m     \u001b[0;31m# establish graph\u001b[0m\u001b[0;34m\u001b[0m\u001b[0;34m\u001b[0m\u001b[0;34m\u001b[0m\u001b[0m\n\u001b[0;32m--> 216\u001b[0;31m     \u001b[0mgraph\u001b[0m \u001b[0;34m=\u001b[0m \u001b[0mnx\u001b[0m\u001b[0;34m.\u001b[0m\u001b[0mGraph\u001b[0m\u001b[0;34m(\u001b[0m\u001b[0mdf\u001b[0m\u001b[0;34m)\u001b[0m\u001b[0;34m\u001b[0m\u001b[0;34m\u001b[0m\u001b[0m\n\u001b[0m\u001b[1;32m    217\u001b[0m \u001b[0;34m\u001b[0m\u001b[0m\n\u001b[1;32m    218\u001b[0m     \u001b[0medges\u001b[0m\u001b[0;34m,\u001b[0m\u001b[0mweights\u001b[0m \u001b[0;34m=\u001b[0m \u001b[0mzip\u001b[0m\u001b[0;34m(\u001b[0m\u001b[0;34m*\u001b[0m\u001b[0mnx\u001b[0m\u001b[0;34m.\u001b[0m\u001b[0mget_edge_attributes\u001b[0m\u001b[0;34m(\u001b[0m\u001b[0mgraph\u001b[0m\u001b[0;34m,\u001b[0m\u001b[0;34m'weight'\u001b[0m\u001b[0;34m)\u001b[0m\u001b[0;34m.\u001b[0m\u001b[0mitems\u001b[0m\u001b[0;34m(\u001b[0m\u001b[0;34m)\u001b[0m\u001b[0;34m)\u001b[0m\u001b[0;34m\u001b[0m\u001b[0;34m\u001b[0m\u001b[0m\n",
      "\u001b[0;32m/Library/Frameworks/Python.framework/Versions/3.7/lib/python3.7/site-packages/networkx/classes/graph.py\u001b[0m in \u001b[0;36m__init__\u001b[0;34m(self, incoming_graph_data, **attr)\u001b[0m\n\u001b[1;32m    344\u001b[0m         \u001b[0;31m# attempt to load graph with data\u001b[0m\u001b[0;34m\u001b[0m\u001b[0;34m\u001b[0m\u001b[0;34m\u001b[0m\u001b[0m\n\u001b[1;32m    345\u001b[0m         \u001b[0;32mif\u001b[0m \u001b[0mincoming_graph_data\u001b[0m \u001b[0;32mis\u001b[0m \u001b[0;32mnot\u001b[0m \u001b[0;32mNone\u001b[0m\u001b[0;34m:\u001b[0m\u001b[0;34m\u001b[0m\u001b[0;34m\u001b[0m\u001b[0m\n\u001b[0;32m--> 346\u001b[0;31m             \u001b[0mconvert\u001b[0m\u001b[0;34m.\u001b[0m\u001b[0mto_networkx_graph\u001b[0m\u001b[0;34m(\u001b[0m\u001b[0mincoming_graph_data\u001b[0m\u001b[0;34m,\u001b[0m \u001b[0mcreate_using\u001b[0m\u001b[0;34m=\u001b[0m\u001b[0mself\u001b[0m\u001b[0;34m)\u001b[0m\u001b[0;34m\u001b[0m\u001b[0;34m\u001b[0m\u001b[0m\n\u001b[0m\u001b[1;32m    347\u001b[0m         \u001b[0;31m# load graph attributes (must be after convert)\u001b[0m\u001b[0;34m\u001b[0m\u001b[0;34m\u001b[0m\u001b[0;34m\u001b[0m\u001b[0m\n\u001b[1;32m    348\u001b[0m         \u001b[0mself\u001b[0m\u001b[0;34m.\u001b[0m\u001b[0mgraph\u001b[0m\u001b[0;34m.\u001b[0m\u001b[0mupdate\u001b[0m\u001b[0;34m(\u001b[0m\u001b[0mattr\u001b[0m\u001b[0;34m)\u001b[0m\u001b[0;34m\u001b[0m\u001b[0;34m\u001b[0m\u001b[0m\n",
      "\u001b[0;32m/Library/Frameworks/Python.framework/Versions/3.7/lib/python3.7/site-packages/networkx/convert.py\u001b[0m in \u001b[0;36mto_networkx_graph\u001b[0;34m(data, create_using, multigraph_input)\u001b[0m\n\u001b[1;32m    114\u001b[0m             \u001b[0;32mreturn\u001b[0m \u001b[0mfrom_edgelist\u001b[0m\u001b[0;34m(\u001b[0m\u001b[0mdata\u001b[0m\u001b[0;34m,\u001b[0m \u001b[0mcreate_using\u001b[0m\u001b[0;34m=\u001b[0m\u001b[0mcreate_using\u001b[0m\u001b[0;34m)\u001b[0m\u001b[0;34m\u001b[0m\u001b[0;34m\u001b[0m\u001b[0m\n\u001b[1;32m    115\u001b[0m         \u001b[0;32mexcept\u001b[0m\u001b[0;34m:\u001b[0m\u001b[0;34m\u001b[0m\u001b[0;34m\u001b[0m\u001b[0m\n\u001b[0;32m--> 116\u001b[0;31m             \u001b[0;32mraise\u001b[0m \u001b[0mnx\u001b[0m\u001b[0;34m.\u001b[0m\u001b[0mNetworkXError\u001b[0m\u001b[0;34m(\u001b[0m\u001b[0;34m\"Input is not a valid edge list\"\u001b[0m\u001b[0;34m)\u001b[0m\u001b[0;34m\u001b[0m\u001b[0;34m\u001b[0m\u001b[0m\n\u001b[0m\u001b[1;32m    117\u001b[0m \u001b[0;34m\u001b[0m\u001b[0m\n\u001b[1;32m    118\u001b[0m     \u001b[0;31m# Pandas DataFrame\u001b[0m\u001b[0;34m\u001b[0m\u001b[0;34m\u001b[0m\u001b[0;34m\u001b[0m\u001b[0m\n",
      "\u001b[0;31mNetworkXError\u001b[0m: Input is not a valid edge list"
     ]
    }
   ],
   "source": [
    "global_kmeans_paper = ut.network_graph(co_matrix_paper, 'kmeans', nounphrase, 'global', 'paper')"
   ]
  },
  {
   "cell_type": "markdown",
   "metadata": {},
   "source": [
    "Create network graph using kmeans unsupervised clustering and cosine similarity "
   ]
  },
  {
   "cell_type": "code",
   "execution_count": 23,
   "metadata": {},
   "outputs": [
    {
     "name": "stdout",
     "output_type": "stream",
     "text": [
      "['the price', 'the union', 'the situation', 'a series', 'the beginning', 'the expense', 'the cost', 'fraud', 'the product', 'office', 'a change', 'the number', 'the department', 'the last year', 'the system', 'a bill', 'operation', 'aid', 'the federal government', 'dollar', 'service', 'the enactment', 'the difference', 'my message', 'the regulation', 'the experience', 'my opinion', 'money', 'the public', 'the constitution', 'practice', 'the several state', 'regulation', 'the passage', 'a law', 'its provision', 'its operation', 'the enforcement', 'manufacture', 'this system', 'the soil', 'the executive department', 'a commission', 'competition', 'the issue', 'the amount', 'your attention', 'line', 'the employment', 'the creation', 'the united state', 'return', 'the north', 'the secretary', 'the last session', 'administration', 'several year', 'use', 'the prosperity', 'the army', 'their duty', 'the bill', 'attention', 'the building', 'the service', 'the officer', 'the head', 'the business', 'november', 'the market', 'instance', 'settlement', 'the west', 'the operation', 'the indian', 'the member', 'the production', 'the plan', 'the extension', 'the session', 'the public interest', 'the legislation', 'delay', 'such measure', 'the source', 'the board', 'appropriation', 'economy', 'the money', 'expense', 'all time', 'the supreme court', 'decision', 'the capital', 'the construction', 'the suggestion', 'contract', 'amount', 'method', 'this act', 'the recommendation', 'charge', 'this work', 'the requirement', 'supply', 'the governor', 'the suppression', 'new york', 'article', 'the approval', 'an appropriation', 'the execution', 'improvement', 'no doubt', 'the improvement', 'the basis', 'a duty', 'relief', 'account', 'value', 'the close', 'the payment', 'the debt', 'debt', 'the population', 'the treasury department', 'the office', 'the discharge', 'care', 'a plan', 'the management', 'the bank', 'the method', 'the reason', 'the legislature', 'the mississippi', 'the loss', 'the last congress', 'compensation', 'step', 'the change', 'the present session', 'the militia', 'california', 'the public service', 'the labor', 'every part', 'result', 'the failure', 'payment', 'the commencement', 'the whole country', 'the collection', 'exchange', 'taxation', 'these measure', 'the election', 'the general government', 'the support', 'this matter', 'your consideration', 'abuse', 'demand', 'those state', 'the article', 'water', 'the rebellion']\n",
      "['mr speaker', 'fellow citizen', 'our friend', 'the free world', 'this chamber', 'unemployment', 'inflation', 'percent', 'job', 'all american', 'economic growth', 'the deficit', 'our economy', 'every american', 'medicare', 'program', 'research', 'this program', 'family', 'the challenge', 'afghanistan', 'the middle east', 'house', 'our future', 'gentleman', 'korea', 'fellowcitizens', 'farmer', 'veteran', 'worker', 'our goal', 'our ally', 'technology', 'college', 'democrat', 'republican', 'a world', 'social security', 'parent', 'health care', 'the st century', 'small business', 'the threat', 'the united nation', 'drug', 'iran', 'terror', 'terrorist', 'iraq', 'billion dollar', 'million dollar']\n",
      "['million', 'the budget', 'promotion', 'the postoffice department', 'the receipt', 'the fiscal year', 'an increase', 'the precede year', 'public land', 'columbia', 'appointment', 'the railroad', 'expenditure', 'commission', 'honduras', 'custom', 'the loan', 'the last fiscal year', 'Unnamed: 735', 'the public debt', 'a surplus', 'the estimate', 'that department', 'the expenditure', 'the surplus', 'this plan', 'the st', 'acre', 'deposit', 'loan', 'the same period', 'the postmastergeneral', 'the balance', 'treasury note', 'the principal', 'the next fiscal year', 'the previous year', 'receipt', 'the current year', 'the current fiscal year', 'the present fiscal year', 'the st day', 'pension']\n",
      "['construction', 'a reduction', 'the rate', 'increase', 'tax', 'the increase', 'waste', 'the road', 'this year', 'revenue', 'employee', 'the next year', 'capital', 'the national government', 'transportation', 'hand', 'the house', 'detail', 'the year', 'representative', 'proportion', 'combination', 'corporation', 'the farmer', 'this power', 'the reduction', 'the tariff', 'bank', 'circulation', 'labor', 'organization', 'the canal', 'efficiency', 'our army', 'the navy', 'the appropriation', 'the purchase', 'the efficiency', 'officer', 'the revenue', 'cent', 'the value', 'agriculture', 'alaska', 'the district', 'the report', 'market', 'ship', 'development', 'merchandise', 'this session', 'the survey', 'management', 'navy', 'the statute', 'rate', 'price', 'sale', 'january', 'the sale', 'the bureau', 'bond', 'the currency', 'material', 'the sum', 'export', 'june', 'the present year', 'agreement', 'excess', 'department', 'member', 'cost', 'the treasury', 'the credit', 'the bond', 'the come year', 'the war department', 'my recommendation', 'the fund', 'the public land', 'engineer', 'mile', 'the interior', 'indian', 'the remainder', 'gold', 'specie', 'slavery', 'fortification', 'silver', 'survey', 'the tax', 'credit', 'the public money', 'exist law', 'the transportation', 'the mail', 'import', 'a majority', 'recommendation', 'kansa', 'plan', 'railroad', 'utah']\n",
      "['liberty', 'the american people', 'a nation', 'us', 'peace', 'strength', 'the burden', 'prosperity', 'the world', 'humanity', 'other nation', 'the foundation', 'the face', 'this time', 'the past', 'year', 'resource', 'the growth', 'thousand', 'the way', 'day', 'progress', 'our history', 'production', 'people', 'our effort', 'energy', 'business', 'need', 'something', 'our system', 'enterprise', 'reform', 'the first time', 'crime', 'society', 'the globe', 'the south', 'the force', 'support', 'violence', 'security', 'the peace', 'our people', 'a time', 'the process', 'course', 'the end', 'men', 'safety', 'man', 'a people', 'home', 'the day', 'the community', 'our duty', 'trust', 'civilization', 'way', 'wealth', 'our country', 'the other hand', 'the need', 'the will', 'wisdom', 'his country', 'good', 'independence', 'the welfare', 'the history', 'preparation', 'life', 'happiness', 'matter', 'death', 'population', 'the development', 'danger', 'country', 'the life', 'the future', 'character', 'intelligence', 'everything', 'the sea', 'the resource', 'industry', 'the field', 'purpose', 'the task', 'the opportunity', 'nation', 'a government', 'defense', 'number', 'party', 'cooperation', 'mind', 'the confidence', 'equality', 'effort', 'a result', 'responsibility', 'the responsibility', 'the safety', 'anything', 'president', 'the cause', 'treatment', 'example', 'the light', 'all the people', 'the problem', 'confidence', 'the industry', 'work', 'the art', 'their country', 'the defense', 'all nation', 'our institution', 'the influence', 'our union', 'friend', 'right', 'employment', 'our constitution', 'failure', 'injustice', 'conflict', 'event', 'the institution', 'our fellow citizen', 'the ability', 'our shore', 'benefit', 'good will', 'the freedom', 'the family', 'citizenship', 'our population', 'our interest']\n",
      "['selfgovernment', 'aggression', 'freedom', 'this congress', 'this administration', 'america', 'our nation', 'the blessing', 'our child', 'their child', 'the economy', 'history', 'change', 'american', 'no one', 'the program', 'the strength', 'investment', 'hope', 'education', 'our resource', 'health', 'a program', 'school', 'welfare', 'faith', 'woman', 'the quality', 'the rest', 'the soviet union', 'asia', 'god', 'the kind', 'this nation', 'the philippine', 'earth', 'the men', 'a whole', 'stability', 'the standard', 'wage', 'mankind', 'the philippine island', 'access', 'our troop', 'the man', 'company', 'our navy', 'the ship', 'city', 'fear', 'opportunity', 'national defense', 'their life', 'our policy', 'growth', 'the individual', 'disease', 'our force', 'the heart', 'everyone', 'the enemy', 'our enemy', 'this war', 'my administration', 'our power', 'our city', 'vietnam', 'their family', 'poverty', 'a way', 'living', 'courage', 'child', 'community', 'science', 'a man', 'the chance', 'the job', 'democracy', 'profit', 'food']\n",
      "['december', 'august', 'jurisdiction', 'the senate', 'both side', 'negotiation', 'a position', 'the point', 'cuba', 'may', 'the island', 'a convention', 'great britain', 'ratification', 'the convention', 'arbitration', 'mexico', 'panama', 'colombia', 'foreigner', 'hawaii', 'china', 'a copy', 'july', 'hostility', 'the tribe', 'louisiana', 'texas', 'the city', 'the port', 'the trade', 'our trade', 'sea', 'the conference', 'a war', 'friendship', 'amity', 'the commerce', 'the opening', 'the agreement', 'the party', 'the proceeding', 'discussion', 'section', 'france', 'japan', 'the french government', 'the negotiation', 'claim', 'chile', 'the claimant', 'dispute', 'the date', 'the award', 'the two country', 'the two government', 'commissioner', 'venezuela', 'that country', 'the th', 'march', 'troop', 'the troop', 'assurance', 'april', 'the insurgent', 'american citizen', 'both party', 'the mexican government', 'injury', 'october', 'central america', 'nicaragua', 'the exchange', 'the ratification', 'treaty', 'an agreement', 'september', 'its people', 'the treaty', 'navigation', 'italy', 'turkey', 'london', 'these claim', 'the th day', 'germany', 'the emperor', 'russia', 'the minister', 'this treaty', 'that republic', 'the adjustment', 'february', 'other power', 'those country', 'the independence', 'my predecessor', 'the completion', 'the order', 'the atlantic', 'that government', 'naturalization', 'harbor', 'the river', 'the gulf', 'vessel', 'the british government', 'the ocean', 'our part', 'that quarter', 'peru', 'belgium', 'the pacific', 'new mexico', 'the commissioner', 'oregon', 'the coast', 'florida', 'the isthmus', 'satisfaction', 'redress', 'denmark', 'the claim', 'portugal', 'spain', 'brazil', 'complaint', 'the correspondence', 'a treaty', 'the proposition', 'the indian tribe', 'south america', 'the king', 'our minister', 'canada', 'difference', 'paris', 'the spanish government', 'the vessel', 'the satisfaction', 'board', 'indemnity', 'the justice', 'england', 'africa']\n",
      "['the congress', 'the nation', 'the preservation', 'the hand', 'a matter', 'arm', 'a country', 'washington', 'my duty', 'the progress', 'our relation', 'the people', 'the state', 'thing', 'place', 'the month', 'power', 'government', 'the course', 'the moment', 'the policy', 'law', 'time', 'the government', 'control', 'nothing', 'the time', 'the same time', 'others', 'the law', 'our citizen', 'the return', 'the mean', 'part', 'the extent', 'legislation', 'state', 'the land', 'the right', 'justice', 'a subject', 'order', 'the past year', 'respect', 'trade', 'a policy', 'good faith', 'action', 'the event', 'the protection', 'europe', 'other country', 'condition', 'the rule', 'the spirit', 'the water', 'honor', 'congress', 'the president', 'a period', 'the condition', 'success', 'the present', 'this government', 'this country', 'our law', 'the evil', 'length', 'the question', 'property', 'the exercise', 'the name', 'experience', 'the contrary', 'the effort', 'the line', 'the place', 'the result', 'connection', 'the power', 'commerce', 'foreign nation', 'this subject', 'the consideration', 'a view', 'the necessity', 'the purpose', 'this purpose', 'the direction', 'the country', 'effect', 'the advantage', 'this end', 'the wisdom', 'consideration', 'the subject', 'the interest', 'principle', 'a system', 'the principle', 'the performance', 'interest', 'duty', 'protection', 'advantage', 'the application', 'view', 'fact', 'the case', 'the duty', 'my judgment', 'the view', 'the use', 'the character', 'the form', 'the conduct', 'harmony', 'addition', 'a part', 'conformity', 'question', 'the organization', 'the ground', 'the benefit', 'the adoption', 'war', 'difficulty', 'the work', 'regard', 'circumstance', 'importance', 'term', 'an opportunity', 'the matter', 'consequence', 'accordance', 'the representative', 'the meantime', 'the war', 'a measure', 'the limit', 'individual', 'the circumstance', 'the measure', 'the relation', 'provision', 'territory', 'some time', 'necessity', 'advance', 'the fact', 'the territory', 'the action', 'the establishment', 'the want', 'the continuance', 'this policy', 'the acquisition', 'person', 'the maintenance', 'land', 'the commission', 'the republic', 'this continent', 'our territory', 'reference', 'the position', 'the restoration', 'the property', 'the period', 'the part', 'reason', 'mean', 'a question', 'the difficulty', 'the attention', 'the provision', 'their government', 'policy', 'none', 'a spirit', 'occasion', 'our government', 'information', 'the executive', 'the decision', 'the court', 'the act', 'loss', 'the term', 'authority', 'force', 'a number', 'violation', 'the settlement', 'the effect', 'the control', 'the accomplishment', 'that time', 'a right', 'this question', 'the agent', 'many year', 'measure', 'a condition', 'the absence', 'any time', 'the hope', 'a state', 'the danger', 'communication', 'instruction', 'the consequence', 'case', 'the affair', 'the importance', 'the success', 'the conclusion', 'my last annual message', 'the privilege', 'that purpose', 'pursuance', 'the obligation', 'the authority', 'foreign country', 'behalf', 'our commerce', 'cause', 'the administration', 'the person', 'the practice', 'citizen', 'the opinion', 'the appointment', 'the occasion', 'the whole', 'the demand', 'the earth', 'the citizen', 'a portion', 'an act', 'execution', 'affair', 'the inhabitant', 'the existence', 'opinion', 'the nature', 'the propriety', 'the security', 'favor', 'their right', 'act', 'the honor', 'a source', 'relation', 'the prospect', 'the manner', 'this respect', 'the object', 'the removal', 'its citizen', 'no reason', 'an end', 'the destruction']\n"
     ]
    },
    {
     "name": "stdout",
     "output_type": "stream",
     "text": [
      "Networks/global_spacy_cosine_kmeans.png\n"
     ]
    },
    {
     "data": {
      "image/png": "[encoded data removed]",
      "text/plain": [
       "<Figure size 432x288 with 1 Axes>"
      ]
     },
     "metadata": {},
     "output_type": "display_data"
    }
   ],
   "source": [
    "global_kmeans_cosine= ut.network_graph(co_matrix, 'kmeans', nounphrase, 'global', 'cosine')"
   ]
  },
  {
   "cell_type": "markdown",
   "metadata": {},
   "source": [
    "### Before 1914 Corpus"
   ]
  },
  {
   "cell_type": "markdown",
   "metadata": {},
   "source": [
    "First turn the before dictionary into a co-occurrence matrix and create cosine and dissimilarity versions of it"
   ]
  },
  {
   "cell_type": "code",
   "execution_count": 24,
   "metadata": {},
   "outputs": [
    {
     "ename": "NameError",
     "evalue": "name 'before_dict' is not defined",
     "output_type": "error",
     "traceback": [
      "\u001b[0;31m---------------------------------------------------------------------------\u001b[0m",
      "\u001b[0;31mNameError\u001b[0m                                 Traceback (most recent call last)",
      "\u001b[0;32m<ipython-input-24-256105b03e8a>\u001b[0m in \u001b[0;36m<module>\u001b[0;34m\u001b[0m\n\u001b[0;32m----> 1\u001b[0;31m \u001b[0mbefore_occur\u001b[0m \u001b[0;34m=\u001b[0m \u001b[0mut\u001b[0m\u001b[0;34m.\u001b[0m\u001b[0mconvert_dict_to_list\u001b[0m\u001b[0;34m(\u001b[0m\u001b[0mbefore_dict\u001b[0m\u001b[0;34m)\u001b[0m\u001b[0;34m\u001b[0m\u001b[0;34m\u001b[0m\u001b[0m\n\u001b[0m\u001b[1;32m      2\u001b[0m \u001b[0mco_before\u001b[0m \u001b[0;34m=\u001b[0m \u001b[0mut\u001b[0m\u001b[0;34m.\u001b[0m\u001b[0mco_oc_matrix\u001b[0m\u001b[0;34m(\u001b[0m\u001b[0mbefore_occur\u001b[0m\u001b[0;34m,\u001b[0m \u001b[0;32mTrue\u001b[0m\u001b[0;34m,\u001b[0m \u001b[0;32mFalse\u001b[0m\u001b[0;34m)\u001b[0m\u001b[0;34m\u001b[0m\u001b[0;34m\u001b[0m\u001b[0m\n\u001b[1;32m      3\u001b[0m \u001b[0mbefore_cosine\u001b[0m \u001b[0;34m=\u001b[0m \u001b[0mut\u001b[0m\u001b[0;34m.\u001b[0m\u001b[0mpairwise_similarity\u001b[0m\u001b[0;34m(\u001b[0m\u001b[0mco_before\u001b[0m\u001b[0;34m,\u001b[0m \u001b[0;34m'cosine'\u001b[0m\u001b[0;34m)\u001b[0m\u001b[0;34m\u001b[0m\u001b[0;34m\u001b[0m\u001b[0m\n\u001b[1;32m      4\u001b[0m \u001b[0mbefore_paper\u001b[0m \u001b[0;34m=\u001b[0m \u001b[0mut\u001b[0m\u001b[0;34m.\u001b[0m\u001b[0mpairwise_similarity\u001b[0m\u001b[0;34m(\u001b[0m\u001b[0mco_before\u001b[0m\u001b[0;34m,\u001b[0m \u001b[0;34m'paper'\u001b[0m\u001b[0;34m)\u001b[0m\u001b[0;34m\u001b[0m\u001b[0;34m\u001b[0m\u001b[0m\n",
      "\u001b[0;31mNameError\u001b[0m: name 'before_dict' is not defined"
     ]
    }
   ],
   "source": [
    "before_occur = ut.convert_dict_to_list(before_dict)\n",
    "co_before = ut.co_oc_matrix(before_occur, True, False)\n",
    "before_cosine = ut.pairwise_similarity(co_before, 'cosine')\n",
    "before_paper = ut.pairwise_similarity(co_before, 'paper')"
   ]
  },
  {
   "cell_type": "markdown",
   "metadata": {},
   "source": [
    "Create network graph using community detection algorithm and paper dissimilarity"
   ]
  },
  {
   "cell_type": "code",
   "execution_count": 40,
   "metadata": {},
   "outputs": [
    {
     "ename": "NetworkXError",
     "evalue": "Input is not a valid edge list",
     "output_type": "error",
     "traceback": [
      "\u001b[0;31m---------------------------------------------------------------------------\u001b[0m",
      "\u001b[0;31mNetworkXError\u001b[0m                             Traceback (most recent call last)",
      "\u001b[0;32m/Library/Frameworks/Python.framework/Versions/3.7/lib/python3.7/site-packages/networkx/convert.py\u001b[0m in \u001b[0;36mto_networkx_graph\u001b[0;34m(data, create_using, multigraph_input)\u001b[0m\n\u001b[1;32m    113\u001b[0m         \u001b[0;32mtry\u001b[0m\u001b[0;34m:\u001b[0m\u001b[0;34m\u001b[0m\u001b[0;34m\u001b[0m\u001b[0m\n\u001b[0;32m--> 114\u001b[0;31m             \u001b[0;32mreturn\u001b[0m \u001b[0mfrom_edgelist\u001b[0m\u001b[0;34m(\u001b[0m\u001b[0mdata\u001b[0m\u001b[0;34m,\u001b[0m \u001b[0mcreate_using\u001b[0m\u001b[0;34m=\u001b[0m\u001b[0mcreate_using\u001b[0m\u001b[0;34m)\u001b[0m\u001b[0;34m\u001b[0m\u001b[0;34m\u001b[0m\u001b[0m\n\u001b[0m\u001b[1;32m    115\u001b[0m         \u001b[0;32mexcept\u001b[0m\u001b[0;34m:\u001b[0m\u001b[0;34m\u001b[0m\u001b[0;34m\u001b[0m\u001b[0m\n",
      "\u001b[0;32m/Library/Frameworks/Python.framework/Versions/3.7/lib/python3.7/site-packages/networkx/convert.py\u001b[0m in \u001b[0;36mfrom_edgelist\u001b[0;34m(edgelist, create_using)\u001b[0m\n\u001b[1;32m    389\u001b[0m     \u001b[0mG\u001b[0m \u001b[0;34m=\u001b[0m \u001b[0mnx\u001b[0m\u001b[0;34m.\u001b[0m\u001b[0mempty_graph\u001b[0m\u001b[0;34m(\u001b[0m\u001b[0;36m0\u001b[0m\u001b[0;34m,\u001b[0m \u001b[0mcreate_using\u001b[0m\u001b[0;34m)\u001b[0m\u001b[0;34m\u001b[0m\u001b[0;34m\u001b[0m\u001b[0m\n\u001b[0;32m--> 390\u001b[0;31m     \u001b[0mG\u001b[0m\u001b[0;34m.\u001b[0m\u001b[0madd_edges_from\u001b[0m\u001b[0;34m(\u001b[0m\u001b[0medgelist\u001b[0m\u001b[0;34m)\u001b[0m\u001b[0;34m\u001b[0m\u001b[0;34m\u001b[0m\u001b[0m\n\u001b[0m\u001b[1;32m    391\u001b[0m     \u001b[0;32mreturn\u001b[0m \u001b[0mG\u001b[0m\u001b[0;34m\u001b[0m\u001b[0;34m\u001b[0m\u001b[0m\n",
      "\u001b[0;32m/Library/Frameworks/Python.framework/Versions/3.7/lib/python3.7/site-packages/networkx/classes/graph.py\u001b[0m in \u001b[0;36madd_edges_from\u001b[0;34m(self, ebunch_to_add, **attr)\u001b[0m\n\u001b[1;32m    968\u001b[0m                 raise NetworkXError(\n\u001b[0;32m--> 969\u001b[0;31m                     \"Edge tuple %s must be a 2-tuple or 3-tuple.\" % (e,))\n\u001b[0m\u001b[1;32m    970\u001b[0m             \u001b[0;32mif\u001b[0m \u001b[0mu\u001b[0m \u001b[0;32mnot\u001b[0m \u001b[0;32min\u001b[0m \u001b[0mself\u001b[0m\u001b[0;34m.\u001b[0m\u001b[0m_node\u001b[0m\u001b[0;34m:\u001b[0m\u001b[0;34m\u001b[0m\u001b[0;34m\u001b[0m\u001b[0m\n",
      "\u001b[0;31mNetworkXError\u001b[0m: Edge tuple senate must be a 2-tuple or 3-tuple.",
      "\nDuring handling of the above exception, another exception occurred:\n",
      "\u001b[0;31mNetworkXError\u001b[0m                             Traceback (most recent call last)",
      "\u001b[0;32m<ipython-input-40-4ee3ab16bf7e>\u001b[0m in \u001b[0;36m<module>\u001b[0;34m\u001b[0m\n\u001b[0;32m----> 1\u001b[0;31m \u001b[0mbefore_cda_paper\u001b[0m \u001b[0;34m=\u001b[0m \u001b[0mut\u001b[0m\u001b[0;34m.\u001b[0m\u001b[0mnetwork_graph\u001b[0m\u001b[0;34m(\u001b[0m\u001b[0mbefore_paper\u001b[0m\u001b[0;34m,\u001b[0m \u001b[0;34m'community'\u001b[0m\u001b[0;34m,\u001b[0m \u001b[0mnounphrase\u001b[0m\u001b[0;34m,\u001b[0m \u001b[0;34m'before'\u001b[0m\u001b[0;34m,\u001b[0m \u001b[0;34m'paper'\u001b[0m\u001b[0;34m)\u001b[0m\u001b[0;34m\u001b[0m\u001b[0;34m\u001b[0m\u001b[0m\n\u001b[0m",
      "\u001b[0;32m~/Desktop/Grad_School/ML_and_PubPol/SOTU_Project/State-of-the-Unions/utils.py\u001b[0m in \u001b[0;36mnetwork_graph\u001b[0;34m(df, method, nounphrase, timeperiod, similarity)\u001b[0m\n\u001b[1;32m    214\u001b[0m \u001b[0;34m\u001b[0m\u001b[0m\n\u001b[1;32m    215\u001b[0m     \u001b[0;31m# establish graph\u001b[0m\u001b[0;34m\u001b[0m\u001b[0;34m\u001b[0m\u001b[0;34m\u001b[0m\u001b[0m\n\u001b[0;32m--> 216\u001b[0;31m     \u001b[0mgraph\u001b[0m \u001b[0;34m=\u001b[0m \u001b[0mnx\u001b[0m\u001b[0;34m.\u001b[0m\u001b[0mGraph\u001b[0m\u001b[0;34m(\u001b[0m\u001b[0mdf\u001b[0m\u001b[0;34m)\u001b[0m\u001b[0;34m\u001b[0m\u001b[0;34m\u001b[0m\u001b[0m\n\u001b[0m\u001b[1;32m    217\u001b[0m \u001b[0;34m\u001b[0m\u001b[0m\n\u001b[1;32m    218\u001b[0m     \u001b[0medges\u001b[0m\u001b[0;34m,\u001b[0m\u001b[0mweights\u001b[0m \u001b[0;34m=\u001b[0m \u001b[0mzip\u001b[0m\u001b[0;34m(\u001b[0m\u001b[0;34m*\u001b[0m\u001b[0mnx\u001b[0m\u001b[0;34m.\u001b[0m\u001b[0mget_edge_attributes\u001b[0m\u001b[0;34m(\u001b[0m\u001b[0mgraph\u001b[0m\u001b[0;34m,\u001b[0m\u001b[0;34m'weight'\u001b[0m\u001b[0;34m)\u001b[0m\u001b[0;34m.\u001b[0m\u001b[0mitems\u001b[0m\u001b[0;34m(\u001b[0m\u001b[0;34m)\u001b[0m\u001b[0;34m)\u001b[0m\u001b[0;34m\u001b[0m\u001b[0;34m\u001b[0m\u001b[0m\n",
      "\u001b[0;32m/Library/Frameworks/Python.framework/Versions/3.7/lib/python3.7/site-packages/networkx/classes/graph.py\u001b[0m in \u001b[0;36m__init__\u001b[0;34m(self, incoming_graph_data, **attr)\u001b[0m\n\u001b[1;32m    344\u001b[0m         \u001b[0;31m# attempt to load graph with data\u001b[0m\u001b[0;34m\u001b[0m\u001b[0;34m\u001b[0m\u001b[0;34m\u001b[0m\u001b[0m\n\u001b[1;32m    345\u001b[0m         \u001b[0;32mif\u001b[0m \u001b[0mincoming_graph_data\u001b[0m \u001b[0;32mis\u001b[0m \u001b[0;32mnot\u001b[0m \u001b[0;32mNone\u001b[0m\u001b[0;34m:\u001b[0m\u001b[0;34m\u001b[0m\u001b[0;34m\u001b[0m\u001b[0m\n\u001b[0;32m--> 346\u001b[0;31m             \u001b[0mconvert\u001b[0m\u001b[0;34m.\u001b[0m\u001b[0mto_networkx_graph\u001b[0m\u001b[0;34m(\u001b[0m\u001b[0mincoming_graph_data\u001b[0m\u001b[0;34m,\u001b[0m \u001b[0mcreate_using\u001b[0m\u001b[0;34m=\u001b[0m\u001b[0mself\u001b[0m\u001b[0;34m)\u001b[0m\u001b[0;34m\u001b[0m\u001b[0;34m\u001b[0m\u001b[0m\n\u001b[0m\u001b[1;32m    347\u001b[0m         \u001b[0;31m# load graph attributes (must be after convert)\u001b[0m\u001b[0;34m\u001b[0m\u001b[0;34m\u001b[0m\u001b[0;34m\u001b[0m\u001b[0m\n\u001b[1;32m    348\u001b[0m         \u001b[0mself\u001b[0m\u001b[0;34m.\u001b[0m\u001b[0mgraph\u001b[0m\u001b[0;34m.\u001b[0m\u001b[0mupdate\u001b[0m\u001b[0;34m(\u001b[0m\u001b[0mattr\u001b[0m\u001b[0;34m)\u001b[0m\u001b[0;34m\u001b[0m\u001b[0;34m\u001b[0m\u001b[0m\n",
      "\u001b[0;32m/Library/Frameworks/Python.framework/Versions/3.7/lib/python3.7/site-packages/networkx/convert.py\u001b[0m in \u001b[0;36mto_networkx_graph\u001b[0;34m(data, create_using, multigraph_input)\u001b[0m\n\u001b[1;32m    114\u001b[0m             \u001b[0;32mreturn\u001b[0m \u001b[0mfrom_edgelist\u001b[0m\u001b[0;34m(\u001b[0m\u001b[0mdata\u001b[0m\u001b[0;34m,\u001b[0m \u001b[0mcreate_using\u001b[0m\u001b[0;34m=\u001b[0m\u001b[0mcreate_using\u001b[0m\u001b[0;34m)\u001b[0m\u001b[0;34m\u001b[0m\u001b[0;34m\u001b[0m\u001b[0m\n\u001b[1;32m    115\u001b[0m         \u001b[0;32mexcept\u001b[0m\u001b[0;34m:\u001b[0m\u001b[0;34m\u001b[0m\u001b[0;34m\u001b[0m\u001b[0m\n\u001b[0;32m--> 116\u001b[0;31m             \u001b[0;32mraise\u001b[0m \u001b[0mnx\u001b[0m\u001b[0;34m.\u001b[0m\u001b[0mNetworkXError\u001b[0m\u001b[0;34m(\u001b[0m\u001b[0;34m\"Input is not a valid edge list\"\u001b[0m\u001b[0;34m)\u001b[0m\u001b[0;34m\u001b[0m\u001b[0;34m\u001b[0m\u001b[0m\n\u001b[0m\u001b[1;32m    117\u001b[0m \u001b[0;34m\u001b[0m\u001b[0m\n\u001b[1;32m    118\u001b[0m     \u001b[0;31m# Pandas DataFrame\u001b[0m\u001b[0;34m\u001b[0m\u001b[0;34m\u001b[0m\u001b[0;34m\u001b[0m\u001b[0m\n",
      "\u001b[0;31mNetworkXError\u001b[0m: Input is not a valid edge list"
     ]
    }
   ],
   "source": [
    "before_cda_paper = ut.network_graph(before_paper, 'community', nounphrase, 'before', 'paper')"
   ]
  },
  {
   "cell_type": "markdown",
   "metadata": {},
   "source": [
    "Create network graph using community detection algorithm and cosine dissimilarity"
   ]
  },
  {
   "cell_type": "code",
   "execution_count": null,
   "metadata": {},
   "outputs": [],
   "source": [
    "before_cda_cosine = ut.network_graph(before_cosine, 'community', nounphrase, 'before', 'cosine')"
   ]
  },
  {
   "cell_type": "markdown",
   "metadata": {},
   "source": [
    "Create network graph using kmeans and paper dissimilarity"
   ]
  },
  {
   "cell_type": "code",
   "execution_count": null,
   "metadata": {},
   "outputs": [],
   "source": [
    "before_kmeans_paper = ut.network_graph(before_paper, 'kmeans', nounphrase, 'before', 'paper')"
   ]
  },
  {
   "cell_type": "markdown",
   "metadata": {},
   "source": [
    "Create network graph using kmeans and cosine similarity"
   ]
  },
  {
   "cell_type": "code",
   "execution_count": null,
   "metadata": {},
   "outputs": [],
   "source": [
    "before_kmeans_cosine = ut.network_graph(before_cosine, 'kmeans', nounphrase, 'before', 'cosine')"
   ]
  },
  {
   "cell_type": "markdown",
   "metadata": {},
   "source": [
    "### After 1914 Corpus"
   ]
  },
  {
   "cell_type": "markdown",
   "metadata": {},
   "source": [
    "First turn the after dictionary into a co-occurrence matrix and create cosine and dissimilarity versions of it"
   ]
  },
  {
   "cell_type": "code",
   "execution_count": null,
   "metadata": {},
   "outputs": [],
   "source": [
    "after_occur = ut.convert_dict_to_list(after_dict)\n",
    "co_after = ut.co_oc_matrix(after_occur, True, False)\n",
    "after_cosine = ut.pairwise_similarity(co_after, 'cosine')\n",
    "after_paper = ut.pairwise_similarity(co_after, 'paper')"
   ]
  },
  {
   "cell_type": "markdown",
   "metadata": {},
   "source": [
    "Create network graph using community detection algorithm and paper dissimilarity"
   ]
  },
  {
   "cell_type": "code",
   "execution_count": null,
   "metadata": {},
   "outputs": [],
   "source": [
    "after_cda_paper = ut.network_graph(after_paper, 'community', nounphrase, 'after', 'paper')"
   ]
  },
  {
   "cell_type": "markdown",
   "metadata": {},
   "source": [
    "Create network graph using community detection algorithm and cosine dissimilarity"
   ]
  },
  {
   "cell_type": "code",
   "execution_count": null,
   "metadata": {},
   "outputs": [],
   "source": [
    "after_cda_cosine = ut.network_graph(after_cosine, 'community', nounphrase, 'after', 'cosine')"
   ]
  },
  {
   "cell_type": "markdown",
   "metadata": {},
   "source": [
    "Create network graph using kmeans and paper dissimilarity"
   ]
  },
  {
   "cell_type": "code",
   "execution_count": null,
   "metadata": {},
   "outputs": [],
   "source": [
    "after_kmeans_paper = ut.network_graph(after_paper, 'kmeans', nounphrase, 'after', 'paper')"
   ]
  },
  {
   "cell_type": "markdown",
   "metadata": {},
   "source": [
    "Create network graph using kmeans and cosine similarity"
   ]
  },
  {
   "cell_type": "code",
   "execution_count": null,
   "metadata": {},
   "outputs": [],
   "source": [
    "after_kmeans_cosine = ut.network_graph(after_cosine, 'kmeans', nounphrase, 'after', 'cosine')"
   ]
  }
 ],
 "metadata": {
  "kernelspec": {
   "display_name": "Python 3",
   "language": "python",
   "name": "python3"
  },
  "language_info": {
   "codemirror_mode": {
    "name": "ipython",
    "version": 3
   },
   "file_extension": ".py",
   "mimetype": "text/x-python",
   "name": "python",
   "nbconvert_exporter": "python",
   "pygments_lexer": "ipython3",
   "version": "3.7.1"
  }
 },
 "nbformat": 4,
 "nbformat_minor": 2
}
